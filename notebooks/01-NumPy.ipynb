{
 "cells": [
  {
   "cell_type": "markdown",
   "id": "31408196",
   "metadata": {},
   "source": [
    "# NumPy\n",
    "\n",
    "This section offers a quick tour of the *NumPy* library for working with multi-dimensional arrays in *Python*.\n",
    "*NumPy* library has evolved into an essential library for scientific computing in *Python* and has become a building block of many other scientific libraries, such as *SciPy*, *Scikit-learn*, *Pandas*, and others. \n",
    "What makes *NumPy* so particularly attractive to the scientific community is that it provides a convenient *Python* interface for working with multi-dimensional array data structures efficiently; the *NumPy* array data structure is also called `ndarray`, which is short for n-dimensional array.\n",
    "\n",
    "In addition to being mostly implemented in *C* and using *Python* as a \"glue language,\" the main reason why *NumPy* is so efficient for numerical computations is that *NumPy* arrays use contiguous blocks of memory that can be efficiently cached by the CPU. \n",
    "In contrast, *Python* lists are arrays of pointers to objects in random locations in memory, which cannot be easily cached and come with a more expensive memory look-up. \n",
    "However, the computational efficiency and low-memory footprint come at a cost: *NumPy* arrays have a fixed size and are homogeneous, which means that all elements must have the same type. \n",
    "Homogenous `ndarray` objects have the advantage that *NumPy* can carry out operations using efficient *C* loops and avoid expensive type checks and other overheads of the *Python API*. \n",
    "While adding and removing elements from the end of a *Python* list is very efficient, altering the size of a *NumPy* array is very expensive since it requires to create a new array and carry over the contents of the old array that we want to expand or shrink."
   ]
  },
  {
   "cell_type": "code",
   "execution_count": 1,
   "id": "aaebfdf5",
   "metadata": {},
   "outputs": [],
   "source": [
    "import numpy as np\n",
    "import matplotlib.pyplot as plt"
   ]
  },
  {
   "cell_type": "markdown",
   "id": "a1d568e7",
   "metadata": {},
   "source": [
    "## 1. NumPy is Fast!\n",
    "\n",
    "Let us calculate the dot product between two vectors using regular *Python*, and then using *NumPy*:\n",
    "\n",
    "$$ z = \\vec{x}\\vec{w} = \\sum_i x_iw_i $$"
   ]
  },
  {
   "cell_type": "code",
   "execution_count": 2,
   "id": "5d848455",
   "metadata": {},
   "outputs": [
    {
     "name": "stdout",
     "output_type": "stream",
     "text": [
      "8.84 ms ± 291 µs per loop (mean ± std. dev. of 7 runs, 100 loops each)\n",
      "12.7 µs ± 2.05 µs per loop (mean ± std. dev. of 7 runs, 100000 loops each)\n"
     ]
    }
   ],
   "source": [
    "def python_dot_product(x, w):\n",
    "    z = 0\n",
    "    for i in range(len(x)):\n",
    "        z += x[i] * w[i]\n",
    "    return z\n",
    "\n",
    "def numpy_dot_product(x, w):\n",
    "    return x.dot(w)\n",
    "    \n",
    "a = np.random.randint(low = 0, high = 20, size = 10_000)\n",
    "b = np.random.randint(low = 0, high = 20, size = 10_000)\n",
    "\n",
    "%timeit python_dot_product(a, b)\n",
    "%timeit numpy_dot_product(a, b)\n",
    "assert(python_dot_product(a, b) == numpy_dot_product(a, b))"
   ]
  },
  {
   "cell_type": "markdown",
   "id": "bbc3520d",
   "metadata": {},
   "source": [
    "## 2. N-dimensional Arrays"
   ]
  },
  {
   "cell_type": "code",
   "execution_count": 3,
   "id": "5fb3f061",
   "metadata": {},
   "outputs": [
    {
     "data": {
      "text/plain": [
       "array([[1, 2, 3],\n",
       "       [4, 5, 6]])"
      ]
     },
     "metadata": {},
     "output_type": "display_data"
    },
    {
     "data": {
      "text/plain": [
       "dtype('int64')"
      ]
     },
     "metadata": {},
     "output_type": "display_data"
    }
   ],
   "source": [
    "array2d = np.array([[1, 2, 3], [4, 5, 6]])\n",
    "\n",
    "display(array2d, array2d.dtype)"
   ]
  },
  {
   "cell_type": "code",
   "execution_count": 4,
   "id": "39579af0",
   "metadata": {},
   "outputs": [
    {
     "data": {
      "text/plain": [
       "array([[1, 2, 3],\n",
       "       [4, 5, 6]], dtype=int8)"
      ]
     },
     "metadata": {},
     "output_type": "display_data"
    },
    {
     "data": {
      "text/plain": [
       "dtype('int8')"
      ]
     },
     "metadata": {},
     "output_type": "display_data"
    },
    {
     "data": {
      "text/plain": [
       "array([[1., 2., 3.],\n",
       "       [4., 5., 6.]], dtype=float32)"
      ]
     },
     "metadata": {},
     "output_type": "display_data"
    },
    {
     "data": {
      "text/plain": [
       "dtype('float32')"
      ]
     },
     "metadata": {},
     "output_type": "display_data"
    }
   ],
   "source": [
    "array_int8 = array2d.astype(np.int8)\n",
    "display(array_int8, array_int8.dtype)\n",
    "\n",
    "array_float32 = array2d.astype(np.float32)\n",
    "display(array_float32, array_float32.dtype)"
   ]
  },
  {
   "cell_type": "code",
   "execution_count": 5,
   "id": "e481608d",
   "metadata": {},
   "outputs": [
    {
     "name": "stdout",
     "output_type": "stream",
     "text": [
      "Number of elements in ndarray: 6\n",
      "Shape of the ndarray: (2, 3)\n"
     ]
    }
   ],
   "source": [
    "print(f'Number of elements in ndarray: {array2d.size}')\n",
    "print(f'Shape of the ndarray: {array2d.shape}')"
   ]
  },
  {
   "cell_type": "code",
   "execution_count": 6,
   "id": "8cd71fd0",
   "metadata": {},
   "outputs": [
    {
     "name": "stdout",
     "output_type": "stream",
     "text": [
      "Shape of 1-darray: (3,)\n"
     ]
    }
   ],
   "source": [
    "print(f'Shape of 1-darray: {np.array([1, 2, 3]).shape}')"
   ]
  },
  {
   "cell_type": "markdown",
   "id": "8fcad61b",
   "metadata": {},
   "source": [
    "## 3. NumPy Array Construction and Indexing"
   ]
  },
  {
   "cell_type": "code",
   "execution_count": 7,
   "id": "38302b5f",
   "metadata": {},
   "outputs": [
    {
     "data": {
      "text/plain": [
       "array([[1., 1., 1.],\n",
       "       [1., 1., 1.],\n",
       "       [1., 1., 1.]])"
      ]
     },
     "execution_count": 7,
     "metadata": {},
     "output_type": "execute_result"
    }
   ],
   "source": [
    "np.ones(shape = (3, 3))"
   ]
  },
  {
   "cell_type": "code",
   "execution_count": 8,
   "id": "eec483d4",
   "metadata": {},
   "outputs": [
    {
     "data": {
      "text/plain": [
       "array([[2.00632233e-316, 0.00000000e+000, 5.28400063e+005,\n",
       "        4.44388398e+252],\n",
       "       [2.34840919e+251, 1.12038868e+219, 1.17365078e+214,\n",
       "        9.08143507e+223],\n",
       "       [7.49779493e+247, 2.46162802e-154, 4.72094421e+164,\n",
       "        3.85034180e-315]])"
      ]
     },
     "execution_count": 8,
     "metadata": {},
     "output_type": "execute_result"
    }
   ],
   "source": [
    "np.empty(shape = (3, 4)) # initializes the 2d array with empty values"
   ]
  },
  {
   "cell_type": "code",
   "execution_count": 9,
   "id": "608865c5",
   "metadata": {},
   "outputs": [
    {
     "data": {
      "text/plain": [
       "array([[1., 0., 0.],\n",
       "       [0., 1., 0.],\n",
       "       [0., 0., 1.]])"
      ]
     },
     "execution_count": 9,
     "metadata": {},
     "output_type": "execute_result"
    }
   ],
   "source": [
    "np.eye(N = 3) # 1's in the main diagonal"
   ]
  },
  {
   "cell_type": "code",
   "execution_count": 10,
   "id": "234ad8b6",
   "metadata": {},
   "outputs": [
    {
     "data": {
      "text/plain": [
       "array([[3, 0, 0],\n",
       "       [0, 3, 0],\n",
       "       [0, 0, 3]])"
      ]
     },
     "execution_count": 10,
     "metadata": {},
     "output_type": "execute_result"
    }
   ],
   "source": [
    "np.diag(v = (3, 3, 3)) # sets values in the main diagonal"
   ]
  },
  {
   "cell_type": "code",
   "execution_count": 11,
   "id": "b654d81c",
   "metadata": {},
   "outputs": [
    {
     "data": {
      "text/plain": [
       "array([4., 5., 6., 7., 8., 9.])"
      ]
     },
     "execution_count": 11,
     "metadata": {},
     "output_type": "execute_result"
    }
   ],
   "source": [
    "np.arange(start = 4., stop = 10.)"
   ]
  },
  {
   "cell_type": "code",
   "execution_count": 12,
   "id": "ef789655",
   "metadata": {},
   "outputs": [
    {
     "data": {
      "text/plain": [
       "array([4. , 4.5, 5. , 5.5, 6. , 6.5, 7. , 7.5, 8. , 8.5, 9. , 9.5])"
      ]
     },
     "execution_count": 12,
     "metadata": {},
     "output_type": "execute_result"
    }
   ],
   "source": [
    "np.arange(start = 4., stop = 10., step = 0.5)"
   ]
  },
  {
   "cell_type": "code",
   "execution_count": 13,
   "id": "a3d534e0",
   "metadata": {},
   "outputs": [
    {
     "data": {
      "text/plain": [
       "array([0.  , 0.25, 0.5 , 0.75, 1.  ])"
      ]
     },
     "execution_count": 13,
     "metadata": {},
     "output_type": "execute_result"
    }
   ],
   "source": [
    "np.linspace(start = 0., stop = 1., num = 5)"
   ]
  },
  {
   "cell_type": "markdown",
   "id": "5207c7c7",
   "metadata": {},
   "source": [
    "### Indexing"
   ]
  },
  {
   "cell_type": "code",
   "execution_count": 14,
   "id": "8afbaa64",
   "metadata": {},
   "outputs": [
    {
     "data": {
      "text/plain": [
       "array([1, 2, 3, 4, 5])"
      ]
     },
     "metadata": {},
     "output_type": "display_data"
    },
    {
     "data": {
      "text/plain": [
       "1"
      ]
     },
     "metadata": {},
     "output_type": "display_data"
    },
    {
     "data": {
      "text/plain": [
       "5"
      ]
     },
     "metadata": {},
     "output_type": "display_data"
    },
    {
     "data": {
      "text/plain": [
       "array([1, 3, 4])"
      ]
     },
     "metadata": {},
     "output_type": "display_data"
    },
    {
     "data": {
      "text/plain": [
       "array([1, 2, 3])"
      ]
     },
     "metadata": {},
     "output_type": "display_data"
    },
    {
     "data": {
      "text/plain": [
       "array([3, 4, 5])"
      ]
     },
     "metadata": {},
     "output_type": "display_data"
    },
    {
     "data": {
      "text/plain": [
       "array([2, 3])"
      ]
     },
     "metadata": {},
     "output_type": "display_data"
    }
   ],
   "source": [
    "array = np.array([1, 2, 3, 4, 5])\n",
    "\n",
    "display(array)\n",
    "display(array[0], array[-1], array[[0, 2, 3]], array[:3], array[2:], array[1:-2])"
   ]
  },
  {
   "cell_type": "code",
   "execution_count": 15,
   "id": "3042b5f8",
   "metadata": {},
   "outputs": [
    {
     "data": {
      "text/plain": [
       "array([[1, 2, 3],\n",
       "       [4, 5, 6],\n",
       "       [7, 8, 9]])"
      ]
     },
     "metadata": {},
     "output_type": "display_data"
    },
    {
     "data": {
      "text/plain": [
       "array([[5, 6],\n",
       "       [8, 9]])"
      ]
     },
     "metadata": {},
     "output_type": "display_data"
    },
    {
     "data": {
      "text/plain": [
       "array([[4],\n",
       "       [7]])"
      ]
     },
     "metadata": {},
     "output_type": "display_data"
    },
    {
     "data": {
      "text/plain": [
       "1"
      ]
     },
     "metadata": {},
     "output_type": "display_data"
    },
    {
     "data": {
      "text/plain": [
       "9"
      ]
     },
     "metadata": {},
     "output_type": "display_data"
    },
    {
     "data": {
      "text/plain": [
       "array([2, 5, 8])"
      ]
     },
     "metadata": {},
     "output_type": "display_data"
    },
    {
     "data": {
      "text/plain": [
       "array([4, 5, 6])"
      ]
     },
     "metadata": {},
     "output_type": "display_data"
    }
   ],
   "source": [
    "array2d = np.array([[1, 2, 3], [4, 5, 6], [7, 8, 9]])\n",
    "\n",
    "display(array2d)\n",
    "display(array2d[1:, 1:])\n",
    "display(array2d[1:, :1])\n",
    "display(array2d[0][0], array2d[-1][-1], array2d[:, 1], array2d[1, :])"
   ]
  },
  {
   "cell_type": "markdown",
   "id": "f13c2752",
   "metadata": {},
   "source": [
    "## 4. Array Math and Universal Functions"
   ]
  },
  {
   "cell_type": "code",
   "execution_count": 16,
   "id": "b61ddb03",
   "metadata": {},
   "outputs": [
    {
     "data": {
      "text/plain": [
       "array([[1, 2, 3],\n",
       "       [4, 5, 6]])"
      ]
     },
     "metadata": {},
     "output_type": "display_data"
    },
    {
     "data": {
      "text/plain": [
       "array([[2, 3, 4],\n",
       "       [5, 6, 7]])"
      ]
     },
     "metadata": {},
     "output_type": "display_data"
    },
    {
     "data": {
      "text/plain": [
       "array([[ 2,  4,  6],\n",
       "       [ 8, 10, 12]])"
      ]
     },
     "metadata": {},
     "output_type": "display_data"
    },
    {
     "data": {
      "text/plain": [
       "array([[0, 1, 2],\n",
       "       [3, 4, 5]])"
      ]
     },
     "metadata": {},
     "output_type": "display_data"
    },
    {
     "data": {
      "text/plain": [
       "array([[0.5, 1. , 1.5],\n",
       "       [2. , 2.5, 3. ]])"
      ]
     },
     "metadata": {},
     "output_type": "display_data"
    }
   ],
   "source": [
    "array = np.array([[1, 2, 3], [4, 5, 6]])\n",
    "\n",
    "display(array)\n",
    "display(np.add(array, 1))\n",
    "display(np.multiply(array, 2))\n",
    "display(np.subtract(array, 1))\n",
    "display(np.divide(array, 2))"
   ]
  },
  {
   "cell_type": "code",
   "execution_count": 17,
   "id": "723b56ca",
   "metadata": {},
   "outputs": [
    {
     "data": {
      "text/plain": [
       "array([[1, 2, 3],\n",
       "       [4, 5, 6]])"
      ]
     },
     "metadata": {},
     "output_type": "display_data"
    },
    {
     "data": {
      "text/plain": [
       "array([[2, 3, 4],\n",
       "       [5, 6, 7]])"
      ]
     },
     "metadata": {},
     "output_type": "display_data"
    },
    {
     "data": {
      "text/plain": [
       "array([[ 2,  4,  6],\n",
       "       [ 8, 10, 12]])"
      ]
     },
     "metadata": {},
     "output_type": "display_data"
    },
    {
     "data": {
      "text/plain": [
       "array([[0, 1, 2],\n",
       "       [3, 4, 5]])"
      ]
     },
     "metadata": {},
     "output_type": "display_data"
    },
    {
     "data": {
      "text/plain": [
       "array([[0.5, 1. , 1.5],\n",
       "       [2. , 2.5, 3. ]])"
      ]
     },
     "metadata": {},
     "output_type": "display_data"
    }
   ],
   "source": [
    "array = np.array([[1, 2, 3], [4, 5, 6]])\n",
    "\n",
    "display(array)\n",
    "display(array + 1)\n",
    "display(array * 2)\n",
    "display(array - 1)\n",
    "display(array / 2)"
   ]
  },
  {
   "cell_type": "code",
   "execution_count": 18,
   "id": "0f80897c",
   "metadata": {},
   "outputs": [
    {
     "data": {
      "text/plain": [
       "array([[1, 2, 3],\n",
       "       [4, 5, 6]])"
      ]
     },
     "metadata": {},
     "output_type": "display_data"
    },
    {
     "data": {
      "text/plain": [
       "21"
      ]
     },
     "metadata": {},
     "output_type": "display_data"
    },
    {
     "data": {
      "text/plain": [
       "array([5, 7, 9])"
      ]
     },
     "metadata": {},
     "output_type": "display_data"
    },
    {
     "data": {
      "text/plain": [
       "array([ 6, 15])"
      ]
     },
     "metadata": {},
     "output_type": "display_data"
    }
   ],
   "source": [
    "array = np.array([[1, 2, 3], [4, 5, 6]])\n",
    "\n",
    "display(array)\n",
    "display(np.sum(array), np.sum(array, axis = 0), np.sum(array, axis = 1))"
   ]
  },
  {
   "cell_type": "code",
   "execution_count": 19,
   "id": "d823f634",
   "metadata": {},
   "outputs": [
    {
     "data": {
      "text/plain": [
       "array([[1, 2, 3],\n",
       "       [4, 5, 6]])"
      ]
     },
     "metadata": {},
     "output_type": "display_data"
    },
    {
     "data": {
      "text/plain": [
       "array([[1.        , 1.41421356, 1.73205081],\n",
       "       [2.        , 2.23606798, 2.44948974]])"
      ]
     },
     "metadata": {},
     "output_type": "display_data"
    },
    {
     "data": {
      "text/plain": [
       "array([[ 1,  4,  9],\n",
       "       [16, 25, 36]])"
      ]
     },
     "metadata": {},
     "output_type": "display_data"
    },
    {
     "data": {
      "text/plain": [
       "array([[0.        , 0.69314718, 1.09861229],\n",
       "       [1.38629436, 1.60943791, 1.79175947]])"
      ]
     },
     "metadata": {},
     "output_type": "display_data"
    },
    {
     "data": {
      "text/plain": [
       "array([[0.        , 0.30103   , 0.47712125],\n",
       "       [0.60205999, 0.69897   , 0.77815125]])"
      ]
     },
     "metadata": {},
     "output_type": "display_data"
    }
   ],
   "source": [
    "array = np.array([[1, 2, 3], [4, 5, 6]])\n",
    "\n",
    "display(array)\n",
    "display(np.sqrt(array), np.power(array, 2), np.log(array), np.log10(array))"
   ]
  },
  {
   "cell_type": "code",
   "execution_count": 20,
   "id": "00dc0fe5",
   "metadata": {},
   "outputs": [
    {
     "data": {
      "text/plain": [
       "array([ 1,  2,  3,  4,  5,  6,  7,  8,  9, 10])"
      ]
     },
     "metadata": {},
     "output_type": "display_data"
    },
    {
     "data": {
      "text/plain": [
       "55"
      ]
     },
     "metadata": {},
     "output_type": "display_data"
    },
    {
     "data": {
      "text/plain": [
       "5.5"
      ]
     },
     "metadata": {},
     "output_type": "display_data"
    },
    {
     "data": {
      "text/plain": [
       "2.8722813232690143"
      ]
     },
     "metadata": {},
     "output_type": "display_data"
    },
    {
     "data": {
      "text/plain": [
       "1"
      ]
     },
     "metadata": {},
     "output_type": "display_data"
    },
    {
     "data": {
      "text/plain": [
       "10"
      ]
     },
     "metadata": {},
     "output_type": "display_data"
    },
    {
     "data": {
      "text/plain": [
       "0"
      ]
     },
     "metadata": {},
     "output_type": "display_data"
    },
    {
     "data": {
      "text/plain": [
       "9"
      ]
     },
     "metadata": {},
     "output_type": "display_data"
    }
   ],
   "source": [
    "array = np.array([1, 2, 3, 4, 5, 6, 7, 8, 9, 10])\n",
    "\n",
    "display(array)\n",
    "display(np.sum(array), np.mean(array), np.std(array), np.min(array), np.max(array), np.argmin(array), np.argmax(array))"
   ]
  },
  {
   "cell_type": "markdown",
   "id": "88c1af7e",
   "metadata": {},
   "source": [
    "## 5. Advanced Indexing - Memory Views and Copies\n",
    "\n",
    "In the previous sections, we have used basic indexing and slicing routines. \n",
    "It is important to note that basic integer-based indexing and slicing create so-called views of *NumPy* arrays in memory. \n",
    "Working with views can be highly desirable since it avoids making unnecessary copies of arrays to save memory resources. \n",
    "To illustrate the concept of memory views, let us walk through a simple example where we access the first row in an array, assign it to a variable, and modify that variable:"
   ]
  },
  {
   "cell_type": "code",
   "execution_count": 21,
   "id": "9919cf43",
   "metadata": {},
   "outputs": [
    {
     "data": {
      "text/plain": [
       "array([[100, 101, 102],\n",
       "       [  4,   5,   6]])"
      ]
     },
     "metadata": {},
     "output_type": "display_data"
    },
    {
     "data": {
      "text/plain": [
       "array([100, 101, 102])"
      ]
     },
     "metadata": {},
     "output_type": "display_data"
    }
   ],
   "source": [
    "array = np.array([[1, 2, 3], [4, 5, 6]])\n",
    "\n",
    "first_row  = array[0]\n",
    "first_row += 99\n",
    "\n",
    "display(array, first_row)"
   ]
  },
  {
   "cell_type": "markdown",
   "id": "a536673b",
   "metadata": {},
   "source": [
    "As we can see in the example above, changing the value of `first_row` also affected the original array. \n",
    "The reason for this is that `array[0]` created a view of the first row in `array`, and its elements were then incremented by `99`. \n",
    "The same concept applies to slicing operations:"
   ]
  },
  {
   "cell_type": "markdown",
   "id": "668a21d7",
   "metadata": {},
   "source": [
    "If we are working with *NumPy* arrays, it is always important to be aware that slicing creates views - sometimes it is desirable since it can speed up our code by avoiding to create unnecessary copies in memory. \n",
    "However, in certain scenarios we want force a copy of an array; we can do this via the copy method as shown below:"
   ]
  },
  {
   "cell_type": "code",
   "execution_count": 22,
   "id": "7258eb7a",
   "metadata": {},
   "outputs": [
    {
     "data": {
      "text/plain": [
       "array([[1, 2, 3],\n",
       "       [4, 5, 6]])"
      ]
     },
     "metadata": {},
     "output_type": "display_data"
    },
    {
     "data": {
      "text/plain": [
       "array([103, 104, 105])"
      ]
     },
     "metadata": {},
     "output_type": "display_data"
    }
   ],
   "source": [
    "array = np.array([[1, 2, 3], [4, 5, 6]])\n",
    "\n",
    "second_row  = array[1].copy()\n",
    "second_row += 99\n",
    "\n",
    "display(array, second_row)"
   ]
  },
  {
   "cell_type": "markdown",
   "id": "167dcad5",
   "metadata": {},
   "source": [
    "In addition to basic single-integer indexing and slicing operations, *NumPy* supports advanced indexing routines called *fancy indexing*. \n",
    "Via fancy indexing, we can use tuple or list objects of non-contiguous integer indices to return desired array elements. \n",
    "Since fancy indexing can be performed with non-contiguous sequences, it cannot return a view - a contiguous slice from memory. \n",
    "Thus, fancy indexing always returns a copy of an array - it is important to keep that in mind. \n",
    "The following code snippets show some fancy indexing examples:"
   ]
  },
  {
   "cell_type": "code",
   "execution_count": 23,
   "id": "d6fe9df7",
   "metadata": {},
   "outputs": [
    {
     "data": {
      "text/plain": [
       "array([[1, 2, 3],\n",
       "       [4, 5, 6]])"
      ]
     },
     "metadata": {},
     "output_type": "display_data"
    },
    {
     "data": {
      "text/plain": [
       "array([[1, 3],\n",
       "       [4, 6]])"
      ]
     },
     "metadata": {},
     "output_type": "display_data"
    }
   ],
   "source": [
    "array = np.array([[1, 2, 3], [4, 5, 6]])\n",
    "\n",
    "display(array)\n",
    "display(array[:, [0, 2]])"
   ]
  },
  {
   "cell_type": "code",
   "execution_count": 24,
   "id": "3e97fd47",
   "metadata": {},
   "outputs": [
    {
     "data": {
      "text/plain": [
       "array([[1, 2, 3],\n",
       "       [4, 5, 6]])"
      ]
     },
     "metadata": {},
     "output_type": "display_data"
    },
    {
     "data": {
      "text/plain": [
       "array([[1, 3, 2],\n",
       "       [4, 6, 5]])"
      ]
     },
     "metadata": {},
     "output_type": "display_data"
    },
    {
     "data": {
      "text/plain": [
       "array([[1, 2, 3],\n",
       "       [4, 5, 6]])"
      ]
     },
     "metadata": {},
     "output_type": "display_data"
    },
    {
     "data": {
      "text/plain": [
       "array([[11, 13, 12],\n",
       "       [14, 16, 15]])"
      ]
     },
     "metadata": {},
     "output_type": "display_data"
    }
   ],
   "source": [
    "array = np.array([[1, 2, 3], [4, 5, 6]])\n",
    "this_is_a_copy = array[:, [0, 2, 1]]\n",
    "\n",
    "display(array)\n",
    "display(this_is_a_copy)\n",
    "\n",
    "this_is_a_copy = this_is_a_copy + 10\n",
    "\n",
    "display(array)\n",
    "display(this_is_a_copy)"
   ]
  },
  {
   "cell_type": "markdown",
   "id": "a66e2434",
   "metadata": {},
   "source": [
    "Finally, we can also use Boolean masks for indexing - that is, arrays of `True` and `False` values. \n",
    "Consider the following example, where we return all values in the array that are greater than `3`:"
   ]
  },
  {
   "cell_type": "code",
   "execution_count": 25,
   "id": "fdca8a92",
   "metadata": {},
   "outputs": [
    {
     "data": {
      "text/plain": [
       "array([[1, 2, 3],\n",
       "       [4, 5, 6]])"
      ]
     },
     "metadata": {},
     "output_type": "display_data"
    },
    {
     "data": {
      "text/plain": [
       "array([[False, False, False],\n",
       "       [ True,  True,  True]])"
      ]
     },
     "metadata": {},
     "output_type": "display_data"
    },
    {
     "data": {
      "text/plain": [
       "array([4, 5, 6])"
      ]
     },
     "metadata": {},
     "output_type": "display_data"
    }
   ],
   "source": [
    "array = np.array([[1, 2, 3], [4, 5, 6]])\n",
    "greater3_mask = array > 3\n",
    "\n",
    "display(array)\n",
    "display(greater3_mask)\n",
    "display(array[greater3_mask])"
   ]
  },
  {
   "cell_type": "markdown",
   "id": "285e9c75",
   "metadata": {},
   "source": [
    "We can also chain different selection criteria using the logical and operator `&` or the logical or operator `|`.\n",
    "The example below demonstrates how we can select array elements that are greater than `3` and divisible by `2`:"
   ]
  },
  {
   "cell_type": "code",
   "execution_count": 26,
   "id": "9f4712cb",
   "metadata": {},
   "outputs": [
    {
     "data": {
      "text/plain": [
       "array([4, 6])"
      ]
     },
     "metadata": {},
     "output_type": "display_data"
    }
   ],
   "source": [
    "array = np.array([[1, 2, 3], [4, 5, 6]])\n",
    "\n",
    "display(array[(array > 3) & (array % 2 == 0)])"
   ]
  },
  {
   "cell_type": "markdown",
   "id": "bb3ac74d",
   "metadata": {},
   "source": [
    "Note that indexing using Boolean arrays is also considered \"fancy indexing\" and thus returns a copy of the array."
   ]
  },
  {
   "cell_type": "markdown",
   "id": "b38573a4",
   "metadata": {},
   "source": [
    "## 6. Random Number Generators"
   ]
  },
  {
   "cell_type": "code",
   "execution_count": 27,
   "id": "f5e1b910",
   "metadata": {},
   "outputs": [
    {
     "data": {
      "text/plain": [
       "array([19, 11, 13, 18, 19, 18, 18, 18, 12, 18])"
      ]
     },
     "execution_count": 27,
     "metadata": {},
     "output_type": "execute_result"
    }
   ],
   "source": [
    "np.random.randint(low = 10, high = 20, size = 10)"
   ]
  },
  {
   "cell_type": "code",
   "execution_count": 28,
   "id": "a0b81332",
   "metadata": {},
   "outputs": [
    {
     "data": {
      "text/plain": [
       "array([[-1.74976547,  0.3426804 ],\n",
       "       [ 1.1530358 , -0.25243604]])"
      ]
     },
     "metadata": {},
     "output_type": "display_data"
    },
    {
     "data": {
      "text/plain": [
       "array([4, 2, 5, 2, 2, 2, 1, 0, 8, 4])"
      ]
     },
     "metadata": {},
     "output_type": "display_data"
    }
   ],
   "source": [
    "rng = np.random.RandomState(100)\n",
    "\n",
    "display(rng.randn(2, 2), rng.randint(low = 0, high = 10, size = 10))"
   ]
  },
  {
   "cell_type": "markdown",
   "id": "6fb930b3",
   "metadata": {},
   "source": [
    "## 7. Reshaping Arrays"
   ]
  },
  {
   "cell_type": "code",
   "execution_count": 29,
   "id": "99455d16",
   "metadata": {},
   "outputs": [
    {
     "data": {
      "text/plain": [
       "array([1, 2, 3, 4, 5, 6])"
      ]
     },
     "metadata": {},
     "output_type": "display_data"
    },
    {
     "data": {
      "text/plain": [
       "array([[1, 2, 3],\n",
       "       [4, 5, 6]])"
      ]
     },
     "metadata": {},
     "output_type": "display_data"
    }
   ],
   "source": [
    "array = np.array([1, 2, 3, 4, 5, 6])\n",
    "array2d_view = array.reshape(2, 3)\n",
    "\n",
    "display(array)\n",
    "display(array2d_view)"
   ]
  },
  {
   "cell_type": "code",
   "execution_count": 30,
   "id": "f4500f97",
   "metadata": {},
   "outputs": [
    {
     "data": {
      "text/plain": [
       "array([1, 2, 3, 4, 5, 6])"
      ]
     },
     "metadata": {},
     "output_type": "display_data"
    }
   ],
   "source": [
    "array2d = np.array([[1, 2, 3], [4, 5, 6]])\n",
    "array_flattened = array2d.reshape(-1)\n",
    "\n",
    "display(array_flattened)"
   ]
  },
  {
   "cell_type": "code",
   "execution_count": 31,
   "id": "ff72e24b",
   "metadata": {},
   "outputs": [
    {
     "data": {
      "text/plain": [
       "array([1, 2, 3, 4, 5, 6])"
      ]
     },
     "metadata": {},
     "output_type": "display_data"
    },
    {
     "data": {
      "text/plain": [
       "array([[1, 2, 3],\n",
       "       [4, 5, 6]])"
      ]
     },
     "metadata": {},
     "output_type": "display_data"
    },
    {
     "data": {
      "text/plain": [
       "array([1, 2, 3, 4, 5, 6])"
      ]
     },
     "metadata": {},
     "output_type": "display_data"
    },
    {
     "data": {
      "text/plain": [
       "array([[1, 4],\n",
       "       [2, 5],\n",
       "       [3, 6]])"
      ]
     },
     "metadata": {},
     "output_type": "display_data"
    }
   ],
   "source": [
    "array_1 = np.array([1, 2, 3])\n",
    "array_2 = np.array([4, 5, 6])\n",
    "\n",
    "display(np.concatenate((array_1, array_2)))\n",
    "display(np.vstack((array_1, array_2)))\n",
    "display(np.hstack((array_1, array_2)))\n",
    "display(np.hstack((array_1.reshape(-1, 1), array_2.reshape(-1, 1))))"
   ]
  },
  {
   "cell_type": "markdown",
   "id": "a6ac6ca2",
   "metadata": {},
   "source": [
    "## 8. Linear Algebra with NumPy Arrays\n",
    "\n",
    "Intuitively, we can think of one-dimensional *NumPy* arrays as data structures that represent row vectors:"
   ]
  },
  {
   "cell_type": "code",
   "execution_count": 32,
   "id": "4581e75f",
   "metadata": {},
   "outputs": [
    {
     "data": {
      "text/plain": [
       "array([1, 2, 3])"
      ]
     },
     "metadata": {},
     "output_type": "display_data"
    }
   ],
   "source": [
    "row_vector = np.array([1, 2, 3])\n",
    "\n",
    "display(row_vector)"
   ]
  },
  {
   "cell_type": "markdown",
   "id": "a46ff573",
   "metadata": {},
   "source": [
    "Similarly, we can use two-dimensional arrays to create column vectors:"
   ]
  },
  {
   "cell_type": "code",
   "execution_count": 33,
   "id": "d4c9622c",
   "metadata": {},
   "outputs": [
    {
     "data": {
      "text/plain": [
       "array([[1],\n",
       "       [2],\n",
       "       [3]])"
      ]
     },
     "metadata": {},
     "output_type": "display_data"
    }
   ],
   "source": [
    "column_vector = np.array([[1, 2, 3]]).reshape(-1, 1)\n",
    "\n",
    "display(column_vector)"
   ]
  },
  {
   "cell_type": "markdown",
   "id": "12581f25",
   "metadata": {},
   "source": [
    "Instead of reshaping a one-dimensional array into a two-dimensional one, we can simply add a new axis as shown below:"
   ]
  },
  {
   "cell_type": "code",
   "execution_count": 34,
   "id": "1842d307",
   "metadata": {},
   "outputs": [
    {
     "data": {
      "text/plain": [
       "array([[1],\n",
       "       [2],\n",
       "       [3]])"
      ]
     },
     "execution_count": 34,
     "metadata": {},
     "output_type": "execute_result"
    }
   ],
   "source": [
    "row_vector[:, np.newaxis]"
   ]
  },
  {
   "cell_type": "markdown",
   "id": "3fc9d33e",
   "metadata": {},
   "source": [
    "These two approaches listed above, using `reshape(-1, 1)`, `np.newaxis`, yield the same results - all three approaches create views not copies of the row_vector array."
   ]
  },
  {
   "cell_type": "code",
   "execution_count": 35,
   "id": "8cf9bb5b",
   "metadata": {},
   "outputs": [
    {
     "data": {
      "text/plain": [
       "array([[2],\n",
       "       [3],\n",
       "       [4]])"
      ]
     },
     "metadata": {},
     "output_type": "display_data"
    }
   ],
   "source": [
    "vector_view = row_vector[:, np.newaxis]\n",
    "vector_view += 1\n",
    "\n",
    "display(vector_view)"
   ]
  },
  {
   "cell_type": "code",
   "execution_count": 36,
   "id": "4a1a505c",
   "metadata": {},
   "outputs": [
    {
     "data": {
      "text/plain": [
       "array([[14],\n",
       "       [32]])"
      ]
     },
     "metadata": {},
     "output_type": "display_data"
    }
   ],
   "source": [
    "column_vector = np.array([1, 2, 3]).reshape(-1, 1)\n",
    "matrix = np.array([[1, 2, 3], [4, 5, 6]])\n",
    "\n",
    "display(np.matmul(matrix, column_vector)) # matrix multiplicatin"
   ]
  },
  {
   "cell_type": "code",
   "execution_count": 37,
   "id": "5b67752c",
   "metadata": {},
   "outputs": [
    {
     "data": {
      "text/plain": [
       "array([14])"
      ]
     },
     "metadata": {},
     "output_type": "display_data"
    },
    {
     "data": {
      "text/plain": [
       "array([14])"
      ]
     },
     "metadata": {},
     "output_type": "display_data"
    }
   ],
   "source": [
    "row_vector = np.array([1, 2, 3])\n",
    "column_vector = np.array([1, 2, 3]).reshape(-1, 1)\n",
    "\n",
    "display(np.dot(row_vector, column_vector), row_vector@column_vector)"
   ]
  },
  {
   "cell_type": "code",
   "execution_count": 38,
   "id": "68213394",
   "metadata": {},
   "outputs": [
    {
     "data": {
      "text/plain": [
       "array([[1, 4],\n",
       "       [2, 5],\n",
       "       [3, 6]])"
      ]
     },
     "execution_count": 38,
     "metadata": {},
     "output_type": "execute_result"
    }
   ],
   "source": [
    "matrix.transpose()"
   ]
  },
  {
   "cell_type": "code",
   "execution_count": 39,
   "id": "efc63e7c",
   "metadata": {},
   "outputs": [
    {
     "data": {
      "text/plain": [
       "array([[14, 32],\n",
       "       [32, 77]])"
      ]
     },
     "metadata": {},
     "output_type": "display_data"
    }
   ],
   "source": [
    "transpose = matrix.T\n",
    "\n",
    "display(matrix @ transpose) # another way to execute matrix multiplication"
   ]
  },
  {
   "cell_type": "markdown",
   "id": "4e822a15",
   "metadata": {},
   "source": [
    "## 9. Matplotlib"
   ]
  },
  {
   "cell_type": "code",
   "execution_count": 40,
   "id": "7bce02da",
   "metadata": {},
   "outputs": [
    {
     "data": {
      "image/png": "[encoded data removed]",
      "text/plain": [
       "<Figure size 1368x504 with 1 Axes>"
      ]
     },
     "metadata": {
      "needs_background": "light"
     },
     "output_type": "display_data"
    }
   ],
   "source": [
    "figure, axes = plt.subplots(nrows = 1, ncols = 1, figsize = (19, 7))\n",
    "\n",
    "x = np.linspace(start = 0, stop = 10, num = 80)\n",
    "\n",
    "axes.plot(x, np.sin(x), label=('sin(x)'))\n",
    "axes.scatter(x, np.sin(x), marker = 's')\n",
    "axes.plot(x, np.cos(x), label=('cos(x)'))\n",
    "axes.scatter(x, np.cos(x), marker = '^')\n",
    "\n",
    "axes.set_xlim(left = 0, right = 10)\n",
    "axes.set_ylim(bottom = -2, top = 2)\n",
    "\n",
    "axes.set_xlabel('X - label', fontsize = 15)\n",
    "axes.set_ylabel('Y - label', fontsize = 15)\n",
    "\n",
    "axes.legend(fontsize = 15)\n",
    "axes.set_title('Matplotlib Example', fontsize = 15)\n",
    "\n",
    "plt.show()"
   ]
  },
  {
   "cell_type": "code",
   "execution_count": 41,
   "id": "52a9951f",
   "metadata": {},
   "outputs": [
    {
     "data": {
      "image/png": "[encoded data removed]",
      "text/plain": [
       "<Figure size 1368x504 with 2 Axes>"
      ]
     },
     "metadata": {
      "needs_background": "light"
     },
     "output_type": "display_data"
    }
   ],
   "source": [
    "figure, axes = plt.subplots(nrows = 1, ncols = 2, figsize = (19, 7))\n",
    "\n",
    "rng = np.random.RandomState(123)\n",
    "x = rng.normal(loc = 1, scale = 2, size=500)\n",
    "y = rng.normal(loc = 2, scale = 4, size=500)\n",
    "\n",
    "axes[0].scatter(x, y)\n",
    "axes[0].set_xlabel('X - label', fontsize = 15)\n",
    "axes[0].set_ylabel('Y - label', fontsize = 15)\n",
    "\n",
    "means = [1, 2, 3]\n",
    "stddevs = [0.2, 0.4, 0.5]\n",
    "bar_labels = ['bar 1', 'bar 2', 'bar 3']\n",
    "\n",
    "\n",
    "# plot bars\n",
    "x_pos = list(range(len(bar_labels)))\n",
    "\n",
    "axes[1].bar(x_pos, means, yerr = stddevs)\n",
    "axes[1].set_xlabel('X - label', fontsize = 15)\n",
    "axes[1].set_ylabel('Y - label', fontsize = 15)\n",
    "\n",
    "plt.show()"
   ]
  },
  {
   "cell_type": "code",
   "execution_count": 42,
   "id": "ca64c9ac",
   "metadata": {},
   "outputs": [
    {
     "data": {
      "image/png": "[encoded data removed]",
      "text/plain": [
       "<Figure size 1368x504 with 1 Axes>"
      ]
     },
     "metadata": {
      "needs_background": "light"
     },
     "output_type": "display_data"
    }
   ],
   "source": [
    "figure, axes = plt.subplots(nrows = 1, ncols = 1, figsize = (19, 7))\n",
    "\n",
    "rng = np.random.RandomState(123)\n",
    "x1 = rng.normal(0, 20, 1000) \n",
    "x2 = rng.normal(15, 10, 1000)\n",
    "\n",
    "bins = np.arange(-100, 100, 5) # fixed bin size\n",
    "\n",
    "axes.hist(x1, bins=bins, alpha=0.55, label = 'x1')\n",
    "axes.hist(x2, bins=bins, alpha=0.55, label = 'x2')\n",
    "\n",
    "axes.set_xlabel('X - label', fontsize = 15)\n",
    "axes.set_ylabel('Y - label', fontsize = 15)\n",
    "\n",
    "axes.legend(fontsize = 15)\n",
    "\n",
    "plt.show()"
   ]
  }
 ],
 "metadata": {
  "kernelspec": {
   "display_name": "Python 3 (ipykernel)",
   "language": "python",
   "name": "python3"
  },
  "language_info": {
   "codemirror_mode": {
    "name": "ipython",
    "version": 3
   },
   "file_extension": ".py",
   "mimetype": "text/x-python",
   "name": "python",
   "nbconvert_exporter": "python",
   "pygments_lexer": "ipython3",
   "version": "3.8.10"
  }
 },
 "nbformat": 4,
 "nbformat_minor": 5
}
