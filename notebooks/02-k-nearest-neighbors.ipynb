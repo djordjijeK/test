{
 "cells": [
  {
   "cell_type": "markdown",
   "id": "4185e6d9",
   "metadata": {},
   "source": [
    "# k-Nearest Neighbors\n",
    "\n",
    "**k-nearest neighbors (kNN)** is a type of *supervised learning* algorithm used for both regression and classification. \n",
    "kNN tries to predict the correct class / target value for the test data by calculating the distance between the test data and all the training points. \n",
    "Then, it selects the `k` number of points which are closest to the test data. \n",
    "In the case of classification, it takes the majority class as a prediction amongst the `k` nearest training examples.\n",
    "In the case of regression, the predicted target value is the mean of the `k` selected training points.\n",
    "\n",
    "![knn-example](http://res.cloudinary.com/dyd911kmh/image/upload/f_auto,q_auto:best/v1531424125/KNN_final1_ibdm8a.png)"
   ]
  },
  {
   "cell_type": "code",
   "execution_count": 1,
   "id": "b0509918",
   "metadata": {},
   "outputs": [],
   "source": [
    "import numpy as np\n",
    "import pandas as pd\n",
    "import matplotlib.pyplot as plt"
   ]
  },
  {
   "cell_type": "code",
   "execution_count": 2,
   "id": "b01cac37",
   "metadata": {},
   "outputs": [],
   "source": [
    "plt.style.use('ggplot')  # use ggplot styles for matplotlib figures\n",
    "\n",
    "color_palette = {\n",
    "     'crimson': '#a50026', \n",
    "     'red': '#d73027',\n",
    "     'redorange': '#f46d43', \n",
    "     'orange': '#fdae61',\n",
    "     'yellow': '#fee090', \n",
    "     'sky': '#e0f3f8',\n",
    "     'babyblue': '#abd9e9', \n",
    "     'lightblue': '#74add1',\n",
    "     'blue': '#4575b4', \n",
    "     'purple': '#313695'\n",
    "}"
   ]
  },
  {
   "cell_type": "code",
   "execution_count": 3,
   "id": "d3a3ed4b",
   "metadata": {},
   "outputs": [],
   "source": [
    "PATH = '../data/iris.csv'"
   ]
  },
  {
   "cell_type": "code",
   "execution_count": 4,
   "id": "891ecb3f",
   "metadata": {},
   "outputs": [
    {
     "name": "stdout",
     "output_type": "stream",
     "text": [
      "iris.csv  rent.csv\n",
      "150 ../data/iris.csv\n",
      "8,0K\t../data/iris.csv\n"
     ]
    }
   ],
   "source": [
    "!ls '../data'  # to execute bash command in the notebook we are using '!' mark\n",
    "!wc -l {PATH}  # we can even use python variables but we need '{' '}' braces\n",
    "!du -h {PATH}"
   ]
  },
  {
   "cell_type": "code",
   "execution_count": 5,
   "id": "711e51ea",
   "metadata": {},
   "outputs": [
    {
     "name": "stdout",
     "output_type": "stream",
     "text": [
      "Id,SepalLength[cm],SepalWidth[cm],PetalLength[cm],PetalWidth[cm],Species\r\n",
      "1,5.1,3.5,1.4,0.2,Iris-setosa\r\n",
      "2,4.9,3.0,1.4,0.2,Iris-setosa\r\n",
      "3,4.7,3.2,1.3,0.2,Iris-setosa\r\n",
      "4,4.6,3.1,1.5,0.2,Iris-setosa\r\n"
     ]
    }
   ],
   "source": [
    "!head -n 5 {PATH} # shows first 5 file rows"
   ]
  },
  {
   "cell_type": "code",
   "execution_count": 6,
   "id": "0b2a9f3d",
   "metadata": {},
   "outputs": [
    {
     "name": "stdout",
     "output_type": "stream",
     "text": [
      "146,6.7,3.0,5.2,2.3,Iris-virginica\r\n",
      "147,6.3,2.5,5.0,1.9,Iris-virginica\r\n",
      "148,6.5,3.0,5.2,2.0,Iris-virginica\r\n",
      "149,6.2,3.4,5.4,2.3,Iris-virginica\r\n",
      "150,5.9,3.0,5.1,1.8,Iris-virginica"
     ]
    }
   ],
   "source": [
    "!tail -n 5 {PATH} # shows last 5 file rows"
   ]
  },
  {
   "cell_type": "markdown",
   "id": "0c42e912",
   "metadata": {},
   "source": [
    "## A. k-Nearest Neighbors in `sklearn`"
   ]
  },
  {
   "cell_type": "code",
   "execution_count": 7,
   "id": "1aa601f8",
   "metadata": {},
   "outputs": [],
   "source": [
    "from sklearn.neighbors import KNeighborsClassifier\n",
    "from sklearn.model_selection import train_test_split"
   ]
  },
  {
   "cell_type": "markdown",
   "id": "0e73600d",
   "metadata": {},
   "source": [
    "### A.1 Loading and Inspecting Data"
   ]
  },
  {
   "cell_type": "code",
   "execution_count": 8,
   "id": "ea22072d",
   "metadata": {},
   "outputs": [
    {
     "data": {
      "text/html": [
       "<div>\n",
       "<style scoped>\n",
       "    .dataframe tbody tr th:only-of-type {\n",
       "        vertical-align: middle;\n",
       "    }\n",
       "\n",
       "    .dataframe tbody tr th {\n",
       "        vertical-align: top;\n",
       "    }\n",
       "\n",
       "    .dataframe thead th {\n",
       "        text-align: right;\n",
       "    }\n",
       "</style>\n",
       "<table border=\"1\" class=\"dataframe\">\n",
       "  <thead>\n",
       "    <tr style=\"text-align: right;\">\n",
       "      <th></th>\n",
       "      <th>Id</th>\n",
       "      <th>SepalLength[cm]</th>\n",
       "      <th>SepalWidth[cm]</th>\n",
       "      <th>PetalLength[cm]</th>\n",
       "      <th>PetalWidth[cm]</th>\n",
       "      <th>Species</th>\n",
       "    </tr>\n",
       "  </thead>\n",
       "  <tbody>\n",
       "    <tr>\n",
       "      <th>0</th>\n",
       "      <td>1</td>\n",
       "      <td>5.1</td>\n",
       "      <td>3.5</td>\n",
       "      <td>1.4</td>\n",
       "      <td>0.2</td>\n",
       "      <td>Iris-setosa</td>\n",
       "    </tr>\n",
       "    <tr>\n",
       "      <th>1</th>\n",
       "      <td>2</td>\n",
       "      <td>4.9</td>\n",
       "      <td>3.0</td>\n",
       "      <td>1.4</td>\n",
       "      <td>0.2</td>\n",
       "      <td>Iris-setosa</td>\n",
       "    </tr>\n",
       "    <tr>\n",
       "      <th>2</th>\n",
       "      <td>3</td>\n",
       "      <td>4.7</td>\n",
       "      <td>3.2</td>\n",
       "      <td>1.3</td>\n",
       "      <td>0.2</td>\n",
       "      <td>Iris-setosa</td>\n",
       "    </tr>\n",
       "    <tr>\n",
       "      <th>3</th>\n",
       "      <td>4</td>\n",
       "      <td>4.6</td>\n",
       "      <td>3.1</td>\n",
       "      <td>1.5</td>\n",
       "      <td>0.2</td>\n",
       "      <td>Iris-setosa</td>\n",
       "    </tr>\n",
       "    <tr>\n",
       "      <th>4</th>\n",
       "      <td>5</td>\n",
       "      <td>5.0</td>\n",
       "      <td>3.6</td>\n",
       "      <td>1.4</td>\n",
       "      <td>0.2</td>\n",
       "      <td>Iris-setosa</td>\n",
       "    </tr>\n",
       "  </tbody>\n",
       "</table>\n",
       "</div>"
      ],
      "text/plain": [
       "   Id  SepalLength[cm]  SepalWidth[cm]  PetalLength[cm]  PetalWidth[cm]  \\\n",
       "0   1              5.1             3.5              1.4             0.2   \n",
       "1   2              4.9             3.0              1.4             0.2   \n",
       "2   3              4.7             3.2              1.3             0.2   \n",
       "3   4              4.6             3.1              1.5             0.2   \n",
       "4   5              5.0             3.6              1.4             0.2   \n",
       "\n",
       "       Species  \n",
       "0  Iris-setosa  \n",
       "1  Iris-setosa  \n",
       "2  Iris-setosa  \n",
       "3  Iris-setosa  \n",
       "4  Iris-setosa  "
      ]
     },
     "execution_count": 8,
     "metadata": {},
     "output_type": "execute_result"
    }
   ],
   "source": [
    "data_frame_iris = pd.read_csv(filepath_or_buffer = PATH)\n",
    "data_frame_iris.head() # shows first 5 rows"
   ]
  },
  {
   "cell_type": "code",
   "execution_count": 9,
   "id": "f98566b9",
   "metadata": {},
   "outputs": [
    {
     "data": {
      "text/html": [
       "<div>\n",
       "<style scoped>\n",
       "    .dataframe tbody tr th:only-of-type {\n",
       "        vertical-align: middle;\n",
       "    }\n",
       "\n",
       "    .dataframe tbody tr th {\n",
       "        vertical-align: top;\n",
       "    }\n",
       "\n",
       "    .dataframe thead th {\n",
       "        text-align: right;\n",
       "    }\n",
       "</style>\n",
       "<table border=\"1\" class=\"dataframe\">\n",
       "  <thead>\n",
       "    <tr style=\"text-align: right;\">\n",
       "      <th></th>\n",
       "      <th>Id</th>\n",
       "      <th>SepalLength[cm]</th>\n",
       "      <th>SepalWidth[cm]</th>\n",
       "      <th>PetalLength[cm]</th>\n",
       "      <th>PetalWidth[cm]</th>\n",
       "      <th>Species</th>\n",
       "      <th>ClassLabels</th>\n",
       "    </tr>\n",
       "  </thead>\n",
       "  <tbody>\n",
       "    <tr>\n",
       "      <th>145</th>\n",
       "      <td>146</td>\n",
       "      <td>6.7</td>\n",
       "      <td>3.0</td>\n",
       "      <td>5.2</td>\n",
       "      <td>2.3</td>\n",
       "      <td>Iris-virginica</td>\n",
       "      <td>2</td>\n",
       "    </tr>\n",
       "    <tr>\n",
       "      <th>146</th>\n",
       "      <td>147</td>\n",
       "      <td>6.3</td>\n",
       "      <td>2.5</td>\n",
       "      <td>5.0</td>\n",
       "      <td>1.9</td>\n",
       "      <td>Iris-virginica</td>\n",
       "      <td>2</td>\n",
       "    </tr>\n",
       "    <tr>\n",
       "      <th>147</th>\n",
       "      <td>148</td>\n",
       "      <td>6.5</td>\n",
       "      <td>3.0</td>\n",
       "      <td>5.2</td>\n",
       "      <td>2.0</td>\n",
       "      <td>Iris-virginica</td>\n",
       "      <td>2</td>\n",
       "    </tr>\n",
       "    <tr>\n",
       "      <th>148</th>\n",
       "      <td>149</td>\n",
       "      <td>6.2</td>\n",
       "      <td>3.4</td>\n",
       "      <td>5.4</td>\n",
       "      <td>2.3</td>\n",
       "      <td>Iris-virginica</td>\n",
       "      <td>2</td>\n",
       "    </tr>\n",
       "    <tr>\n",
       "      <th>149</th>\n",
       "      <td>150</td>\n",
       "      <td>5.9</td>\n",
       "      <td>3.0</td>\n",
       "      <td>5.1</td>\n",
       "      <td>1.8</td>\n",
       "      <td>Iris-virginica</td>\n",
       "      <td>2</td>\n",
       "    </tr>\n",
       "  </tbody>\n",
       "</table>\n",
       "</div>"
      ],
      "text/plain": [
       "      Id  SepalLength[cm]  SepalWidth[cm]  PetalLength[cm]  PetalWidth[cm]  \\\n",
       "145  146              6.7             3.0              5.2             2.3   \n",
       "146  147              6.3             2.5              5.0             1.9   \n",
       "147  148              6.5             3.0              5.2             2.0   \n",
       "148  149              6.2             3.4              5.4             2.3   \n",
       "149  150              5.9             3.0              5.1             1.8   \n",
       "\n",
       "            Species  ClassLabels  \n",
       "145  Iris-virginica            2  \n",
       "146  Iris-virginica            2  \n",
       "147  Iris-virginica            2  \n",
       "148  Iris-virginica            2  \n",
       "149  Iris-virginica            2  "
      ]
     },
     "execution_count": 9,
     "metadata": {},
     "output_type": "execute_result"
    }
   ],
   "source": [
    "label_mapping = {'Iris-setosa': 0, 'Iris-versicolor': 1, 'Iris-virginica': 2}\n",
    "data_frame_iris['ClassLabels'] = data_frame_iris['Species'].map(label_mapping)\n",
    "\n",
    "data_frame_iris.tail() # shows last 5 rows"
   ]
  },
  {
   "cell_type": "code",
   "execution_count": 10,
   "id": "09a0e0ec",
   "metadata": {},
   "outputs": [
    {
     "name": "stdout",
     "output_type": "stream",
     "text": [
      "Training set shape: (150, 4). Labels shape: (150,)\n"
     ]
    }
   ],
   "source": [
    "X = data_frame_iris[['SepalLength[cm]', 'SepalWidth[cm]', 'PetalLength[cm]', 'PetalWidth[cm]']].values\n",
    "y = data_frame_iris['ClassLabels'].values\n",
    "\n",
    "print(f'Training set shape: {X.shape}. Labels shape: {y.shape}')"
   ]
  },
  {
   "cell_type": "markdown",
   "id": "59a70173",
   "metadata": {},
   "source": [
    "### A.2 Creating Training and Testing Sets\n",
    "\n",
    "In order to divide the data set into a training and a test set, we are going to shuffle the data set first.\n",
    "This is necessary because in the initial set of classes they are placed in the order from the first to the last.\n",
    "If we were to train a model by taking let's say the first 100 examples as a training set, then the classifier would never see the third class, so we have to mix the data to avoid this.\n",
    "For illustration purposes, we will do this in multiple steps."
   ]
  },
  {
   "cell_type": "code",
   "execution_count": 11,
   "id": "e90fa477",
   "metadata": {},
   "outputs": [
    {
     "data": {
      "text/plain": [
       "array([  0,   1,   2,   3,   4,   5,   6,   7,   8,   9,  10,  11,  12,\n",
       "        13,  14,  15,  16,  17,  18,  19,  20,  21,  22,  23,  24,  25,\n",
       "        26,  27,  28,  29,  30,  31,  32,  33,  34,  35,  36,  37,  38,\n",
       "        39,  40,  41,  42,  43,  44,  45,  46,  47,  48,  49,  50,  51,\n",
       "        52,  53,  54,  55,  56,  57,  58,  59,  60,  61,  62,  63,  64,\n",
       "        65,  66,  67,  68,  69,  70,  71,  72,  73,  74,  75,  76,  77,\n",
       "        78,  79,  80,  81,  82,  83,  84,  85,  86,  87,  88,  89,  90,\n",
       "        91,  92,  93,  94,  95,  96,  97,  98,  99, 100, 101, 102, 103,\n",
       "       104, 105, 106, 107, 108, 109, 110, 111, 112, 113, 114, 115, 116,\n",
       "       117, 118, 119, 120, 121, 122, 123, 124, 125, 126, 127, 128, 129,\n",
       "       130, 131, 132, 133, 134, 135, 136, 137, 138, 139, 140, 141, 142,\n",
       "       143, 144, 145, 146, 147, 148, 149])"
      ]
     },
     "execution_count": 11,
     "metadata": {},
     "output_type": "execute_result"
    }
   ],
   "source": [
    "indices = np.arange(y.shape[0])\n",
    "indices"
   ]
  },
  {
   "cell_type": "code",
   "execution_count": 12,
   "id": "b6f11cf9",
   "metadata": {},
   "outputs": [
    {
     "data": {
      "text/plain": [
       "array([128,  11, 118,  15, 123, 135,  32,   1, 116,  45,  40, 115,  26,\n",
       "        28, 145,  97,  62,  77, 122, 112, 125,  31, 146,  29,  69, 149,\n",
       "        75,  20,  73, 120,  81,  99, 119,  12,  16,  51,  46,  89, 136,\n",
       "       114,  41,  90, 102, 109,  37,   6,  25,  21,  92,   9,  23,  35,\n",
       "        54, 131, 127,  84, 111,  96, 117, 110,  82,  22, 139, 124, 133,\n",
       "        33,  42, 101,   5,  36,  43,  52, 104, 144, 134,  10,  85,  70,\n",
       "         3,  76,  57, 126,   0,  78,  88,  83,  50,  68,  95, 132, 113,\n",
       "        13,  72,  17,  74, 129, 137, 106,  64,  18,  44,  38,  39, 121,\n",
       "        48,  30,  56,  27, 140,  63, 141,  19, 142, 105,   2,  80,  71,\n",
       "        55, 143,  61,  65,  47,  49,   7, 147,  59,  91,   4, 100, 108,\n",
       "       130,  86,  93,  58,  60, 107, 148,  34,  14,  66,  53,  98,  94,\n",
       "       138,  79,  87, 103,  67,  24,   8])"
      ]
     },
     "execution_count": 12,
     "metadata": {},
     "output_type": "execute_result"
    }
   ],
   "source": [
    "random = np.random.RandomState(100)\n",
    "shuffled_indices = random.permutation(indices)\n",
    "shuffled_indices"
   ]
  },
  {
   "cell_type": "markdown",
   "id": "08ceb170",
   "metadata": {},
   "source": [
    "Now that we have the shuffled indices, we can use them to shuffle both the features `X` and classes `y` relative to each other.\n",
    "We do this to preserve the correspondence between features and labels in `X` and `y`:"
   ]
  },
  {
   "cell_type": "code",
   "execution_count": 13,
   "id": "29605303",
   "metadata": {},
   "outputs": [],
   "source": [
    "X_shuffled, y_shuffled = X[shuffled_indices], y[shuffled_indices]"
   ]
  },
  {
   "cell_type": "code",
   "execution_count": 14,
   "id": "1f040462",
   "metadata": {},
   "outputs": [
    {
     "name": "stdout",
     "output_type": "stream",
     "text": [
      "Training shape (features): (105, 4). Test shape (features): (45, 4)\n",
      "Training shape (labels): (105,). Test shape (labels): (45,)\n"
     ]
    }
   ],
   "source": [
    "X_train, X_test = X_shuffled[:105], X_shuffled[105:]\n",
    "y_train, y_test = y_shuffled [:105], y_shuffled [105:]\n",
    "\n",
    "print(f'Training shape (features): {X_train.shape}. Test shape (features): {X_test.shape}')\n",
    "print(f'Training shape (labels): {y_train.shape}. Test shape (labels): {y_test.shape}')"
   ]
  },
  {
   "cell_type": "markdown",
   "id": "ce6bc308",
   "metadata": {},
   "source": [
    "We could have achieved the exact same result using the `sklearn`'s function `train_test_split`:"
   ]
  },
  {
   "cell_type": "code",
   "execution_count": 15,
   "id": "000b1cb6",
   "metadata": {},
   "outputs": [
    {
     "name": "stdout",
     "output_type": "stream",
     "text": [
      "Training shape (features): (105, 4). Test shape (features): (45, 4)\n",
      "Training shape (labels): (105,). Test shape (labels): (45,)\n"
     ]
    }
   ],
   "source": [
    "X_train, X_test, y_train, y_test = train_test_split(X, y, train_size = 0.7, test_size = 0.3, random_state = 100, shuffle = True)\n",
    "\n",
    "print(f'Training shape (features): {X_train.shape}. Test shape (features): {X_test.shape}')\n",
    "print(f'Training shape (labels): {y_train.shape}. Test shape (labels): {y_test.shape}')"
   ]
  },
  {
   "cell_type": "markdown",
   "id": "64e9cffd",
   "metadata": {},
   "source": [
    "### A.3 Plotting the Data"
   ]
  },
  {
   "cell_type": "code",
   "execution_count": 16,
   "id": "177c2114",
   "metadata": {},
   "outputs": [
    {
     "data": {
      "image/png": "[encoded data removed]",
      "text/plain": [
       "<Figure size 1224x504 with 2 Axes>"
      ]
     },
     "metadata": {},
     "output_type": "display_data"
    }
   ],
   "source": [
    "figure, axes = plt.subplots(nrows = 1, ncols = 2, figsize = (17, 7))\n",
    "\n",
    "axes[0].scatter(X_train[y_train == 0, 0],\n",
    "            X_train[y_train == 0, 1],\n",
    "            marker='o',\n",
    "            label='class 0 (Setosa)')\n",
    "\n",
    "axes[0].scatter(X_train[y_train == 1, 0],\n",
    "            X_train[y_train == 1, 1],\n",
    "            marker='^',\n",
    "            label='class 1 (Versicolor)')\n",
    "\n",
    "axes[0].scatter(X_train[y_train == 2, 0],\n",
    "            X_train[y_train == 2, 1],\n",
    "            marker='s',\n",
    "            label='class 2 (Virginica)')\n",
    "\n",
    "axes[0].set_xlabel('Sepal Length [cm]')\n",
    "axes[0].set_ylabel('Sepal Width [cm]')\n",
    "axes[0].legend()\n",
    "\n",
    "axes[1].scatter(X_train[y_train == 0, 2],\n",
    "            X_train[y_train == 0, 3],\n",
    "            marker='o',\n",
    "            label='class 0 (Setosa)')\n",
    "\n",
    "axes[1].scatter(X_train[y_train == 1, 2],\n",
    "            X_train[y_train == 1, 3],\n",
    "            marker='^',\n",
    "            label='class 1 (Versicolor)')\n",
    "\n",
    "axes[1].scatter(X_train[y_train == 2, 2],\n",
    "            X_train[y_train == 2, 3],\n",
    "            marker='s',\n",
    "            label='class 2 (Virginica)')\n",
    "\n",
    "axes[1].set_xlabel('Petal Length [cm]')\n",
    "axes[1].set_ylabel('Petal Width [cm]')\n",
    "axes[1].legend()\n",
    "\n",
    "plt.show()"
   ]
  },
  {
   "cell_type": "markdown",
   "id": "431736d6",
   "metadata": {},
   "source": [
    "### A.4 Training k-Nearest Neighbor Model"
   ]
  },
  {
   "cell_type": "code",
   "execution_count": 17,
   "id": "d2275c65",
   "metadata": {},
   "outputs": [
    {
     "data": {
      "text/plain": [
       "KNeighborsClassifier(n_neighbors=3)"
      ]
     },
     "execution_count": 17,
     "metadata": {},
     "output_type": "execute_result"
    }
   ],
   "source": [
    "knn_model = KNeighborsClassifier(n_neighbors = 3)\n",
    "knn_model.fit(X = X_train, y = y_train)"
   ]
  },
  {
   "cell_type": "markdown",
   "id": "30ca26fb",
   "metadata": {},
   "source": [
    "### A.5 Using kNN Model to Make Predictions\n",
    "\n",
    "After \"fitting\" the kNN model, we can now make predictions on new data points that the model has not seen before. \n",
    "The test set represents such data points. Of course, we have labels for the test set as well, but we only use these labels to evaluate the model -- i.e., we compare the predictions to the true labels in the test set in order to find out how good the model is:"
   ]
  },
  {
   "cell_type": "code",
   "execution_count": 18,
   "id": "20dc4ca5",
   "metadata": {},
   "outputs": [],
   "source": [
    "y_predictions = knn_model.predict(X = X_test)"
   ]
  },
  {
   "cell_type": "code",
   "execution_count": 19,
   "id": "1939302f",
   "metadata": {},
   "outputs": [
    {
     "name": "stdout",
     "output_type": "stream",
     "text": [
      "Test set accuracy: 97.78%\n",
      "Test set accuracy (using model score): 97.78%\n"
     ]
    }
   ],
   "source": [
    "correct_predictions = np.sum(y_predictions == y_test)\n",
    "accuracy = correct_predictions / y_test.shape[0]\n",
    "\n",
    "print(f'Test set accuracy: {accuracy*100:.2f}%')\n",
    "print(f'Test set accuracy (using model score): {knn_model.score(X_test, y_test)*100:.2f}%')"
   ]
  },
  {
   "cell_type": "markdown",
   "id": "8ab45ff8",
   "metadata": {},
   "source": [
    "## B. k-Nearest Neighbors Implementation"
   ]
  },
  {
   "cell_type": "code",
   "execution_count": 20,
   "id": "1da1706c",
   "metadata": {},
   "outputs": [],
   "source": [
    "import heapq    # heap for priority queue\n",
    "\n",
    "class KNNClassifier(object):\n",
    "    \"\"\"\n",
    "    Implementation of k-Nearest Neighbors model.\n",
    "    \"\"\"\n",
    "    \n",
    "    def __init__(self, k, distance_fn = None):\n",
    "        \"\"\"\n",
    "        KNNClassifier constructor.\n",
    "        \n",
    "        Parameters:\n",
    "        -----------\n",
    "        k : number of closest neighbors.\n",
    "        distance_fn : the distance function.\n",
    "        \"\"\"\n",
    "        self.__k = k\n",
    "        \n",
    "        if distance_fn == None:\n",
    "            self.__distance_fn = self.__euclidean_distance\n",
    "            \n",
    "    \n",
    "    def fit(self, X, y):\n",
    "        \"\"\"\n",
    "        Fits k-Nearest Neighbors model.\n",
    "        \n",
    "        Parameters:\n",
    "        -----------\n",
    "        X : the set of feature vectors.\n",
    "        y : the set of corresponding classes / labels.\n",
    "        \n",
    "        Examples:\n",
    "        ---------\n",
    "        >>> X = np.array([[1, 1], [2, 2], [3, 3], [4, 4], [5, 5]])\n",
    "        >>> y = np.array([1, 0, 0, 1, 1])\n",
    "        >>> knn_model = KNNClassifier(k = 3)\n",
    "        >>> knn_model.fit(X = X, y = y)\n",
    "        \"\"\"\n",
    "        self.__X = X.copy()\n",
    "        self.__y = y.copy()\n",
    "        \n",
    "    \n",
    "    def predict(self, X):\n",
    "        \"\"\"\n",
    "        Predicts the class for the test set data.\n",
    "        \n",
    "        Parameters:\n",
    "        -----------\n",
    "        X : the set of feature vectors.\n",
    "        \n",
    "        Returns:\n",
    "        --------\n",
    "        Vector of predictions.\n",
    "        \n",
    "        Examples:\n",
    "        ---------\n",
    "        >>> X = np.array([[1, 1], [2, 2], [3, 3], [4, 4], [5, 5]])\n",
    "        >>> y = np.array([1, 0, 0, 1, 1])\n",
    "        >>> knn_model = KNNClassifier(k = 3)\n",
    "        >>> knn_model.fit(X = X, y = y)\n",
    "        >>> knn_model.predict(X = X)\n",
    "            array([0, 0, 0, 1, 1], dtype=int16)\n",
    "        \"\"\"\n",
    "        predictions = np.zeros(shape = X.shape[0], dtype = np.int16)\n",
    "        \n",
    "        for index, vector in enumerate(X):\n",
    "            indices = self.__find_k_nearest_neighbors(vector)\n",
    "            classes, counts = np.unique(ar = self.__y[indices], return_counts = True)\n",
    "            predictions[index] = classes[np.argmax(counts)]\n",
    "            \n",
    "        return predictions\n",
    "   \n",
    "\n",
    "    def score(self, X, y):\n",
    "        \"\"\"\n",
    "        Calculates the accuracy of the classifier.\n",
    "        \n",
    "        Parameters:\n",
    "        -----------\n",
    "        X : the set of feature vectors.\n",
    "        y : the set of corresponding classes / labels.\n",
    "        \n",
    "        Returns:\n",
    "        --------\n",
    "        The accuracy of the classifier.\n",
    "        \n",
    "        Examples:\n",
    "        ---------\n",
    "        >>> X = np.array([[1, 1], [2, 2], [3, 3], [4, 4], [5, 5]])\n",
    "        >>> y = np.array([1, 0, 0, 1, 1])\n",
    "        >>> knn_model = KNNClassifier(k = 3)\n",
    "        >>> knn_model.fit(X = X, y = y)\n",
    "        >>> knn_model.score(X = X, y = y)\n",
    "            0.8\n",
    "        \"\"\"\n",
    "        predictions = self.predict(X)\n",
    "        \n",
    "        return np.sum(predictions == y) / X.shape[0]\n",
    "        \n",
    "    \n",
    "    def __find_k_nearest_neighbors(self, vector):\n",
    "        \"\"\"\n",
    "        Finds `k` closest vectors to the given input vector.\n",
    "        \n",
    "        Parameters:\n",
    "        -----------\n",
    "        vector : a input vector.\n",
    "        \n",
    "        Returns:\n",
    "        --------\n",
    "        `k` closest vectors to the given input vector.\n",
    "        \"\"\"\n",
    "        priority_queue = []\n",
    "        \n",
    "        for index, vec in enumerate(self.__X):\n",
    "            distance = self.__distance_fn(vector, vec)\n",
    "            \n",
    "            if len(priority_queue) < self.__k:\n",
    "                heapq.heappush(priority_queue, (-distance, index))\n",
    "            else:\n",
    "                current_farthest = np.abs(priority_queue[0][0])\n",
    "                \n",
    "                if distance < current_farthest:\n",
    "                    heapq.heappop(priority_queue)\n",
    "                    heapq.heappush(priority_queue, (-distance, index))\n",
    "          \n",
    "        return [item[1] for item in priority_queue]\n",
    "    \n",
    "    \n",
    "    def __euclidean_distance(self, x1, x2):\n",
    "        \"\"\"\n",
    "        Calculates Euclidean distance between two vectors.\n",
    "        \n",
    "        Parameters:\n",
    "        -----------\n",
    "        x1 : the first vector. \n",
    "        x2 : the second vector.\n",
    "        \n",
    "        Returns:\n",
    "        --------\n",
    "        Euclidean distance between two vectors.\n",
    "        \n",
    "        Examples:\n",
    "        ---------\n",
    "        >>> x1 = np.array([1, 2, 3])\n",
    "        >>> x2 = np.array([2, 3, 4])\n",
    "        >>> self.__euclidean_distance(x1, x2)\n",
    "            1.7320508075688772\n",
    "        \"\"\"\n",
    "        return np.sqrt(np.sum(np.power(x1 - x2, 2)))"
   ]
  },
  {
   "cell_type": "code",
   "execution_count": 21,
   "id": "c90dfefa",
   "metadata": {},
   "outputs": [
    {
     "name": "stdout",
     "output_type": "stream",
     "text": [
      "Test set accuracy: 97.78%\n"
     ]
    }
   ],
   "source": [
    "knn_model = KNNClassifier(k = 3)\n",
    "knn_model.fit(X = X_train, y = y_train)\n",
    "\n",
    "y_predictions = knn_model.predict(X = X_test)\n",
    "print(f'Test set accuracy: {knn_model.score(X_test, y_test)*100:.2f}%')"
   ]
  }
 ],
 "metadata": {
  "kernelspec": {
   "display_name": "Python 3 (ipykernel)",
   "language": "python",
   "name": "python3"
  },
  "language_info": {
   "codemirror_mode": {
    "name": "ipython",
    "version": 3
   },
   "file_extension": ".py",
   "mimetype": "text/x-python",
   "name": "python",
   "nbconvert_exporter": "python",
   "pygments_lexer": "ipython3",
   "version": "3.8.10"
  }
 },
 "nbformat": 4,
 "nbformat_minor": 5
}
