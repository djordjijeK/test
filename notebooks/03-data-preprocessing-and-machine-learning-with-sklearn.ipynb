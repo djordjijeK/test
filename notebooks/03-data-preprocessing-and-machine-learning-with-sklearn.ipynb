{
 "cells": [
  {
   "cell_type": "markdown",
   "id": "bfd84944",
   "metadata": {},
   "source": [
    "# Data Preprocessing and Machine Learning with Scikit-Learn"
   ]
  },
  {
   "cell_type": "code",
   "execution_count": 1,
   "id": "397ab06c",
   "metadata": {},
   "outputs": [],
   "source": [
    "import numpy as np\n",
    "import pandas as pd\n",
    "\n",
    "from sklearn.impute import SimpleImputer\n",
    "from sklearn.pipeline import make_pipeline\n",
    "from sklearn.neighbors import KNeighborsClassifier\n",
    "from sklearn.preprocessing import MinMaxScaler, LabelEncoder, StandardScaler\n",
    "from sklearn.model_selection import train_test_split, GridSearchCV, PredefinedSplit"
   ]
  },
  {
   "cell_type": "code",
   "execution_count": 2,
   "id": "27424a3a",
   "metadata": {},
   "outputs": [],
   "source": [
    "PATH = '../data/iris.csv'"
   ]
  },
  {
   "cell_type": "code",
   "execution_count": 3,
   "id": "ec7ff731",
   "metadata": {},
   "outputs": [
    {
     "name": "stdout",
     "output_type": "stream",
     "text": [
      "iris.csv  rent.csv\n",
      "150 ../data/iris.csv\n",
      "8,0K\t../data/iris.csv\n"
     ]
    }
   ],
   "source": [
    "!ls '../data'  \n",
    "!wc -l {PATH} \n",
    "!du -h {PATH}"
   ]
  },
  {
   "cell_type": "code",
   "execution_count": 4,
   "id": "57364ee4",
   "metadata": {},
   "outputs": [
    {
     "name": "stdout",
     "output_type": "stream",
     "text": [
      "Id,SepalLength[cm],SepalWidth[cm],PetalLength[cm],PetalWidth[cm],Species\r\n",
      "1,5.1,3.5,1.4,0.2,Iris-setosa\r\n",
      "2,4.9,3.0,1.4,0.2,Iris-setosa\r\n",
      "3,4.7,3.2,1.3,0.2,Iris-setosa\r\n",
      "4,4.6,3.1,1.5,0.2,Iris-setosa\r\n"
     ]
    }
   ],
   "source": [
    "!head -n 5 {PATH}"
   ]
  },
  {
   "cell_type": "code",
   "execution_count": 5,
   "id": "2c321014",
   "metadata": {},
   "outputs": [
    {
     "name": "stdout",
     "output_type": "stream",
     "text": [
      "146,6.7,3.0,5.2,2.3,Iris-virginica\r\n",
      "147,6.3,2.5,5.0,1.9,Iris-virginica\r\n",
      "148,6.5,3.0,5.2,2.0,Iris-virginica\r\n",
      "149,6.2,3.4,5.4,2.3,Iris-virginica\r\n",
      "150,5.9,3.0,5.1,1.8,Iris-virginica"
     ]
    }
   ],
   "source": [
    "!tail -n 5 {PATH}"
   ]
  },
  {
   "cell_type": "markdown",
   "id": "8b778945",
   "metadata": {},
   "source": [
    "## A. Loading Tabular Datasets from Text Files"
   ]
  },
  {
   "cell_type": "code",
   "execution_count": 6,
   "id": "a4a5fd8f",
   "metadata": {},
   "outputs": [
    {
     "data": {
      "text/html": [
       "<div>\n",
       "<style scoped>\n",
       "    .dataframe tbody tr th:only-of-type {\n",
       "        vertical-align: middle;\n",
       "    }\n",
       "\n",
       "    .dataframe tbody tr th {\n",
       "        vertical-align: top;\n",
       "    }\n",
       "\n",
       "    .dataframe thead th {\n",
       "        text-align: right;\n",
       "    }\n",
       "</style>\n",
       "<table border=\"1\" class=\"dataframe\">\n",
       "  <thead>\n",
       "    <tr style=\"text-align: right;\">\n",
       "      <th></th>\n",
       "      <th>Id</th>\n",
       "      <th>SepalLength[cm]</th>\n",
       "      <th>SepalWidth[cm]</th>\n",
       "      <th>PetalLength[cm]</th>\n",
       "      <th>PetalWidth[cm]</th>\n",
       "      <th>Species</th>\n",
       "    </tr>\n",
       "  </thead>\n",
       "  <tbody>\n",
       "    <tr>\n",
       "      <th>0</th>\n",
       "      <td>1</td>\n",
       "      <td>5.1</td>\n",
       "      <td>3.5</td>\n",
       "      <td>1.4</td>\n",
       "      <td>0.2</td>\n",
       "      <td>Iris-setosa</td>\n",
       "    </tr>\n",
       "    <tr>\n",
       "      <th>1</th>\n",
       "      <td>2</td>\n",
       "      <td>4.9</td>\n",
       "      <td>3.0</td>\n",
       "      <td>1.4</td>\n",
       "      <td>0.2</td>\n",
       "      <td>Iris-setosa</td>\n",
       "    </tr>\n",
       "    <tr>\n",
       "      <th>2</th>\n",
       "      <td>3</td>\n",
       "      <td>4.7</td>\n",
       "      <td>3.2</td>\n",
       "      <td>1.3</td>\n",
       "      <td>0.2</td>\n",
       "      <td>Iris-setosa</td>\n",
       "    </tr>\n",
       "    <tr>\n",
       "      <th>3</th>\n",
       "      <td>4</td>\n",
       "      <td>4.6</td>\n",
       "      <td>3.1</td>\n",
       "      <td>1.5</td>\n",
       "      <td>0.2</td>\n",
       "      <td>Iris-setosa</td>\n",
       "    </tr>\n",
       "    <tr>\n",
       "      <th>4</th>\n",
       "      <td>5</td>\n",
       "      <td>5.0</td>\n",
       "      <td>3.6</td>\n",
       "      <td>1.4</td>\n",
       "      <td>0.2</td>\n",
       "      <td>Iris-setosa</td>\n",
       "    </tr>\n",
       "  </tbody>\n",
       "</table>\n",
       "</div>"
      ],
      "text/plain": [
       "   Id  SepalLength[cm]  SepalWidth[cm]  PetalLength[cm]  PetalWidth[cm]  \\\n",
       "0   1              5.1             3.5              1.4             0.2   \n",
       "1   2              4.9             3.0              1.4             0.2   \n",
       "2   3              4.7             3.2              1.3             0.2   \n",
       "3   4              4.6             3.1              1.5             0.2   \n",
       "4   5              5.0             3.6              1.4             0.2   \n",
       "\n",
       "       Species  \n",
       "0  Iris-setosa  \n",
       "1  Iris-setosa  \n",
       "2  Iris-setosa  \n",
       "3  Iris-setosa  \n",
       "4  Iris-setosa  "
      ]
     },
     "execution_count": 6,
     "metadata": {},
     "output_type": "execute_result"
    }
   ],
   "source": [
    "data_frame = pd.read_csv(filepath_or_buffer = PATH)\n",
    "data_frame.head()"
   ]
  },
  {
   "cell_type": "code",
   "execution_count": 7,
   "id": "75e718d5",
   "metadata": {},
   "outputs": [
    {
     "name": "stdout",
     "output_type": "stream",
     "text": [
      "<class 'pandas.core.frame.DataFrame'>\n",
      "RangeIndex: 150 entries, 0 to 149\n",
      "Data columns (total 6 columns):\n",
      " #   Column           Non-Null Count  Dtype  \n",
      "---  ------           --------------  -----  \n",
      " 0   Id               150 non-null    int64  \n",
      " 1   SepalLength[cm]  150 non-null    float64\n",
      " 2   SepalWidth[cm]   150 non-null    float64\n",
      " 3   PetalLength[cm]  150 non-null    float64\n",
      " 4   PetalWidth[cm]   150 non-null    float64\n",
      " 5   Species          150 non-null    object \n",
      "dtypes: float64(4), int64(1), object(1)\n",
      "memory usage: 7.2+ KB\n"
     ]
    }
   ],
   "source": [
    "data_frame.info() # data frame information"
   ]
  },
  {
   "cell_type": "code",
   "execution_count": 8,
   "id": "47cb7c00",
   "metadata": {},
   "outputs": [
    {
     "data": {
      "text/plain": [
       "Index               0.125000\n",
       "Id                  1.171875\n",
       "SepalLength[cm]     1.171875\n",
       "SepalWidth[cm]      1.171875\n",
       "PetalLength[cm]     1.171875\n",
       "PetalWidth[cm]      1.171875\n",
       "Species            10.302734\n",
       "dtype: float64"
      ]
     },
     "metadata": {},
     "output_type": "display_data"
    },
    {
     "name": "stdout",
     "output_type": "stream",
     "text": [
      "Total memory used: 16.29 KB\n"
     ]
    }
   ],
   "source": [
    "memory_series = data_frame.memory_usage(deep = True) / 1024 # show memory usage in KB\n",
    "\n",
    "display(memory_series)\n",
    "print(f'Total memory used: {memory_series.sum():.2f} KB')"
   ]
  },
  {
   "cell_type": "code",
   "execution_count": 9,
   "id": "ccbed40a",
   "metadata": {},
   "outputs": [
    {
     "name": "stdout",
     "output_type": "stream",
     "text": [
      "The data_frame data type is: <class 'pandas.core.frame.DataFrame'>\n",
      "The data_frame has 150 rows and 6 columns\n",
      "The data_frame contains 900 values (rows x columns)\n",
      "The data_frame index is: RangeIndex(start=0, stop=150, step=1)\n",
      "The data_frame columns are: ['Id' 'SepalLength[cm]' 'SepalWidth[cm]' 'PetalLength[cm]'\n",
      " 'PetalWidth[cm]' 'Species']\n"
     ]
    }
   ],
   "source": [
    "print(f'The data_frame data type is: {type(data_frame)}')\n",
    "print(f'The data_frame has {data_frame.shape[0]} rows and {data_frame.shape[1]} columns')\n",
    "print(f'The data_frame contains {data_frame.size} values (rows x columns)')\n",
    "print(f'The data_frame index is: {data_frame.index}')\n",
    "print(f'The data_frame columns are: {data_frame.columns.values}')"
   ]
  },
  {
   "cell_type": "code",
   "execution_count": 10,
   "id": "fcbf1895",
   "metadata": {},
   "outputs": [
    {
     "data": {
      "text/html": [
       "<div>\n",
       "<style scoped>\n",
       "    .dataframe tbody tr th:only-of-type {\n",
       "        vertical-align: middle;\n",
       "    }\n",
       "\n",
       "    .dataframe tbody tr th {\n",
       "        vertical-align: top;\n",
       "    }\n",
       "\n",
       "    .dataframe thead th {\n",
       "        text-align: right;\n",
       "    }\n",
       "</style>\n",
       "<table border=\"1\" class=\"dataframe\">\n",
       "  <thead>\n",
       "    <tr style=\"text-align: right;\">\n",
       "      <th></th>\n",
       "      <th>Id</th>\n",
       "      <th>SepalLength[cm]</th>\n",
       "      <th>SepalWidth[cm]</th>\n",
       "      <th>PetalLength[cm]</th>\n",
       "      <th>PetalWidth[cm]</th>\n",
       "      <th>Species</th>\n",
       "      <th>Classes</th>\n",
       "    </tr>\n",
       "  </thead>\n",
       "  <tbody>\n",
       "    <tr>\n",
       "      <th>0</th>\n",
       "      <td>1</td>\n",
       "      <td>5.1</td>\n",
       "      <td>3.5</td>\n",
       "      <td>1.4</td>\n",
       "      <td>0.2</td>\n",
       "      <td>Iris-setosa</td>\n",
       "      <td>0</td>\n",
       "    </tr>\n",
       "    <tr>\n",
       "      <th>1</th>\n",
       "      <td>2</td>\n",
       "      <td>4.9</td>\n",
       "      <td>3.0</td>\n",
       "      <td>1.4</td>\n",
       "      <td>0.2</td>\n",
       "      <td>Iris-setosa</td>\n",
       "      <td>0</td>\n",
       "    </tr>\n",
       "    <tr>\n",
       "      <th>2</th>\n",
       "      <td>3</td>\n",
       "      <td>4.7</td>\n",
       "      <td>3.2</td>\n",
       "      <td>1.3</td>\n",
       "      <td>0.2</td>\n",
       "      <td>Iris-setosa</td>\n",
       "      <td>0</td>\n",
       "    </tr>\n",
       "    <tr>\n",
       "      <th>3</th>\n",
       "      <td>4</td>\n",
       "      <td>4.6</td>\n",
       "      <td>3.1</td>\n",
       "      <td>1.5</td>\n",
       "      <td>0.2</td>\n",
       "      <td>Iris-setosa</td>\n",
       "      <td>0</td>\n",
       "    </tr>\n",
       "    <tr>\n",
       "      <th>4</th>\n",
       "      <td>5</td>\n",
       "      <td>5.0</td>\n",
       "      <td>3.6</td>\n",
       "      <td>1.4</td>\n",
       "      <td>0.2</td>\n",
       "      <td>Iris-setosa</td>\n",
       "      <td>0</td>\n",
       "    </tr>\n",
       "  </tbody>\n",
       "</table>\n",
       "</div>"
      ],
      "text/plain": [
       "   Id  SepalLength[cm]  SepalWidth[cm]  PetalLength[cm]  PetalWidth[cm]  \\\n",
       "0   1              5.1             3.5              1.4             0.2   \n",
       "1   2              4.9             3.0              1.4             0.2   \n",
       "2   3              4.7             3.2              1.3             0.2   \n",
       "3   4              4.6             3.1              1.5             0.2   \n",
       "4   5              5.0             3.6              1.4             0.2   \n",
       "\n",
       "       Species  Classes  \n",
       "0  Iris-setosa        0  \n",
       "1  Iris-setosa        0  \n",
       "2  Iris-setosa        0  \n",
       "3  Iris-setosa        0  \n",
       "4  Iris-setosa        0  "
      ]
     },
     "metadata": {},
     "output_type": "display_data"
    },
    {
     "data": {
      "text/html": [
       "<div>\n",
       "<style scoped>\n",
       "    .dataframe tbody tr th:only-of-type {\n",
       "        vertical-align: middle;\n",
       "    }\n",
       "\n",
       "    .dataframe tbody tr th {\n",
       "        vertical-align: top;\n",
       "    }\n",
       "\n",
       "    .dataframe thead th {\n",
       "        text-align: right;\n",
       "    }\n",
       "</style>\n",
       "<table border=\"1\" class=\"dataframe\">\n",
       "  <thead>\n",
       "    <tr style=\"text-align: right;\">\n",
       "      <th></th>\n",
       "      <th>Id</th>\n",
       "      <th>SepalLength[cm]</th>\n",
       "      <th>SepalWidth[cm]</th>\n",
       "      <th>PetalLength[cm]</th>\n",
       "      <th>PetalWidth[cm]</th>\n",
       "      <th>Species</th>\n",
       "      <th>Classes</th>\n",
       "    </tr>\n",
       "  </thead>\n",
       "  <tbody>\n",
       "    <tr>\n",
       "      <th>145</th>\n",
       "      <td>146</td>\n",
       "      <td>6.7</td>\n",
       "      <td>3.0</td>\n",
       "      <td>5.2</td>\n",
       "      <td>2.3</td>\n",
       "      <td>Iris-virginica</td>\n",
       "      <td>2</td>\n",
       "    </tr>\n",
       "    <tr>\n",
       "      <th>146</th>\n",
       "      <td>147</td>\n",
       "      <td>6.3</td>\n",
       "      <td>2.5</td>\n",
       "      <td>5.0</td>\n",
       "      <td>1.9</td>\n",
       "      <td>Iris-virginica</td>\n",
       "      <td>2</td>\n",
       "    </tr>\n",
       "    <tr>\n",
       "      <th>147</th>\n",
       "      <td>148</td>\n",
       "      <td>6.5</td>\n",
       "      <td>3.0</td>\n",
       "      <td>5.2</td>\n",
       "      <td>2.0</td>\n",
       "      <td>Iris-virginica</td>\n",
       "      <td>2</td>\n",
       "    </tr>\n",
       "    <tr>\n",
       "      <th>148</th>\n",
       "      <td>149</td>\n",
       "      <td>6.2</td>\n",
       "      <td>3.4</td>\n",
       "      <td>5.4</td>\n",
       "      <td>2.3</td>\n",
       "      <td>Iris-virginica</td>\n",
       "      <td>2</td>\n",
       "    </tr>\n",
       "    <tr>\n",
       "      <th>149</th>\n",
       "      <td>150</td>\n",
       "      <td>5.9</td>\n",
       "      <td>3.0</td>\n",
       "      <td>5.1</td>\n",
       "      <td>1.8</td>\n",
       "      <td>Iris-virginica</td>\n",
       "      <td>2</td>\n",
       "    </tr>\n",
       "  </tbody>\n",
       "</table>\n",
       "</div>"
      ],
      "text/plain": [
       "      Id  SepalLength[cm]  SepalWidth[cm]  PetalLength[cm]  PetalWidth[cm]  \\\n",
       "145  146              6.7             3.0              5.2             2.3   \n",
       "146  147              6.3             2.5              5.0             1.9   \n",
       "147  148              6.5             3.0              5.2             2.0   \n",
       "148  149              6.2             3.4              5.4             2.3   \n",
       "149  150              5.9             3.0              5.1             1.8   \n",
       "\n",
       "            Species  Classes  \n",
       "145  Iris-virginica        2  \n",
       "146  Iris-virginica        2  \n",
       "147  Iris-virginica        2  \n",
       "148  Iris-virginica        2  \n",
       "149  Iris-virginica        2  "
      ]
     },
     "metadata": {},
     "output_type": "display_data"
    },
    {
     "data": {
      "text/plain": [
       "array([0, 1, 2])"
      ]
     },
     "metadata": {},
     "output_type": "display_data"
    }
   ],
   "source": [
    "class_map = {\n",
    "    'Iris-setosa': 0,\n",
    "    'Iris-versicolor': 1,\n",
    "    'Iris-virginica': 2\n",
    "}\n",
    "\n",
    "data_frame['Classes'] = data_frame['Species'].map(class_map) # apply a dictionary mapping on a column\n",
    "display(data_frame.head(), data_frame.tail(), np.unique(data_frame['Classes']))"
   ]
  },
  {
   "cell_type": "code",
   "execution_count": 11,
   "id": "68402353",
   "metadata": {},
   "outputs": [
    {
     "data": {
      "text/plain": [
       "0    Iris-setosa\n",
       "1    Iris-setosa\n",
       "2    Iris-setosa\n",
       "Name: Species, dtype: object"
      ]
     },
     "metadata": {},
     "output_type": "display_data"
    },
    {
     "data": {
      "text/plain": [
       "(RangeIndex(start=0, stop=150, step=1),\n",
       " dtype('O'),\n",
       " (150,),\n",
       " array(['Iris-setosa', 'Iris-versicolor', 'Iris-virginica'], dtype=object))"
      ]
     },
     "metadata": {},
     "output_type": "display_data"
    },
    {
     "data": {
      "text/plain": [
       "147    Iris-virginica\n",
       "148    Iris-virginica\n",
       "149    Iris-virginica\n",
       "Name: Species, dtype: object"
      ]
     },
     "metadata": {},
     "output_type": "display_data"
    }
   ],
   "source": [
    "series = data_frame['Species']\n",
    "\n",
    "display(series.head(n = 3), (series.index, series.dtype, series.shape, np.unique(series.values)), series.tail(n = 3))"
   ]
  },
  {
   "cell_type": "code",
   "execution_count": 12,
   "id": "0f301221",
   "metadata": {},
   "outputs": [
    {
     "data": {
      "text/html": [
       "<div>\n",
       "<style scoped>\n",
       "    .dataframe tbody tr th:only-of-type {\n",
       "        vertical-align: middle;\n",
       "    }\n",
       "\n",
       "    .dataframe tbody tr th {\n",
       "        vertical-align: top;\n",
       "    }\n",
       "\n",
       "    .dataframe thead th {\n",
       "        text-align: right;\n",
       "    }\n",
       "</style>\n",
       "<table border=\"1\" class=\"dataframe\">\n",
       "  <thead>\n",
       "    <tr style=\"text-align: right;\">\n",
       "      <th></th>\n",
       "      <th>PetalLength[cm]</th>\n",
       "      <th>PetalWidth[cm]</th>\n",
       "      <th>SepalLength[cm]</th>\n",
       "      <th>SepalWidth[cm]</th>\n",
       "      <th>Species</th>\n",
       "    </tr>\n",
       "  </thead>\n",
       "  <tbody>\n",
       "    <tr>\n",
       "      <th>2</th>\n",
       "      <td>1.3</td>\n",
       "      <td>0.2</td>\n",
       "      <td>4.7</td>\n",
       "      <td>3.2</td>\n",
       "      <td>Iris-setosa</td>\n",
       "    </tr>\n",
       "    <tr>\n",
       "      <th>1</th>\n",
       "      <td>1.4</td>\n",
       "      <td>0.2</td>\n",
       "      <td>4.9</td>\n",
       "      <td>3.0</td>\n",
       "      <td>Iris-setosa</td>\n",
       "    </tr>\n",
       "    <tr>\n",
       "      <th>0</th>\n",
       "      <td>1.4</td>\n",
       "      <td>0.2</td>\n",
       "      <td>5.1</td>\n",
       "      <td>3.5</td>\n",
       "      <td>Iris-setosa</td>\n",
       "    </tr>\n",
       "  </tbody>\n",
       "</table>\n",
       "</div>"
      ],
      "text/plain": [
       "   PetalLength[cm]  PetalWidth[cm]  SepalLength[cm]  SepalWidth[cm]  \\\n",
       "2              1.3             0.2              4.7             3.2   \n",
       "1              1.4             0.2              4.9             3.0   \n",
       "0              1.4             0.2              5.1             3.5   \n",
       "\n",
       "       Species  \n",
       "2  Iris-setosa  \n",
       "1  Iris-setosa  \n",
       "0  Iris-setosa  "
      ]
     },
     "execution_count": 12,
     "metadata": {},
     "output_type": "execute_result"
    }
   ],
   "source": [
    "data_frame.loc[[2, 1, 0], ['PetalLength[cm]', 'PetalWidth[cm]', 'SepalLength[cm]', 'SepalWidth[cm]', 'Species']]"
   ]
  },
  {
   "cell_type": "code",
   "execution_count": 13,
   "id": "6b839aab",
   "metadata": {},
   "outputs": [
    {
     "data": {
      "text/html": [
       "<div>\n",
       "<style scoped>\n",
       "    .dataframe tbody tr th:only-of-type {\n",
       "        vertical-align: middle;\n",
       "    }\n",
       "\n",
       "    .dataframe tbody tr th {\n",
       "        vertical-align: top;\n",
       "    }\n",
       "\n",
       "    .dataframe thead th {\n",
       "        text-align: right;\n",
       "    }\n",
       "</style>\n",
       "<table border=\"1\" class=\"dataframe\">\n",
       "  <thead>\n",
       "    <tr style=\"text-align: right;\">\n",
       "      <th></th>\n",
       "      <th>PetalLength[cm]</th>\n",
       "      <th>PetalWidth[cm]</th>\n",
       "      <th>SepalLength[cm]</th>\n",
       "      <th>SepalWidth[cm]</th>\n",
       "      <th>Species</th>\n",
       "    </tr>\n",
       "  </thead>\n",
       "  <tbody>\n",
       "    <tr>\n",
       "      <th>2</th>\n",
       "      <td>1.3</td>\n",
       "      <td>0.2</td>\n",
       "      <td>4.7</td>\n",
       "      <td>3.2</td>\n",
       "      <td>Iris-setosa</td>\n",
       "    </tr>\n",
       "    <tr>\n",
       "      <th>1</th>\n",
       "      <td>1.4</td>\n",
       "      <td>0.2</td>\n",
       "      <td>4.9</td>\n",
       "      <td>3.0</td>\n",
       "      <td>Iris-setosa</td>\n",
       "    </tr>\n",
       "    <tr>\n",
       "      <th>0</th>\n",
       "      <td>1.4</td>\n",
       "      <td>0.2</td>\n",
       "      <td>5.1</td>\n",
       "      <td>3.5</td>\n",
       "      <td>Iris-setosa</td>\n",
       "    </tr>\n",
       "  </tbody>\n",
       "</table>\n",
       "</div>"
      ],
      "text/plain": [
       "   PetalLength[cm]  PetalWidth[cm]  SepalLength[cm]  SepalWidth[cm]  \\\n",
       "2              1.3             0.2              4.7             3.2   \n",
       "1              1.4             0.2              4.9             3.0   \n",
       "0              1.4             0.2              5.1             3.5   \n",
       "\n",
       "       Species  \n",
       "2  Iris-setosa  \n",
       "1  Iris-setosa  \n",
       "0  Iris-setosa  "
      ]
     },
     "execution_count": 13,
     "metadata": {},
     "output_type": "execute_result"
    }
   ],
   "source": [
    "data_frame.iloc[[2, 1, 0], [3, 4, 1, 2, 5]]"
   ]
  },
  {
   "cell_type": "code",
   "execution_count": 14,
   "id": "68c1699b",
   "metadata": {},
   "outputs": [
    {
     "data": {
      "text/html": [
       "<div>\n",
       "<style scoped>\n",
       "    .dataframe tbody tr th:only-of-type {\n",
       "        vertical-align: middle;\n",
       "    }\n",
       "\n",
       "    .dataframe tbody tr th {\n",
       "        vertical-align: top;\n",
       "    }\n",
       "\n",
       "    .dataframe thead th {\n",
       "        text-align: right;\n",
       "    }\n",
       "</style>\n",
       "<table border=\"1\" class=\"dataframe\">\n",
       "  <thead>\n",
       "    <tr style=\"text-align: right;\">\n",
       "      <th></th>\n",
       "      <th>PetalLength[cm]</th>\n",
       "      <th>PetalWidth[cm]</th>\n",
       "      <th>Species</th>\n",
       "    </tr>\n",
       "  </thead>\n",
       "  <tbody>\n",
       "    <tr>\n",
       "      <th>0</th>\n",
       "      <td>1.4</td>\n",
       "      <td>0.2</td>\n",
       "      <td>Iris-setosa</td>\n",
       "    </tr>\n",
       "    <tr>\n",
       "      <th>1</th>\n",
       "      <td>1.4</td>\n",
       "      <td>0.2</td>\n",
       "      <td>Iris-setosa</td>\n",
       "    </tr>\n",
       "    <tr>\n",
       "      <th>2</th>\n",
       "      <td>1.3</td>\n",
       "      <td>0.2</td>\n",
       "      <td>Iris-setosa</td>\n",
       "    </tr>\n",
       "    <tr>\n",
       "      <th>3</th>\n",
       "      <td>1.5</td>\n",
       "      <td>0.2</td>\n",
       "      <td>Iris-setosa</td>\n",
       "    </tr>\n",
       "    <tr>\n",
       "      <th>4</th>\n",
       "      <td>1.4</td>\n",
       "      <td>0.2</td>\n",
       "      <td>Iris-setosa</td>\n",
       "    </tr>\n",
       "  </tbody>\n",
       "</table>\n",
       "</div>"
      ],
      "text/plain": [
       "   PetalLength[cm]  PetalWidth[cm]      Species\n",
       "0              1.4             0.2  Iris-setosa\n",
       "1              1.4             0.2  Iris-setosa\n",
       "2              1.3             0.2  Iris-setosa\n",
       "3              1.5             0.2  Iris-setosa\n",
       "4              1.4             0.2  Iris-setosa"
      ]
     },
     "execution_count": 14,
     "metadata": {},
     "output_type": "execute_result"
    }
   ],
   "source": [
    "data_frame[['PetalLength[cm]', 'PetalWidth[cm]', 'Species']].head()"
   ]
  },
  {
   "cell_type": "code",
   "execution_count": 15,
   "id": "d1f5a968",
   "metadata": {},
   "outputs": [
    {
     "data": {
      "text/html": [
       "<div>\n",
       "<style scoped>\n",
       "    .dataframe tbody tr th:only-of-type {\n",
       "        vertical-align: middle;\n",
       "    }\n",
       "\n",
       "    .dataframe tbody tr th {\n",
       "        vertical-align: top;\n",
       "    }\n",
       "\n",
       "    .dataframe thead th {\n",
       "        text-align: right;\n",
       "    }\n",
       "</style>\n",
       "<table border=\"1\" class=\"dataframe\">\n",
       "  <thead>\n",
       "    <tr style=\"text-align: right;\">\n",
       "      <th></th>\n",
       "      <th>Id</th>\n",
       "      <th>SepalLength[cm]</th>\n",
       "      <th>SepalWidth[cm]</th>\n",
       "      <th>PetalLength[cm]</th>\n",
       "      <th>PetalWidth[cm]</th>\n",
       "      <th>Species</th>\n",
       "      <th>Classes</th>\n",
       "    </tr>\n",
       "  </thead>\n",
       "  <tbody>\n",
       "    <tr>\n",
       "      <th>0</th>\n",
       "      <td>1</td>\n",
       "      <td>5.1</td>\n",
       "      <td>3.5</td>\n",
       "      <td>1.4</td>\n",
       "      <td>0.2</td>\n",
       "      <td>Iris-setosa</td>\n",
       "      <td>0</td>\n",
       "    </tr>\n",
       "    <tr>\n",
       "      <th>1</th>\n",
       "      <td>2</td>\n",
       "      <td>4.9</td>\n",
       "      <td>3.0</td>\n",
       "      <td>1.4</td>\n",
       "      <td>0.2</td>\n",
       "      <td>Iris-setosa</td>\n",
       "      <td>0</td>\n",
       "    </tr>\n",
       "    <tr>\n",
       "      <th>2</th>\n",
       "      <td>3</td>\n",
       "      <td>4.7</td>\n",
       "      <td>3.2</td>\n",
       "      <td>1.3</td>\n",
       "      <td>0.2</td>\n",
       "      <td>Iris-setosa</td>\n",
       "      <td>0</td>\n",
       "    </tr>\n",
       "    <tr>\n",
       "      <th>3</th>\n",
       "      <td>4</td>\n",
       "      <td>4.6</td>\n",
       "      <td>3.1</td>\n",
       "      <td>1.5</td>\n",
       "      <td>0.2</td>\n",
       "      <td>Iris-setosa</td>\n",
       "      <td>0</td>\n",
       "    </tr>\n",
       "    <tr>\n",
       "      <th>4</th>\n",
       "      <td>5</td>\n",
       "      <td>5.0</td>\n",
       "      <td>3.6</td>\n",
       "      <td>1.4</td>\n",
       "      <td>0.2</td>\n",
       "      <td>Iris-setosa</td>\n",
       "      <td>0</td>\n",
       "    </tr>\n",
       "  </tbody>\n",
       "</table>\n",
       "</div>"
      ],
      "text/plain": [
       "   Id  SepalLength[cm]  SepalWidth[cm]  PetalLength[cm]  PetalWidth[cm]  \\\n",
       "0   1              5.1             3.5              1.4             0.2   \n",
       "1   2              4.9             3.0              1.4             0.2   \n",
       "2   3              4.7             3.2              1.3             0.2   \n",
       "3   4              4.6             3.1              1.5             0.2   \n",
       "4   5              5.0             3.6              1.4             0.2   \n",
       "\n",
       "       Species  Classes  \n",
       "0  Iris-setosa        0  \n",
       "1  Iris-setosa        0  \n",
       "2  Iris-setosa        0  \n",
       "3  Iris-setosa        0  \n",
       "4  Iris-setosa        0  "
      ]
     },
     "execution_count": 15,
     "metadata": {},
     "output_type": "execute_result"
    }
   ],
   "source": [
    "data_frame[:5]"
   ]
  },
  {
   "cell_type": "code",
   "execution_count": 16,
   "id": "94e8ad36",
   "metadata": {},
   "outputs": [
    {
     "data": {
      "text/html": [
       "<div>\n",
       "<style scoped>\n",
       "    .dataframe tbody tr th:only-of-type {\n",
       "        vertical-align: middle;\n",
       "    }\n",
       "\n",
       "    .dataframe tbody tr th {\n",
       "        vertical-align: top;\n",
       "    }\n",
       "\n",
       "    .dataframe thead th {\n",
       "        text-align: right;\n",
       "    }\n",
       "</style>\n",
       "<table border=\"1\" class=\"dataframe\">\n",
       "  <thead>\n",
       "    <tr style=\"text-align: right;\">\n",
       "      <th></th>\n",
       "      <th>SepalLength[cm]</th>\n",
       "      <th>SepalWidth[cm]</th>\n",
       "      <th>PetalLength[cm]</th>\n",
       "      <th>PetalWidth[cm]</th>\n",
       "      <th>Species</th>\n",
       "      <th>Classes</th>\n",
       "    </tr>\n",
       "  </thead>\n",
       "  <tbody>\n",
       "    <tr>\n",
       "      <th>0</th>\n",
       "      <td>5.1</td>\n",
       "      <td>3.5</td>\n",
       "      <td>1.4</td>\n",
       "      <td>0.2</td>\n",
       "      <td>Iris-setosa</td>\n",
       "      <td>0</td>\n",
       "    </tr>\n",
       "    <tr>\n",
       "      <th>1</th>\n",
       "      <td>4.9</td>\n",
       "      <td>3.0</td>\n",
       "      <td>1.4</td>\n",
       "      <td>0.2</td>\n",
       "      <td>Iris-setosa</td>\n",
       "      <td>0</td>\n",
       "    </tr>\n",
       "    <tr>\n",
       "      <th>2</th>\n",
       "      <td>4.7</td>\n",
       "      <td>3.2</td>\n",
       "      <td>1.3</td>\n",
       "      <td>0.2</td>\n",
       "      <td>Iris-setosa</td>\n",
       "      <td>0</td>\n",
       "    </tr>\n",
       "    <tr>\n",
       "      <th>3</th>\n",
       "      <td>4.6</td>\n",
       "      <td>3.1</td>\n",
       "      <td>1.5</td>\n",
       "      <td>0.2</td>\n",
       "      <td>Iris-setosa</td>\n",
       "      <td>0</td>\n",
       "    </tr>\n",
       "    <tr>\n",
       "      <th>4</th>\n",
       "      <td>5.0</td>\n",
       "      <td>3.6</td>\n",
       "      <td>1.4</td>\n",
       "      <td>0.2</td>\n",
       "      <td>Iris-setosa</td>\n",
       "      <td>0</td>\n",
       "    </tr>\n",
       "  </tbody>\n",
       "</table>\n",
       "</div>"
      ],
      "text/plain": [
       "   SepalLength[cm]  SepalWidth[cm]  PetalLength[cm]  PetalWidth[cm]  \\\n",
       "0              5.1             3.5              1.4             0.2   \n",
       "1              4.9             3.0              1.4             0.2   \n",
       "2              4.7             3.2              1.3             0.2   \n",
       "3              4.6             3.1              1.5             0.2   \n",
       "4              5.0             3.6              1.4             0.2   \n",
       "\n",
       "       Species  Classes  \n",
       "0  Iris-setosa        0  \n",
       "1  Iris-setosa        0  \n",
       "2  Iris-setosa        0  \n",
       "3  Iris-setosa        0  \n",
       "4  Iris-setosa        0  "
      ]
     },
     "execution_count": 16,
     "metadata": {},
     "output_type": "execute_result"
    }
   ],
   "source": [
    "data_frame = data_frame.drop('Id', axis = 1) # delete `Id` column\n",
    "data_frame.head()"
   ]
  },
  {
   "cell_type": "markdown",
   "id": "01b2b426",
   "metadata": {},
   "source": [
    "## B. Splitting a Dataset into Train, Validation, and Test Subsets"
   ]
  },
  {
   "cell_type": "code",
   "execution_count": 17,
   "id": "f0274af8",
   "metadata": {},
   "outputs": [
    {
     "data": {
      "text/plain": [
       "array([ 72, 112, 132,  88,  37, 138,  87,  42,   8,  90, 141,  33,  59,\n",
       "       116, 135, 104,  36,  13,  63,  45,  28, 133,  24, 127,  46,  20,\n",
       "        31, 121, 117,   4, 130, 119,  29,   0,  62,  93, 131,   5,  16,\n",
       "        82,  60,  35, 143, 145, 142, 114, 136,  53,  19,  38, 110,  23,\n",
       "         9,  86,  91,  89,  79, 101,  65, 115,  41, 124,  95,  21,  11,\n",
       "       103,  74, 122, 118,  44,  51,  81, 149,  12, 129,  56,  50,  25,\n",
       "       128, 146,  43,   1,  71,  54, 100,  14,   6,  80,  26,  70, 139,\n",
       "        30, 108,  15,  18,  77,  22,  10,  58, 107,  75,  64,  69,   3,\n",
       "        40,  76, 134,  34,  27,  94,  85,  97, 102,  52,  92,  99, 105,\n",
       "         7,  48,  61, 120, 137, 125, 147,  39,  84,   2,  67,  55,  49,\n",
       "        68, 140,  78, 144, 111,  32,  73,  47, 148, 113,  96,  57, 123,\n",
       "       106,  83,  17,  98,  66, 126, 109])"
      ]
     },
     "execution_count": 17,
     "metadata": {},
     "output_type": "execute_result"
    }
   ],
   "source": [
    "indices = np.arange(data_frame.shape[0])\n",
    "rng = np.random.RandomState(123)\n",
    "\n",
    "permuted_indices = rng.permutation(indices)\n",
    "permuted_indices"
   ]
  },
  {
   "cell_type": "code",
   "execution_count": 18,
   "id": "59180f36",
   "metadata": {},
   "outputs": [
    {
     "name": "stdout",
     "output_type": "stream",
     "text": [
      "97 22 31\n"
     ]
    }
   ],
   "source": [
    "train_size, validation_size = int(.65*data_frame.shape[0]), int(.15*data_frame.shape[0])\n",
    "test_size = int(data_frame.shape[0] - (train_size + validation_size))\n",
    "\n",
    "print(train_size, validation_size, test_size)"
   ]
  },
  {
   "cell_type": "code",
   "execution_count": 19,
   "id": "8eda7ba6",
   "metadata": {},
   "outputs": [],
   "source": [
    "train_indices      = permuted_indices[:train_size]\n",
    "validation_indices = permuted_indices[train_size:train_size + validation_size]\n",
    "test_indices       = permuted_indices[train_size + validation_size:]"
   ]
  },
  {
   "cell_type": "code",
   "execution_count": 20,
   "id": "235d49d4",
   "metadata": {},
   "outputs": [
    {
     "name": "stdout",
     "output_type": "stream",
     "text": [
      "Features: (150, 4)\n",
      "Classes: (150,)\n"
     ]
    }
   ],
   "source": [
    "X, y = data_frame.drop(['Species', 'Classes'], axis = 1).values, data_frame['Classes'].values\n",
    "\n",
    "print(f'Features: {X.shape}') \n",
    "print(f'Classes: {y.shape}')"
   ]
  },
  {
   "cell_type": "code",
   "execution_count": 21,
   "id": "fa7f18c2",
   "metadata": {},
   "outputs": [
    {
     "name": "stdout",
     "output_type": "stream",
     "text": [
      "Training set size:  (97, 4)  -> Class proportions: [37 27 33]\n",
      "Validation set size: (22, 4)  -> Class proportions: [ 7 11  4]\n",
      "Test set size: (31, 4)  -> Class proportions: [ 6 12 13]\n"
     ]
    }
   ],
   "source": [
    "X_train, X_valid, X_test = X[train_indices], X[validation_indices], X[test_indices]\n",
    "y_train, y_valid, y_test = y[train_indices], y[validation_indices], y[test_indices]\n",
    "\n",
    "print('Training set size: ', X_train.shape, ' -> Class proportions:', np.bincount(y_train))\n",
    "print('Validation set size:', X_valid.shape, ' -> Class proportions:', np.bincount(y_valid))\n",
    "print('Test set size:', X_test.shape, ' -> Class proportions:', np.bincount(y_test))"
   ]
  },
  {
   "cell_type": "markdown",
   "id": "ceb880ae",
   "metadata": {},
   "source": [
    "### B.1. Stratification\n",
    "\n",
    "Previously, we wrote our own code to shuffle and split a data set into training, validation, and test subsets, which had one considerable downside.\n",
    "If we are working with small datasets and split it randomly into subsets, it will affect the class distribution in the samples - this is problematic since machine learning algorithms/models assume that training, validation, and test samples have been drawn from the same distributions to produce reliable models and estimates of the generalization performance.\n",
    "\n",
    "![stratification](https://github.com/rasbt/stat479-machine-learning-fs19/raw/6d1f0c5f20cac88860b3e1bb4c318e3ee56783ac/05_preprocessing-and-sklearn/code/images/iris-subsampling.png)"
   ]
  },
  {
   "cell_type": "markdown",
   "id": "a8e8bfbf",
   "metadata": {},
   "source": [
    "The method of ensuring that the class label proportions are the same in each subset after splitting, we use an approach that is usually referred to as **stratification**.\n",
    "Stratification is supported in `scikit-learn`'s `train_test_split` method if we pass the class label array to the `stratify` parameter as shown below."
   ]
  },
  {
   "cell_type": "code",
   "execution_count": 22,
   "id": "ddc4a844",
   "metadata": {},
   "outputs": [
    {
     "name": "stdout",
     "output_type": "stream",
     "text": [
      "Training set size:  (107, 4)  -> Class proportions: [36 35 36]\n",
      "Validation set size: (20, 4)  -> Class proportions: [7 7 6]\n",
      "Test set size: (23, 4)  -> Class proportions: [7 8 8]\n"
     ]
    }
   ],
   "source": [
    "X_temp, X_test, y_temp, y_test = train_test_split(X, y, test_size = .15, shuffle = True, random_state = 123, stratify = y)\n",
    "X_train, X_valid, y_train, y_valid = train_test_split(X_temp, y_temp, test_size = .15, shuffle = True, random_state = 123, stratify = y_temp)\n",
    "\n",
    "print('Training set size: ', X_train.shape, ' -> Class proportions:', np.bincount(y_train))\n",
    "print('Validation set size:', X_valid.shape, ' -> Class proportions:', np.bincount(y_valid))\n",
    "print('Test set size:', X_test.shape, ' -> Class proportions:', np.bincount(y_test))"
   ]
  },
  {
   "cell_type": "markdown",
   "id": "4ad63d74",
   "metadata": {},
   "source": [
    "## C. Data Scaling\n",
    "\n",
    "Whether or not to scale features depends on the problem at hand and requires your judgement.\n",
    "However, there are several algorithms (especially gradient-descent, etc.), which work much better (are more robust, numerically stable, and converge faster) if the data is centered and has a smaller range.\n",
    "There are many different ways for scaling features; here, we only cover to of the most common \"normalization\" schemes: *min-max* scaling and *z-score* standardization."
   ]
  },
  {
   "cell_type": "markdown",
   "id": "b63bd537",
   "metadata": {},
   "source": [
    "### C.1. Normalization - Min-Max Scaling\n",
    "\n",
    "Min-max scaling squashes the features into a `[0, 1]` range, which can be achieved via the following equation for a single input:\n",
    "\n",
    "$$ x^{[i]}_{norm} = \\frac{x^{[i]}_{norm} - x_{min}}{x_{max} - x_{min}} $$"
   ]
  },
  {
   "cell_type": "code",
   "execution_count": 23,
   "id": "c34b17eb",
   "metadata": {},
   "outputs": [
    {
     "data": {
      "text/plain": [
       "'Unnormalized vector: [0. 1. 2. 3. 4. 5.]'"
      ]
     },
     "metadata": {},
     "output_type": "display_data"
    },
    {
     "data": {
      "text/plain": [
       "'Normalized vector: [0.  0.2 0.4 0.6 0.8 1. ]'"
      ]
     },
     "metadata": {},
     "output_type": "display_data"
    }
   ],
   "source": [
    "x = np.arange(6).astype(np.float16)\n",
    "\n",
    "display(f'Unnormalized vector: {x}')\n",
    "display(f'Normalized vector: {(x - x.min()) / (x.max() - x.min())}')"
   ]
  },
  {
   "cell_type": "markdown",
   "id": "58094281",
   "metadata": {},
   "source": [
    "### C.2 Standardization\n",
    "\n",
    "After standardizing a feature, it will have the properties of a standard normal distribution, that is, unit variance and zero mean $\\mathcal{N}(\\mu = 0, \\sigma^2 = 1)$; however, this does not transform a feature from not following a normal distribution to a normal distributed one.\n",
    "The formula for standardizing a feature is shown below, for a single data point $x^{[i]}$:\n",
    "\n",
    "$$ x^{[i]}_{standard} = \\frac{x^{[i]} - \\mu_x}{\\sigma_x} $$"
   ]
  },
  {
   "cell_type": "code",
   "execution_count": 24,
   "id": "75135350",
   "metadata": {},
   "outputs": [
    {
     "data": {
      "text/plain": [
       "'Unnormalized vector: [0. 1. 2. 3. 4. 5.]'"
      ]
     },
     "metadata": {},
     "output_type": "display_data"
    },
    {
     "data": {
      "text/plain": [
       "'Standardized vector: [-1.464  -0.8784 -0.2927  0.2927  0.8784  1.464 ]'"
      ]
     },
     "metadata": {},
     "output_type": "display_data"
    }
   ],
   "source": [
    "x = np.arange(6).astype(np.float16)\n",
    "\n",
    "display(f'Unnormalized vector: {x}')\n",
    "display(f'Standardized vector: {(x - x.mean()) / (x.std())}')"
   ]
  },
  {
   "cell_type": "markdown",
   "id": "9f22d2a9",
   "metadata": {},
   "source": [
    "A concept that is very important though is how we use the estimated normalization parameters (e.g., mean and standard deviation in z-score standardization).\n",
    "In particular, it is important that we re-use the parameters estimated from the training set to transfrom validation and test sets - re-estimating the parameters is a common \"beginner-mistake\"."
   ]
  },
  {
   "cell_type": "code",
   "execution_count": 25,
   "id": "7deb263b",
   "metadata": {},
   "outputs": [
    {
     "name": "stdout",
     "output_type": "stream",
     "text": [
      "Scaled: [-0.35  0.1   0.85], Standardized: [-2.08206628 -0.9797959   0.85732141]\n"
     ]
    }
   ],
   "source": [
    "X_train_example, y_train_example = np.array([10, 20, 30]), np.array([0, 1, 0])\n",
    "X_valid_example, y_valid_example = np.array([3, 12, 27]), np.array([0, 1, 0])\n",
    "\n",
    "mu, sigma = X_train_example.mean(), X_train_example.std()\n",
    "minimum, maximum = X_train_example.min(), X_train_example.max()\n",
    "\n",
    "X_valid_example_scaled = (X_valid_example - minimum) / (maximum - minimum)\n",
    "X_valid_example_standardized = (X_valid_example - mu) / sigma # WRONG !!! X_valid = (X_valid - X_valid.mean()) / X_valid.std()\n",
    "\n",
    "print(f'Scaled: {X_valid_example_scaled}, Standardized: {X_valid_example_standardized}')"
   ]
  },
  {
   "cell_type": "markdown",
   "id": "94f96cff",
   "metadata": {},
   "source": [
    "## D. Scikit-Learn Transformer API"
   ]
  },
  {
   "cell_type": "code",
   "execution_count": 26,
   "id": "29650083",
   "metadata": {},
   "outputs": [
    {
     "name": "stdout",
     "output_type": "stream",
     "text": [
      "Scaled: [-0.35  0.1   0.85]\n"
     ]
    }
   ],
   "source": [
    "min_max_scaler = MinMaxScaler()\n",
    "min_max_scaler.fit(X_train_example.reshape(-1, 1))\n",
    "X_valid_example_scaled = min_max_scaler.transform(X_valid_example.reshape(-1, 1)).reshape(1, -1)[0]\n",
    "\n",
    "print(f'Scaled: {X_valid_example_scaled}')"
   ]
  },
  {
   "cell_type": "code",
   "execution_count": 27,
   "id": "f5075941",
   "metadata": {},
   "outputs": [
    {
     "name": "stdout",
     "output_type": "stream",
     "text": [
      "Standardized: [-2.08206628 -0.9797959   0.85732141]\n"
     ]
    }
   ],
   "source": [
    "standardizer = StandardScaler()\n",
    "standardizer.fit(X_train_example.reshape(-1, 1))\n",
    "X_valid_example_standardized = standardizer.transform(X_valid_example.reshape(-1, 1)).reshape(1, -1)[0]\n",
    "\n",
    "print(f'Standardized: {X_valid_example_standardized}')"
   ]
  },
  {
   "cell_type": "markdown",
   "id": "02f92b17",
   "metadata": {},
   "source": [
    "### D.1 Categorical Data\n",
    "\n",
    "When we preprocess a dataset as input to a machine learning algorithm, we have to be careful how we treat categorical variables.\n",
    "There are two broad categories of categorical variables: **nominal** (no order implied) and **ordinal** (order implied)."
   ]
  },
  {
   "cell_type": "code",
   "execution_count": 28,
   "id": "fe64984c",
   "metadata": {},
   "outputs": [
    {
     "data": {
      "text/html": [
       "<div>\n",
       "<style scoped>\n",
       "    .dataframe tbody tr th:only-of-type {\n",
       "        vertical-align: middle;\n",
       "    }\n",
       "\n",
       "    .dataframe tbody tr th {\n",
       "        vertical-align: top;\n",
       "    }\n",
       "\n",
       "    .dataframe thead th {\n",
       "        text-align: right;\n",
       "    }\n",
       "</style>\n",
       "<table border=\"1\" class=\"dataframe\">\n",
       "  <thead>\n",
       "    <tr style=\"text-align: right;\">\n",
       "      <th></th>\n",
       "      <th>Color</th>\n",
       "      <th>Size</th>\n",
       "      <th>Class</th>\n",
       "    </tr>\n",
       "  </thead>\n",
       "  <tbody>\n",
       "    <tr>\n",
       "      <th>0</th>\n",
       "      <td>green</td>\n",
       "      <td>M</td>\n",
       "      <td>Class 1</td>\n",
       "    </tr>\n",
       "    <tr>\n",
       "      <th>1</th>\n",
       "      <td>red</td>\n",
       "      <td>L</td>\n",
       "      <td>Class 2</td>\n",
       "    </tr>\n",
       "    <tr>\n",
       "      <th>2</th>\n",
       "      <td>blue</td>\n",
       "      <td>XXL</td>\n",
       "      <td>Class 2</td>\n",
       "    </tr>\n",
       "  </tbody>\n",
       "</table>\n",
       "</div>"
      ],
      "text/plain": [
       "   Color Size    Class\n",
       "0  green    M  Class 1\n",
       "1    red    L  Class 2\n",
       "2   blue  XXL  Class 2"
      ]
     },
     "execution_count": 28,
     "metadata": {},
     "output_type": "execute_result"
    }
   ],
   "source": [
    "data_frame_1 = pd.DataFrame({'Color': ['green', 'red', 'blue'], 'Size': ['M', 'L', 'XXL'], 'Class': ['Class 1', 'Class 2', 'Class 2']})\n",
    "data_frame_1.head()"
   ]
  },
  {
   "cell_type": "markdown",
   "id": "58ae155e",
   "metadata": {},
   "source": [
    " - In the example above, `Size` would be an example of an ordinal variable; i.e., if the letters refer to T-shirt sizes, it would make sense to come up with an ordering like `M < L < XXL`.\n",
    " \n",
    " - Hence, we can assign increasing values to a ordinal values; however, the range and difference between categories depends on our domain knowledge and judgement."
   ]
  },
  {
   "cell_type": "code",
   "execution_count": 29,
   "id": "292627ca",
   "metadata": {},
   "outputs": [
    {
     "data": {
      "text/html": [
       "<div>\n",
       "<style scoped>\n",
       "    .dataframe tbody tr th:only-of-type {\n",
       "        vertical-align: middle;\n",
       "    }\n",
       "\n",
       "    .dataframe tbody tr th {\n",
       "        vertical-align: top;\n",
       "    }\n",
       "\n",
       "    .dataframe thead th {\n",
       "        text-align: right;\n",
       "    }\n",
       "</style>\n",
       "<table border=\"1\" class=\"dataframe\">\n",
       "  <thead>\n",
       "    <tr style=\"text-align: right;\">\n",
       "      <th></th>\n",
       "      <th>Color</th>\n",
       "      <th>Size</th>\n",
       "      <th>Class</th>\n",
       "    </tr>\n",
       "  </thead>\n",
       "  <tbody>\n",
       "    <tr>\n",
       "      <th>0</th>\n",
       "      <td>green</td>\n",
       "      <td>2</td>\n",
       "      <td>Class 1</td>\n",
       "    </tr>\n",
       "    <tr>\n",
       "      <th>1</th>\n",
       "      <td>red</td>\n",
       "      <td>3</td>\n",
       "      <td>Class 2</td>\n",
       "    </tr>\n",
       "    <tr>\n",
       "      <th>2</th>\n",
       "      <td>blue</td>\n",
       "      <td>5</td>\n",
       "      <td>Class 2</td>\n",
       "    </tr>\n",
       "  </tbody>\n",
       "</table>\n",
       "</div>"
      ],
      "text/plain": [
       "   Color  Size    Class\n",
       "0  green     2  Class 1\n",
       "1    red     3  Class 2\n",
       "2   blue     5  Class 2"
      ]
     },
     "execution_count": 29,
     "metadata": {},
     "output_type": "execute_result"
    }
   ],
   "source": [
    "size_mapper = {\n",
    "    'M': 2,\n",
    "    'L': 3,\n",
    "    'XXL': 5\n",
    "}\n",
    "\n",
    "data_frame_1['Size'] = data_frame_1['Size'].map(size_mapper)\n",
    "data_frame_1.head()"
   ]
  },
  {
   "cell_type": "markdown",
   "id": "a97b31ac",
   "metadata": {},
   "source": [
    " - Machine learning algorithms do not assume an ordering in the case of class labels.\n",
    " \n",
    " - Here, we can use the `LabelEncoder` from `scikit-learn` to convert class labels to integers as an alternative to using the `map` method."
   ]
  },
  {
   "cell_type": "code",
   "execution_count": 30,
   "id": "34ecf7ae",
   "metadata": {},
   "outputs": [
    {
     "data": {
      "text/html": [
       "<div>\n",
       "<style scoped>\n",
       "    .dataframe tbody tr th:only-of-type {\n",
       "        vertical-align: middle;\n",
       "    }\n",
       "\n",
       "    .dataframe tbody tr th {\n",
       "        vertical-align: top;\n",
       "    }\n",
       "\n",
       "    .dataframe thead th {\n",
       "        text-align: right;\n",
       "    }\n",
       "</style>\n",
       "<table border=\"1\" class=\"dataframe\">\n",
       "  <thead>\n",
       "    <tr style=\"text-align: right;\">\n",
       "      <th></th>\n",
       "      <th>Color</th>\n",
       "      <th>Size</th>\n",
       "      <th>Class</th>\n",
       "      <th>ClassLabels</th>\n",
       "    </tr>\n",
       "  </thead>\n",
       "  <tbody>\n",
       "    <tr>\n",
       "      <th>0</th>\n",
       "      <td>green</td>\n",
       "      <td>2</td>\n",
       "      <td>Class 1</td>\n",
       "      <td>0</td>\n",
       "    </tr>\n",
       "    <tr>\n",
       "      <th>1</th>\n",
       "      <td>red</td>\n",
       "      <td>3</td>\n",
       "      <td>Class 2</td>\n",
       "      <td>1</td>\n",
       "    </tr>\n",
       "    <tr>\n",
       "      <th>2</th>\n",
       "      <td>blue</td>\n",
       "      <td>5</td>\n",
       "      <td>Class 2</td>\n",
       "      <td>1</td>\n",
       "    </tr>\n",
       "  </tbody>\n",
       "</table>\n",
       "</div>"
      ],
      "text/plain": [
       "   Color  Size    Class  ClassLabels\n",
       "0  green     2  Class 1            0\n",
       "1    red     3  Class 2            1\n",
       "2   blue     5  Class 2            1"
      ]
     },
     "execution_count": 30,
     "metadata": {},
     "output_type": "execute_result"
    }
   ],
   "source": [
    "label_encoder = LabelEncoder()\n",
    "label_encoder.fit(data_frame_1['Class'])\n",
    "\n",
    "data_frame_1['ClassLabels'] = label_encoder.transform(data_frame_1['Class'])\n",
    "data_frame_1.head()"
   ]
  },
  {
   "cell_type": "markdown",
   "id": "e1f9731f",
   "metadata": {},
   "source": [
    "- Representing nominal variables properly is a bit more tricky.\n",
    "\n",
    "- We use \"one-hot\" encoding - we binarize a nominal variable, as shown below for the color variable (again, we do this because some ordering like `orange < red < blue` would not make sense in many applications)."
   ]
  },
  {
   "cell_type": "code",
   "execution_count": 31,
   "id": "4eab84cc",
   "metadata": {},
   "outputs": [
    {
     "data": {
      "text/html": [
       "<div>\n",
       "<style scoped>\n",
       "    .dataframe tbody tr th:only-of-type {\n",
       "        vertical-align: middle;\n",
       "    }\n",
       "\n",
       "    .dataframe tbody tr th {\n",
       "        vertical-align: top;\n",
       "    }\n",
       "\n",
       "    .dataframe thead th {\n",
       "        text-align: right;\n",
       "    }\n",
       "</style>\n",
       "<table border=\"1\" class=\"dataframe\">\n",
       "  <thead>\n",
       "    <tr style=\"text-align: right;\">\n",
       "      <th></th>\n",
       "      <th>Size</th>\n",
       "      <th>Class</th>\n",
       "      <th>ClassLabels</th>\n",
       "      <th>Color_blue</th>\n",
       "      <th>Color_green</th>\n",
       "      <th>Color_red</th>\n",
       "    </tr>\n",
       "  </thead>\n",
       "  <tbody>\n",
       "    <tr>\n",
       "      <th>0</th>\n",
       "      <td>2</td>\n",
       "      <td>Class 1</td>\n",
       "      <td>0</td>\n",
       "      <td>0</td>\n",
       "      <td>1</td>\n",
       "      <td>0</td>\n",
       "    </tr>\n",
       "    <tr>\n",
       "      <th>1</th>\n",
       "      <td>3</td>\n",
       "      <td>Class 2</td>\n",
       "      <td>1</td>\n",
       "      <td>0</td>\n",
       "      <td>0</td>\n",
       "      <td>1</td>\n",
       "    </tr>\n",
       "    <tr>\n",
       "      <th>2</th>\n",
       "      <td>5</td>\n",
       "      <td>Class 2</td>\n",
       "      <td>1</td>\n",
       "      <td>1</td>\n",
       "      <td>0</td>\n",
       "      <td>0</td>\n",
       "    </tr>\n",
       "  </tbody>\n",
       "</table>\n",
       "</div>"
      ],
      "text/plain": [
       "   Size    Class  ClassLabels  Color_blue  Color_green  Color_red\n",
       "0     2  Class 1            0           0            1          0\n",
       "1     3  Class 2            1           0            0          1\n",
       "2     5  Class 2            1           1            0          0"
      ]
     },
     "execution_count": 31,
     "metadata": {},
     "output_type": "execute_result"
    }
   ],
   "source": [
    "data_frame_1 = pd.get_dummies(data_frame_1, columns = ['Color'])\n",
    "data_frame_1.head()"
   ]
  },
  {
   "cell_type": "markdown",
   "id": "fb17bcec",
   "metadata": {},
   "source": [
    " - Note that executing the code above produced `3` new variables for `Color_*` each of which takes on binary values."
   ]
  },
  {
   "cell_type": "markdown",
   "id": "066f7904",
   "metadata": {},
   "source": [
    "### D.2 Missing Data\n",
    "\n",
    "There are many different ways for dealing with missing data.\n",
    "The simplest approaches are removing entire columns or rows.\n",
    "Another simple approach is to impute missing values via the feature means, medians, mode, etc.\n",
    "There is no rule or best practice, and the choice of the approprite missing data imputation method depends on your judgement and domain knowledge."
   ]
  },
  {
   "cell_type": "code",
   "execution_count": 32,
   "id": "5b6d281e",
   "metadata": {},
   "outputs": [
    {
     "data": {
      "text/html": [
       "<div>\n",
       "<style scoped>\n",
       "    .dataframe tbody tr th:only-of-type {\n",
       "        vertical-align: middle;\n",
       "    }\n",
       "\n",
       "    .dataframe tbody tr th {\n",
       "        vertical-align: top;\n",
       "    }\n",
       "\n",
       "    .dataframe thead th {\n",
       "        text-align: right;\n",
       "    }\n",
       "</style>\n",
       "<table border=\"1\" class=\"dataframe\">\n",
       "  <thead>\n",
       "    <tr style=\"text-align: right;\">\n",
       "      <th></th>\n",
       "      <th>A</th>\n",
       "      <th>B</th>\n",
       "      <th>C</th>\n",
       "      <th>D</th>\n",
       "    </tr>\n",
       "  </thead>\n",
       "  <tbody>\n",
       "    <tr>\n",
       "      <th>0</th>\n",
       "      <td>1.0</td>\n",
       "      <td>2.0</td>\n",
       "      <td>3.0</td>\n",
       "      <td>4.0</td>\n",
       "    </tr>\n",
       "    <tr>\n",
       "      <th>1</th>\n",
       "      <td>5.0</td>\n",
       "      <td>6.0</td>\n",
       "      <td>NaN</td>\n",
       "      <td>8.0</td>\n",
       "    </tr>\n",
       "    <tr>\n",
       "      <th>2</th>\n",
       "      <td>10.0</td>\n",
       "      <td>11.0</td>\n",
       "      <td>12.0</td>\n",
       "      <td>NaN</td>\n",
       "    </tr>\n",
       "  </tbody>\n",
       "</table>\n",
       "</div>"
      ],
      "text/plain": [
       "      A     B     C    D\n",
       "0   1.0   2.0   3.0  4.0\n",
       "1   5.0   6.0   NaN  8.0\n",
       "2  10.0  11.0  12.0  NaN"
      ]
     },
     "execution_count": 32,
     "metadata": {},
     "output_type": "execute_result"
    }
   ],
   "source": [
    "data_frame_2 = pd.DataFrame({'A': [1., 5., 10.], 'B': [2., 6., 11.], 'C': [3., np.nan, 12.], 'D': [4., 8., np.nan]})\n",
    "data_frame_2.head()"
   ]
  },
  {
   "cell_type": "code",
   "execution_count": 33,
   "id": "945467e6",
   "metadata": {},
   "outputs": [
    {
     "data": {
      "text/html": [
       "<div>\n",
       "<style scoped>\n",
       "    .dataframe tbody tr th:only-of-type {\n",
       "        vertical-align: middle;\n",
       "    }\n",
       "\n",
       "    .dataframe tbody tr th {\n",
       "        vertical-align: top;\n",
       "    }\n",
       "\n",
       "    .dataframe thead th {\n",
       "        text-align: right;\n",
       "    }\n",
       "</style>\n",
       "<table border=\"1\" class=\"dataframe\">\n",
       "  <thead>\n",
       "    <tr style=\"text-align: right;\">\n",
       "      <th></th>\n",
       "      <th>A</th>\n",
       "      <th>B</th>\n",
       "      <th>C</th>\n",
       "      <th>D</th>\n",
       "    </tr>\n",
       "  </thead>\n",
       "  <tbody>\n",
       "    <tr>\n",
       "      <th>0</th>\n",
       "      <td>False</td>\n",
       "      <td>False</td>\n",
       "      <td>False</td>\n",
       "      <td>False</td>\n",
       "    </tr>\n",
       "    <tr>\n",
       "      <th>1</th>\n",
       "      <td>False</td>\n",
       "      <td>False</td>\n",
       "      <td>True</td>\n",
       "      <td>False</td>\n",
       "    </tr>\n",
       "    <tr>\n",
       "      <th>2</th>\n",
       "      <td>False</td>\n",
       "      <td>False</td>\n",
       "      <td>False</td>\n",
       "      <td>True</td>\n",
       "    </tr>\n",
       "  </tbody>\n",
       "</table>\n",
       "</div>"
      ],
      "text/plain": [
       "       A      B      C      D\n",
       "0  False  False  False  False\n",
       "1  False  False   True  False\n",
       "2  False  False  False   True"
      ]
     },
     "metadata": {},
     "output_type": "display_data"
    },
    {
     "data": {
      "text/plain": [
       "A    0\n",
       "B    0\n",
       "C    1\n",
       "D    1\n",
       "dtype: int64"
      ]
     },
     "metadata": {},
     "output_type": "display_data"
    }
   ],
   "source": [
    "display(data_frame_2.isnull(), data_frame_2.isnull().sum())"
   ]
  },
  {
   "cell_type": "code",
   "execution_count": 34,
   "id": "b1bb69c9",
   "metadata": {},
   "outputs": [
    {
     "data": {
      "text/html": [
       "<div>\n",
       "<style scoped>\n",
       "    .dataframe tbody tr th:only-of-type {\n",
       "        vertical-align: middle;\n",
       "    }\n",
       "\n",
       "    .dataframe tbody tr th {\n",
       "        vertical-align: top;\n",
       "    }\n",
       "\n",
       "    .dataframe thead th {\n",
       "        text-align: right;\n",
       "    }\n",
       "</style>\n",
       "<table border=\"1\" class=\"dataframe\">\n",
       "  <thead>\n",
       "    <tr style=\"text-align: right;\">\n",
       "      <th></th>\n",
       "      <th>A</th>\n",
       "      <th>B</th>\n",
       "      <th>C</th>\n",
       "      <th>D</th>\n",
       "    </tr>\n",
       "  </thead>\n",
       "  <tbody>\n",
       "    <tr>\n",
       "      <th>0</th>\n",
       "      <td>1.0</td>\n",
       "      <td>2.0</td>\n",
       "      <td>3.0</td>\n",
       "      <td>4.0</td>\n",
       "    </tr>\n",
       "  </tbody>\n",
       "</table>\n",
       "</div>"
      ],
      "text/plain": [
       "     A    B    C    D\n",
       "0  1.0  2.0  3.0  4.0"
      ]
     },
     "metadata": {},
     "output_type": "display_data"
    },
    {
     "data": {
      "text/html": [
       "<div>\n",
       "<style scoped>\n",
       "    .dataframe tbody tr th:only-of-type {\n",
       "        vertical-align: middle;\n",
       "    }\n",
       "\n",
       "    .dataframe tbody tr th {\n",
       "        vertical-align: top;\n",
       "    }\n",
       "\n",
       "    .dataframe thead th {\n",
       "        text-align: right;\n",
       "    }\n",
       "</style>\n",
       "<table border=\"1\" class=\"dataframe\">\n",
       "  <thead>\n",
       "    <tr style=\"text-align: right;\">\n",
       "      <th></th>\n",
       "      <th>A</th>\n",
       "      <th>B</th>\n",
       "    </tr>\n",
       "  </thead>\n",
       "  <tbody>\n",
       "    <tr>\n",
       "      <th>0</th>\n",
       "      <td>1.0</td>\n",
       "      <td>2.0</td>\n",
       "    </tr>\n",
       "    <tr>\n",
       "      <th>1</th>\n",
       "      <td>5.0</td>\n",
       "      <td>6.0</td>\n",
       "    </tr>\n",
       "    <tr>\n",
       "      <th>2</th>\n",
       "      <td>10.0</td>\n",
       "      <td>11.0</td>\n",
       "    </tr>\n",
       "  </tbody>\n",
       "</table>\n",
       "</div>"
      ],
      "text/plain": [
       "      A     B\n",
       "0   1.0   2.0\n",
       "1   5.0   6.0\n",
       "2  10.0  11.0"
      ]
     },
     "metadata": {},
     "output_type": "display_data"
    }
   ],
   "source": [
    "display(data_frame_2.dropna(axis = 0), data_frame_2.dropna(axis = 1)) # drop rows, columns where there are missing values respectively"
   ]
  },
  {
   "cell_type": "code",
   "execution_count": 35,
   "id": "4bdcf5b9",
   "metadata": {
    "scrolled": true
   },
   "outputs": [
    {
     "data": {
      "text/html": [
       "<div>\n",
       "<style scoped>\n",
       "    .dataframe tbody tr th:only-of-type {\n",
       "        vertical-align: middle;\n",
       "    }\n",
       "\n",
       "    .dataframe tbody tr th {\n",
       "        vertical-align: top;\n",
       "    }\n",
       "\n",
       "    .dataframe thead th {\n",
       "        text-align: right;\n",
       "    }\n",
       "</style>\n",
       "<table border=\"1\" class=\"dataframe\">\n",
       "  <thead>\n",
       "    <tr style=\"text-align: right;\">\n",
       "      <th></th>\n",
       "      <th>A</th>\n",
       "      <th>B</th>\n",
       "      <th>C</th>\n",
       "      <th>D</th>\n",
       "    </tr>\n",
       "  </thead>\n",
       "  <tbody>\n",
       "    <tr>\n",
       "      <th>0</th>\n",
       "      <td>1.0</td>\n",
       "      <td>2.0</td>\n",
       "      <td>3.0</td>\n",
       "      <td>4.0</td>\n",
       "    </tr>\n",
       "    <tr>\n",
       "      <th>1</th>\n",
       "      <td>5.0</td>\n",
       "      <td>6.0</td>\n",
       "      <td>7.5</td>\n",
       "      <td>8.0</td>\n",
       "    </tr>\n",
       "    <tr>\n",
       "      <th>2</th>\n",
       "      <td>10.0</td>\n",
       "      <td>11.0</td>\n",
       "      <td>12.0</td>\n",
       "      <td>6.0</td>\n",
       "    </tr>\n",
       "  </tbody>\n",
       "</table>\n",
       "</div>"
      ],
      "text/plain": [
       "      A     B     C    D\n",
       "0   1.0   2.0   3.0  4.0\n",
       "1   5.0   6.0   7.5  8.0\n",
       "2  10.0  11.0  12.0  6.0"
      ]
     },
     "execution_count": 35,
     "metadata": {},
     "output_type": "execute_result"
    }
   ],
   "source": [
    "imputer_mean   = SimpleImputer(missing_values = np.nan, strategy = 'mean')\n",
    "imputer_median = SimpleImputer(missing_values = np.nan, strategy = 'median')\n",
    "\n",
    "imputer_mean.fit(data_frame_2['C'].values.reshape(-1, 1))\n",
    "imputer_median.fit(data_frame_2['D'].values.reshape(-1, 1))\n",
    "\n",
    "data_frame_2['C'] = imputer_mean.transform(data_frame_2['C'].values.reshape(-1, 1))\n",
    "data_frame_2['D'] = imputer_median.transform(data_frame_2['D'].values.reshape(-1, 1))\n",
    "\n",
    "data_frame_2.head()"
   ]
  },
  {
   "cell_type": "markdown",
   "id": "61fc513f",
   "metadata": {},
   "source": [
    "## E. Feature Transformation, Extraction, and Selection\n",
    "\n",
    "Scikit-learn pipelines are an extremely convenient and powerful concept.\n",
    "Pipelines basically let us define a series of perprocessing steps together with fitting an estimator.\n",
    "Pipelines will automatically take care of pitfalls like estimating feature scaling parameters from the training set and applying those to scale new data."
   ]
  },
  {
   "cell_type": "code",
   "execution_count": 36,
   "id": "0d8088e3",
   "metadata": {},
   "outputs": [
    {
     "data": {
      "text/plain": [
       "Pipeline(steps=[('standardscaler', StandardScaler()),\n",
       "                ('kneighborsclassifier', KNeighborsClassifier(n_neighbors=3))])"
      ]
     },
     "execution_count": 36,
     "metadata": {},
     "output_type": "execute_result"
    }
   ],
   "source": [
    "pipeline = make_pipeline(StandardScaler(), KNeighborsClassifier(n_neighbors=3))\n",
    "\n",
    "pipeline"
   ]
  },
  {
   "cell_type": "code",
   "execution_count": 37,
   "id": "ad32c763",
   "metadata": {},
   "outputs": [
    {
     "name": "stdout",
     "output_type": "stream",
     "text": [
      "Predictions: [0 2 0 1 0 2 1 2 0 2 2 1 2 1 0 2 1 1 0 0]\n",
      "Score (accuracy): 95.65%\n"
     ]
    }
   ],
   "source": [
    "pipeline.fit(X = X_test, y = y_test)\n",
    "\n",
    "print(f'Predictions: {pipeline.predict(X = X_valid)}'), \n",
    "print(f'Score (accuracy): {pipeline.score(X = X_test, y = y_test)*100:.2f}%')"
   ]
  },
  {
   "cell_type": "markdown",
   "id": "06008670",
   "metadata": {},
   "source": [
    "### E.1 Intro Model Selection - Pipelines and Grid Search\n",
    "\n",
    "In machine learning practice, we often need to experiment with an machine learning algorithm's hyperparameters to find a good setting.\n",
    "The process of tuning hyperparameters and comparing and selecting the resulting models is also called *model selection*.\n",
    "Here, we are introducing the simplest way of performing model selection: using the *holdout method.*\n",
    "In the holdout method, we split a dataset into 3 subsets: a training, a validation, and a test datatset.\n",
    "To avoid biasing the estimate of the generalization performance, we only want to use the test dataset once, which is why we use the validation dataset for hyperparameter tuning (model selection).\n",
    "Here, the validation dataset serves as an estimate of the generalization performance, too, but it becomes more biased than the final estimate on the test data because of its repeated re-use during model selection (think of \"multiple hypothesis testing\").\n",
    "\n",
    "![tuning-model](https://github.com/rasbt/stat479-machine-learning-fs19/raw/6d1f0c5f20cac88860b3e1bb4c318e3ee56783ac/05_preprocessing-and-sklearn/code/images/holdout-tuning.png)"
   ]
  },
  {
   "cell_type": "code",
   "execution_count": 38,
   "id": "6abcc046",
   "metadata": {},
   "outputs": [
    {
     "data": {
      "text/plain": [
       "Pipeline(steps=[('standardscaler', StandardScaler()),\n",
       "                ('kneighborsclassifier', KNeighborsClassifier())])"
      ]
     },
     "execution_count": 38,
     "metadata": {},
     "output_type": "execute_result"
    }
   ],
   "source": [
    "pipeline = make_pipeline(StandardScaler(), KNeighborsClassifier())\n",
    "pipeline"
   ]
  },
  {
   "cell_type": "code",
   "execution_count": 39,
   "id": "0589a7b1",
   "metadata": {},
   "outputs": [
    {
     "data": {
      "text/plain": [
       "GridSearchCV(cv=PredefinedSplit(test_fold=array([-1, -1, ...,  0,  0])),\n",
       "             estimator=Pipeline(steps=[('standardscaler', StandardScaler()),\n",
       "                                       ('kneighborsclassifier',\n",
       "                                        KNeighborsClassifier())]),\n",
       "             param_grid={'kneighborsclassifier__n_neighbors': [1, 3, 5],\n",
       "                         'kneighborsclassifier__p': [1, 2]})"
      ]
     },
     "execution_count": 39,
     "metadata": {},
     "output_type": "execute_result"
    }
   ],
   "source": [
    "params = {\n",
    "    'kneighborsclassifier__n_neighbors': [1, 3, 5],\n",
    "    'kneighborsclassifier__p': [1, 2]\n",
    "}\n",
    "\n",
    "ps = PredefinedSplit(np.concatenate((np.full(shape = (X_train.shape[0],), fill_value = -1), np.zeros(shape = (X_valid.shape[0],)))))\n",
    "\n",
    "grid = GridSearchCV(estimator = pipeline, param_grid = params, cv = ps)\n",
    "grid.fit(X = np.vstack((X_train, X_valid)), y = np.hstack((y_train, y_valid)))"
   ]
  },
  {
   "cell_type": "code",
   "execution_count": 40,
   "id": "2047e199",
   "metadata": {},
   "outputs": [
    {
     "data": {
      "text/plain": [
       "{'mean_fit_time': array([0.00440311, 0.00735044, 0.00571036, 0.02639818, 0.00419641,\n",
       "        0.00139952]),\n",
       " 'std_fit_time': array([0., 0., 0., 0., 0., 0.]),\n",
       " 'mean_score_time': array([0.00548553, 0.00662446, 0.00645447, 0.00226831, 0.00444078,\n",
       "        0.00358653]),\n",
       " 'std_score_time': array([0., 0., 0., 0., 0., 0.]),\n",
       " 'param_kneighborsclassifier__n_neighbors': masked_array(data=[1, 1, 3, 3, 5, 5],\n",
       "              mask=[False, False, False, False, False, False],\n",
       "        fill_value='?',\n",
       "             dtype=object),\n",
       " 'param_kneighborsclassifier__p': masked_array(data=[1, 2, 1, 2, 1, 2],\n",
       "              mask=[False, False, False, False, False, False],\n",
       "        fill_value='?',\n",
       "             dtype=object),\n",
       " 'params': [{'kneighborsclassifier__n_neighbors': 1,\n",
       "   'kneighborsclassifier__p': 1},\n",
       "  {'kneighborsclassifier__n_neighbors': 1, 'kneighborsclassifier__p': 2},\n",
       "  {'kneighborsclassifier__n_neighbors': 3, 'kneighborsclassifier__p': 1},\n",
       "  {'kneighborsclassifier__n_neighbors': 3, 'kneighborsclassifier__p': 2},\n",
       "  {'kneighborsclassifier__n_neighbors': 5, 'kneighborsclassifier__p': 1},\n",
       "  {'kneighborsclassifier__n_neighbors': 5, 'kneighborsclassifier__p': 2}],\n",
       " 'split0_test_score': array([0.9, 0.9, 0.9, 0.9, 0.9, 0.9]),\n",
       " 'mean_test_score': array([0.9, 0.9, 0.9, 0.9, 0.9, 0.9]),\n",
       " 'std_test_score': array([0., 0., 0., 0., 0., 0.]),\n",
       " 'rank_test_score': array([1, 1, 1, 1, 1, 1], dtype=int32)}"
      ]
     },
     "execution_count": 40,
     "metadata": {},
     "output_type": "execute_result"
    }
   ],
   "source": [
    "grid.cv_results_"
   ]
  },
  {
   "cell_type": "code",
   "execution_count": 41,
   "id": "ed2346a7",
   "metadata": {},
   "outputs": [
    {
     "name": "stdout",
     "output_type": "stream",
     "text": [
      "Best score: 0.9\n",
      "Best parameters: {'kneighborsclassifier__n_neighbors': 1, 'kneighborsclassifier__p': 1}\n"
     ]
    }
   ],
   "source": [
    "print(f'Best score: {grid.best_score_}')\n",
    "print(f'Best parameters: {grid.best_params_}')"
   ]
  },
  {
   "cell_type": "code",
   "execution_count": 42,
   "id": "e251b6eb",
   "metadata": {},
   "outputs": [
    {
     "name": "stdout",
     "output_type": "stream",
     "text": [
      "Test accuracy: 91.30%\n"
     ]
    }
   ],
   "source": [
    "classifier = grid.best_estimator_\n",
    "classifier.fit(X_train, y_train)\n",
    "print(f'Test accuracy: {(classifier.score(X_test, y_test)*100):.2f}%')"
   ]
  }
 ],
 "metadata": {
  "kernelspec": {
   "display_name": "Python 3 (ipykernel)",
   "language": "python",
   "name": "python3"
  },
  "language_info": {
   "codemirror_mode": {
    "name": "ipython",
    "version": 3
   },
   "file_extension": ".py",
   "mimetype": "text/x-python",
   "name": "python",
   "nbconvert_exporter": "python",
   "pygments_lexer": "ipython3",
   "version": "3.8.10"
  }
 },
 "nbformat": 4,
 "nbformat_minor": 5
}
