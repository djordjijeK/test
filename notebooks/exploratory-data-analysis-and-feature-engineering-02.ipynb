{
 "cells": [
  {
   "cell_type": "markdown",
   "id": "78e4a299",
   "metadata": {},
   "source": [
    "# Exploratory Data Analysis and Feature Engineering\n",
    "\n",
    "To train a model, the dataset must follow two fundamental rules: all data must be numeric and there can't be any missing values. \n",
    "We must derive numeric features from the nonnumeric features such as strings, dates, and categorical variables.\n",
    "Or, we can simply delete the nonnumeric features.\n",
    "Even with purely numeric data, there is potential cleanup work to do. \n",
    "The data could have outliers, errors, or contradictory information."
   ]
  },
  {
   "cell_type": "code",
   "execution_count": 1,
   "id": "5092a1a0",
   "metadata": {},
   "outputs": [],
   "source": [
    "import numpy as np\n",
    "import pandas as pd\n",
    "import matplotlib.pyplot as plt\n",
    "    \n",
    "from sklearn.metrics import mean_absolute_error       \n",
    "from sklearn.ensemble import RandomForestRegressor\n",
    "from sklearn.model_selection import train_test_split\n",
    "from sklearn.inspection import permutation_importance"
   ]
  },
  {
   "cell_type": "code",
   "execution_count": 2,
   "id": "bc6b3cde",
   "metadata": {},
   "outputs": [],
   "source": [
    "plt.style.use('ggplot')\n",
    "\n",
    "color_palette = {\n",
    "     'crimson': '#a50026', \n",
    "     'red': '#d73027',\n",
    "     'redorange': '#f46d43', \n",
    "     'orange': '#fdae61',\n",
    "     'yellow': '#fee090', \n",
    "     'sky': '#e0f3f8',\n",
    "     'babyblue': '#abd9e9', \n",
    "     'lightblue': '#74add1',\n",
    "     'blue': '#4575b4', \n",
    "     'purple': '#313695'\n",
    "}"
   ]
  },
  {
   "cell_type": "code",
   "execution_count": 3,
   "id": "995f54e6",
   "metadata": {},
   "outputs": [],
   "source": [
    "PATH_CLEANED = '../data/rent.csv'\n",
    "PATH_RAW     = '../data/rent-raw.json'"
   ]
  },
  {
   "cell_type": "code",
   "execution_count": 4,
   "id": "be79a8ab",
   "metadata": {},
   "outputs": [
    {
     "name": "stdout",
     "output_type": "stream",
     "text": [
      "48301 ../data/rent.csv\n",
      "1,3M\t../data/rent.csv\n",
      "68M\t../data/rent-raw.json\n"
     ]
    }
   ],
   "source": [
    "!wc -l {PATH_CLEANED}\n",
    "!du -h {PATH_CLEANED}\n",
    "!du -h {PATH_RAW}"
   ]
  },
  {
   "cell_type": "markdown",
   "id": "e4b4dee6",
   "metadata": {},
   "source": [
    "## A.1. Importing Data"
   ]
  },
  {
   "cell_type": "code",
   "execution_count": 5,
   "id": "704fc01e",
   "metadata": {},
   "outputs": [
    {
     "data": {
      "text/html": [
       "<div>\n",
       "<style scoped>\n",
       "    .dataframe tbody tr th:only-of-type {\n",
       "        vertical-align: middle;\n",
       "    }\n",
       "\n",
       "    .dataframe tbody tr th {\n",
       "        vertical-align: top;\n",
       "    }\n",
       "\n",
       "    .dataframe thead th {\n",
       "        text-align: right;\n",
       "    }\n",
       "</style>\n",
       "<table border=\"1\" class=\"dataframe\">\n",
       "  <thead>\n",
       "    <tr style=\"text-align: right;\">\n",
       "      <th></th>\n",
       "      <th>bathrooms</th>\n",
       "      <th>bedrooms</th>\n",
       "      <th>building_id</th>\n",
       "      <th>created</th>\n",
       "      <th>description</th>\n",
       "      <th>display_address</th>\n",
       "      <th>features</th>\n",
       "      <th>latitude</th>\n",
       "      <th>listing_id</th>\n",
       "      <th>longitude</th>\n",
       "      <th>manager_id</th>\n",
       "      <th>photos</th>\n",
       "      <th>price</th>\n",
       "      <th>street_address</th>\n",
       "      <th>interest_level</th>\n",
       "    </tr>\n",
       "  </thead>\n",
       "  <tbody>\n",
       "    <tr>\n",
       "      <th>4</th>\n",
       "      <td>1.0</td>\n",
       "      <td>1</td>\n",
       "      <td>8579a0b0d54db803821a35a4a615e97a</td>\n",
       "      <td>2016-06-16 05:55:27</td>\n",
       "      <td>Spacious 1 Bedroom 1 Bathroom in Williamsburg!...</td>\n",
       "      <td>145 Borinquen Place</td>\n",
       "      <td>[Dining Room, Pre-War, Laundry in Building, Di...</td>\n",
       "      <td>40.7108</td>\n",
       "      <td>7170325</td>\n",
       "      <td>-73.9539</td>\n",
       "      <td>a10db4590843d78c784171a107bdacb4</td>\n",
       "      <td>[https://photos.renthop.com/2/7170325_3bb5ac84...</td>\n",
       "      <td>2400</td>\n",
       "      <td>145 Borinquen Place</td>\n",
       "      <td>medium</td>\n",
       "    </tr>\n",
       "    <tr>\n",
       "      <th>6</th>\n",
       "      <td>1.0</td>\n",
       "      <td>2</td>\n",
       "      <td>b8e75fc949a6cd8225b455648a951712</td>\n",
       "      <td>2016-06-01 05:44:33</td>\n",
       "      <td>BRAND NEW GUT RENOVATED TRUE 2 BEDROOMFind you...</td>\n",
       "      <td>East 44th</td>\n",
       "      <td>[Doorman, Elevator, Laundry in Building, Dishw...</td>\n",
       "      <td>40.7513</td>\n",
       "      <td>7092344</td>\n",
       "      <td>-73.9722</td>\n",
       "      <td>955db33477af4f40004820b4aed804a0</td>\n",
       "      <td>[https://photos.renthop.com/2/7092344_7663c19a...</td>\n",
       "      <td>3800</td>\n",
       "      <td>230 East 44th</td>\n",
       "      <td>low</td>\n",
       "    </tr>\n",
       "    <tr>\n",
       "      <th>9</th>\n",
       "      <td>1.0</td>\n",
       "      <td>2</td>\n",
       "      <td>cd759a988b8f23924b5a2058d5ab2b49</td>\n",
       "      <td>2016-06-14 15:19:59</td>\n",
       "      <td>**FLEX 2 BEDROOM WITH FULL PRESSURIZED WALL**L...</td>\n",
       "      <td>East 56th Street</td>\n",
       "      <td>[Doorman, Elevator, Laundry in Building, Laund...</td>\n",
       "      <td>40.7575</td>\n",
       "      <td>7158677</td>\n",
       "      <td>-73.9625</td>\n",
       "      <td>c8b10a317b766204f08e613cef4ce7a0</td>\n",
       "      <td>[https://photos.renthop.com/2/7158677_c897a134...</td>\n",
       "      <td>3495</td>\n",
       "      <td>405 East 56th Street</td>\n",
       "      <td>medium</td>\n",
       "    </tr>\n",
       "  </tbody>\n",
       "</table>\n",
       "</div>"
      ],
      "text/plain": [
       "   bathrooms  bedrooms                       building_id              created  \\\n",
       "4        1.0         1  8579a0b0d54db803821a35a4a615e97a  2016-06-16 05:55:27   \n",
       "6        1.0         2  b8e75fc949a6cd8225b455648a951712  2016-06-01 05:44:33   \n",
       "9        1.0         2  cd759a988b8f23924b5a2058d5ab2b49  2016-06-14 15:19:59   \n",
       "\n",
       "                                         description      display_address  \\\n",
       "4  Spacious 1 Bedroom 1 Bathroom in Williamsburg!...  145 Borinquen Place   \n",
       "6  BRAND NEW GUT RENOVATED TRUE 2 BEDROOMFind you...            East 44th   \n",
       "9  **FLEX 2 BEDROOM WITH FULL PRESSURIZED WALL**L...     East 56th Street   \n",
       "\n",
       "                                            features  latitude  listing_id  \\\n",
       "4  [Dining Room, Pre-War, Laundry in Building, Di...   40.7108     7170325   \n",
       "6  [Doorman, Elevator, Laundry in Building, Dishw...   40.7513     7092344   \n",
       "9  [Doorman, Elevator, Laundry in Building, Laund...   40.7575     7158677   \n",
       "\n",
       "   longitude                        manager_id  \\\n",
       "4   -73.9539  a10db4590843d78c784171a107bdacb4   \n",
       "6   -73.9722  955db33477af4f40004820b4aed804a0   \n",
       "9   -73.9625  c8b10a317b766204f08e613cef4ce7a0   \n",
       "\n",
       "                                              photos  price  \\\n",
       "4  [https://photos.renthop.com/2/7170325_3bb5ac84...   2400   \n",
       "6  [https://photos.renthop.com/2/7092344_7663c19a...   3800   \n",
       "9  [https://photos.renthop.com/2/7158677_c897a134...   3495   \n",
       "\n",
       "         street_address interest_level  \n",
       "4   145 Borinquen Place         medium  \n",
       "6         230 East 44th            low  \n",
       "9  405 East 56th Street         medium  "
      ]
     },
     "execution_count": 5,
     "metadata": {},
     "output_type": "execute_result"
    }
   ],
   "source": [
    "dataset = pd.read_json(path_or_buf = PATH_RAW)\n",
    "dataset.head(n = 3) # shows first 3 rows"
   ]
  },
  {
   "cell_type": "markdown",
   "id": "2d99aaef",
   "metadata": {},
   "source": [
    "We see a bunch of nonnumeric fields, including some columns that actually look like lists of things packed together into a single string."
   ]
  },
  {
   "cell_type": "code",
   "execution_count": 6,
   "id": "e1807d96",
   "metadata": {},
   "outputs": [
    {
     "name": "stdout",
     "output_type": "stream",
     "text": [
      "<class 'pandas.core.frame.DataFrame'>\n",
      "Int64Index: 49352 entries, 4 to 124009\n",
      "Data columns (total 15 columns):\n",
      " #   Column           Non-Null Count  Dtype  \n",
      "---  ------           --------------  -----  \n",
      " 0   bathrooms        49352 non-null  float64\n",
      " 1   bedrooms         49352 non-null  int64  \n",
      " 2   building_id      49352 non-null  object \n",
      " 3   created          49352 non-null  object \n",
      " 4   description      49352 non-null  object \n",
      " 5   display_address  49352 non-null  object \n",
      " 6   features         49352 non-null  object \n",
      " 7   latitude         49352 non-null  float64\n",
      " 8   listing_id       49352 non-null  int64  \n",
      " 9   longitude        49352 non-null  float64\n",
      " 10  manager_id       49352 non-null  object \n",
      " 11  photos           49352 non-null  object \n",
      " 12  price            49352 non-null  int64  \n",
      " 13  street_address   49352 non-null  object \n",
      " 14  interest_level   49352 non-null  object \n",
      "dtypes: float64(3), int64(3), object(9)\n",
      "memory usage: 6.0+ MB\n"
     ]
    },
    {
     "data": {
      "text/plain": [
       "Index               0.376526\n",
       "bathrooms           0.376526\n",
       "bedrooms            0.376526\n",
       "building_id         3.943884\n",
       "created             3.576996\n",
       "description        31.572424\n",
       "display_address     3.323063\n",
       "features            5.109459\n",
       "latitude            0.376526\n",
       "listing_id          0.376526\n",
       "longitude           0.376526\n",
       "manager_id          4.188850\n",
       "photos              5.047096\n",
       "price               0.376526\n",
       "street_address      3.468158\n",
       "interest_level      2.859732\n",
       "dtype: float64"
      ]
     },
     "metadata": {},
     "output_type": "display_data"
    },
    {
     "name": "stdout",
     "output_type": "stream",
     "text": [
      "Total memory usage: 65.73 MB\n"
     ]
    }
   ],
   "source": [
    "memory_series = dataset.memory_usage(deep = True) / (1024 * 1024) # shows size in MB\n",
    "\n",
    "dataset.info()\n",
    "display(memory_series)\n",
    "print(f'Total memory usage: {memory_series.sum():.2f} MB')"
   ]
  },
  {
   "cell_type": "markdown",
   "id": "fdf3c16f",
   "metadata": {},
   "source": [
    "## A.2. Training and Evaluating an Initial Model"
   ]
  },
  {
   "cell_type": "code",
   "execution_count": 7,
   "id": "9e45d33a",
   "metadata": {},
   "outputs": [],
   "source": [
    "X, y = dataset[['bathrooms', 'bedrooms', 'longitude', 'latitude']], dataset['price']\n",
    "X = X.reset_index(drop = True)"
   ]
  },
  {
   "cell_type": "markdown",
   "id": "c862b30d",
   "metadata": {},
   "source": [
    "Because models cannot handle missing values, another standard check is to see if there are missing values in the dataset."
   ]
  },
  {
   "cell_type": "code",
   "execution_count": 8,
   "id": "2afe21df",
   "metadata": {},
   "outputs": [
    {
     "data": {
      "text/plain": [
       "bathrooms    False\n",
       "bedrooms     False\n",
       "longitude    False\n",
       "latitude     False\n",
       "dtype: bool"
      ]
     },
     "execution_count": 8,
     "metadata": {},
     "output_type": "execute_result"
    }
   ],
   "source": [
    "X.isnull().any()"
   ]
  },
  {
   "cell_type": "markdown",
   "id": "fe96d6d8",
   "metadata": {},
   "source": [
    "Next, we train the model and try to assess if there is a relationship to capture.\n",
    "\n",
    "A perfect training $R^2$ score is $1.0$, meaning that the model perfectly recalls the training data. \n",
    "An score of $0$ means the model performs no better than always just returning the average price. \n",
    "Unfortunately, a high training score (low error) doesn't tell us much. \n",
    "A high score just means that it's possible there is a relationship between features and target and captured by the model. \n",
    "If, however, we can't get a high score, it's an indication that there is no relationship or the model is simply unable to capture it. \n",
    "Random Forests are very powerful and can capture relationships even between random variables, so expect RF training scores to be high.\n",
    "\n",
    "Think about the score as measuring how well our model performs compared to a trivial model that always returns the average of the target (apartment price) for any requested prediction.\n",
    "Just remember that $1.0$ means perfect and $0.0$ means no better than returning the average value."
   ]
  },
  {
   "cell_type": "code",
   "execution_count": 9,
   "id": "22bb86ac",
   "metadata": {},
   "outputs": [
    {
     "name": "stdout",
     "output_type": "stream",
     "text": [
      "R^2 score: 0.8649317768028245\n"
     ]
    }
   ],
   "source": [
    "rf_model = RandomForestRegressor(n_jobs = -1)\n",
    "rf_model.fit(X = X, y = y)\n",
    "\n",
    "print(f'R^2 score: {rf_model.score(X = X, y = y)}')"
   ]
  },
  {
   "cell_type": "markdown",
   "id": "c55ebe22",
   "metadata": {},
   "source": [
    "However, we care about the prediction error on validation or test vectors, not the training error.\n",
    "However, RFs can efficiently estimate the prediction error while training the model, completely avoiding the need for separate validation sets. \n",
    "The error score is called the out-of-bag score and is the typical metric computed.\n",
    "Recall that RFs are a collection of decision trees, each of which is trained on a subset of the training data. \n",
    "The *out-of-bag (OOB)* score looks at the prediction accuracy for a particular record using only those trees that did not train on that record. \n",
    "Statisticians have shown that the out-of-bag score gives an excellent estimate of a model's generality, its true prediction error.\n",
    "\n",
    "The out-of-bag score is still not free computationally and we have to ask for the computation with an argument, `oob_score = True`, to the constructor of the RF. \n",
    "Here's how to train a model that computes and prints the OOB score."
   ]
  },
  {
   "cell_type": "code",
   "execution_count": 10,
   "id": "61317f50",
   "metadata": {},
   "outputs": [
    {
     "name": "stdout",
     "output_type": "stream",
     "text": [
      "R^2 score: 0.874619321455505, OOB score: -0.01280305382316671\n"
     ]
    }
   ],
   "source": [
    "rf_model = RandomForestRegressor(n_jobs = -1, oob_score = True)\n",
    "rf_model.fit(X = X.values, y = y.values)\n",
    "\n",
    "print(f'R^2 score: {rf_model.score(X = X.values, y = y.values)}, OOB score: {rf_model.oob_score_}')"
   ]
  },
  {
   "cell_type": "markdown",
   "id": "99e22665",
   "metadata": {},
   "source": [
    "That score is terrible, approximately as bad as just predicting the average apartment rent price.\n",
    "Let's verify that the mean absolute error (MAE) in dollars is also terrible."
   ]
  },
  {
   "cell_type": "code",
   "execution_count": 11,
   "id": "726c11f9",
   "metadata": {},
   "outputs": [
    {
     "name": "stdout",
     "output_type": "stream",
     "text": [
      "Highest Absolute Errors: [48098.44, 53483.24, 108157.0, 109449.17, 447829.8]\n",
      "Mean Absolute Error: 424.48$\n"
     ]
    }
   ],
   "source": [
    "X_train, X_validation, y_train, y_validation = train_test_split(X, y, test_size = 0.2)\n",
    "\n",
    "rf_model = RandomForestRegressor(n_jobs = -1, oob_score = True)\n",
    "rf_model.fit(X = X_train.values, y = y_train)\n",
    "\n",
    "predictions = rf_model.predict(X = X_validation.values)\n",
    "absolute_errors = np.round(np.abs(np.subtract(predictions, y_validation)), decimals = 2)\n",
    "\n",
    "print(f'Highest Absolute Errors: {list(np.sort(absolute_errors)[-5:])}')\n",
    "print(f'Mean Absolute Error: {mean_absolute_error(y_validation, predictions):.2f}$')"
   ]
  },
  {
   "cell_type": "markdown",
   "id": "ecccf086",
   "metadata": {},
   "source": [
    "This behavior is consistent with the low OOB score coming from the RF, indicating a model trained on the raw data set gets poor results."
   ]
  },
  {
   "cell_type": "markdown",
   "id": "72855886",
   "metadata": {},
   "source": [
    "## A.3. Exploring Data\n",
    "\n",
    "The general concept of exploring the dataset is called *exploratory data analysis (EDA)*. \n",
    "We're going to explore the data with the explicit purpose of finding anomalies. \n",
    "The focus of our model is on typically-priced apartments and only within New York City, which means we're going to look for extreme rent values and apartments outside of New York City.\n",
    "\n",
    "For the apartment data, it's safe to say that an apartment for less than $\\$1,000$ in New York City is probably missing some key elements like windows and doors, so that should be our lowest price. \n",
    "At the high-end, let's call $\\$10,000$ outside the range of \"reasonably priced\"."
   ]
  },
  {
   "cell_type": "code",
   "execution_count": 12,
   "id": "3fbbe81c",
   "metadata": {},
   "outputs": [
    {
     "data": {
      "text/html": [
       "<div>\n",
       "<style scoped>\n",
       "    .dataframe tbody tr th:only-of-type {\n",
       "        vertical-align: middle;\n",
       "    }\n",
       "\n",
       "    .dataframe tbody tr th {\n",
       "        vertical-align: top;\n",
       "    }\n",
       "\n",
       "    .dataframe thead th {\n",
       "        text-align: right;\n",
       "    }\n",
       "</style>\n",
       "<table border=\"1\" class=\"dataframe\">\n",
       "  <thead>\n",
       "    <tr style=\"text-align: right;\">\n",
       "      <th></th>\n",
       "      <th>bathrooms</th>\n",
       "      <th>bedrooms</th>\n",
       "      <th>longitude</th>\n",
       "      <th>latitude</th>\n",
       "      <th>price</th>\n",
       "    </tr>\n",
       "  </thead>\n",
       "  <tbody>\n",
       "    <tr>\n",
       "      <th>count</th>\n",
       "      <td>49352.00000</td>\n",
       "      <td>49352.000000</td>\n",
       "      <td>49352.000000</td>\n",
       "      <td>49352.000000</td>\n",
       "      <td>4.935200e+04</td>\n",
       "    </tr>\n",
       "    <tr>\n",
       "      <th>mean</th>\n",
       "      <td>1.21218</td>\n",
       "      <td>1.541640</td>\n",
       "      <td>-73.955716</td>\n",
       "      <td>40.741545</td>\n",
       "      <td>3.830174e+03</td>\n",
       "    </tr>\n",
       "    <tr>\n",
       "      <th>std</th>\n",
       "      <td>0.50142</td>\n",
       "      <td>1.115018</td>\n",
       "      <td>1.177912</td>\n",
       "      <td>0.638535</td>\n",
       "      <td>2.206687e+04</td>\n",
       "    </tr>\n",
       "    <tr>\n",
       "      <th>min</th>\n",
       "      <td>0.00000</td>\n",
       "      <td>0.000000</td>\n",
       "      <td>-118.271000</td>\n",
       "      <td>0.000000</td>\n",
       "      <td>4.300000e+01</td>\n",
       "    </tr>\n",
       "    <tr>\n",
       "      <th>25%</th>\n",
       "      <td>1.00000</td>\n",
       "      <td>1.000000</td>\n",
       "      <td>-73.991700</td>\n",
       "      <td>40.728300</td>\n",
       "      <td>2.500000e+03</td>\n",
       "    </tr>\n",
       "    <tr>\n",
       "      <th>50%</th>\n",
       "      <td>1.00000</td>\n",
       "      <td>1.000000</td>\n",
       "      <td>-73.977900</td>\n",
       "      <td>40.751800</td>\n",
       "      <td>3.150000e+03</td>\n",
       "    </tr>\n",
       "    <tr>\n",
       "      <th>75%</th>\n",
       "      <td>1.00000</td>\n",
       "      <td>2.000000</td>\n",
       "      <td>-73.954800</td>\n",
       "      <td>40.774300</td>\n",
       "      <td>4.100000e+03</td>\n",
       "    </tr>\n",
       "    <tr>\n",
       "      <th>max</th>\n",
       "      <td>10.00000</td>\n",
       "      <td>8.000000</td>\n",
       "      <td>0.000000</td>\n",
       "      <td>44.883500</td>\n",
       "      <td>4.490000e+06</td>\n",
       "    </tr>\n",
       "  </tbody>\n",
       "</table>\n",
       "</div>"
      ],
      "text/plain": [
       "         bathrooms      bedrooms     longitude      latitude         price\n",
       "count  49352.00000  49352.000000  49352.000000  49352.000000  4.935200e+04\n",
       "mean       1.21218      1.541640    -73.955716     40.741545  3.830174e+03\n",
       "std        0.50142      1.115018      1.177912      0.638535  2.206687e+04\n",
       "min        0.00000      0.000000   -118.271000      0.000000  4.300000e+01\n",
       "25%        1.00000      1.000000    -73.991700     40.728300  2.500000e+03\n",
       "50%        1.00000      1.000000    -73.977900     40.751800  3.150000e+03\n",
       "75%        1.00000      2.000000    -73.954800     40.774300  4.100000e+03\n",
       "max       10.00000      8.000000      0.000000     44.883500  4.490000e+06"
      ]
     },
     "execution_count": 12,
     "metadata": {},
     "output_type": "execute_result"
    }
   ],
   "source": [
    "data = dataset[['bathrooms', 'bedrooms', 'longitude', 'latitude', 'price']]\n",
    "data.describe()"
   ]
  },
  {
   "cell_type": "markdown",
   "id": "b9d9370a",
   "metadata": {},
   "source": [
    "A number of anomalies pop out from the minimum and maximum for each column.\n",
    "There's a place with $10$ bathrooms and another with $8$ bedrooms. \n",
    "There is a reference to longitude $0$, which is the prime meridian (Greenwich, England), and a reference to latitude zero, the equator. \n",
    "Oh, and let's not forget the apartment that costs $\\$4,490,000$ per month or place that costs $\\$43$ per month.\n",
    "\n",
    "Values that are very different in magnitude from the others in the feature or target space (range) are called *outliers*. \n",
    "Outliers could be the result of noise, but some data sets have outliers that are correct values, as is the case here. \n",
    "In New York City, it's certain that there are some hyper-expensive apartments."
   ]
  },
  {
   "cell_type": "code",
   "execution_count": 13,
   "id": "66463569",
   "metadata": {},
   "outputs": [
    {
     "data": {
      "text/plain": [
       "32611     4490000\n",
       "12168     1150000\n",
       "57803     1070000\n",
       "55437     1070000\n",
       "123877     135000\n",
       "Name: price, dtype: int64"
      ]
     },
     "execution_count": 13,
     "metadata": {},
     "output_type": "execute_result"
    }
   ],
   "source": [
    "# shows 5 highest renting prices in the dataset\n",
    "data['price'].sort_values(ascending = False).head(n = 5)"
   ]
  },
  {
   "cell_type": "markdown",
   "id": "4dce9ff7",
   "metadata": {},
   "source": [
    "Another exploratory technique is to ask pandas for the count of each unique value in a particular column, such as the counts of apartments with specific numbers of bathrooms and bedrooms."
   ]
  },
  {
   "cell_type": "code",
   "execution_count": 14,
   "id": "e920d85c",
   "metadata": {},
   "outputs": [
    {
     "data": {
      "text/plain": [
       "0     9475\n",
       "1    15752\n",
       "2    14623\n",
       "3     7276\n",
       "4     1929\n",
       "5      247\n",
       "6       46\n",
       "7        2\n",
       "8        2\n",
       "Name: bedrooms, dtype: int64"
      ]
     },
     "metadata": {},
     "output_type": "display_data"
    },
    {
     "data": {
      "text/plain": [
       "0.0       313\n",
       "1.0     39422\n",
       "1.5       645\n",
       "2.0      7660\n",
       "2.5       277\n",
       "3.0       745\n",
       "3.5        70\n",
       "4.0       159\n",
       "4.5        29\n",
       "5.0        20\n",
       "5.5         5\n",
       "6.0         4\n",
       "6.5         1\n",
       "7.0         1\n",
       "10.0        1\n",
       "Name: bathrooms, dtype: int64"
      ]
     },
     "metadata": {},
     "output_type": "display_data"
    },
    {
     "data": {
      "image/png": "[encoded data removed]",
      "text/plain": [
       "<Figure size 1080x504 with 2 Axes>"
      ]
     },
     "metadata": {},
     "output_type": "display_data"
    }
   ],
   "source": [
    "display(data['bedrooms'].value_counts().sort_index(), data['bathrooms'].value_counts().sort_index())\n",
    "\n",
    "figure, axes = plt.subplots(nrows = 1, ncols = 2, figsize = (15, 7))\n",
    "\n",
    "axes[0].hist(data['bedrooms'], bins = 8, color = color_palette['orange'], edgecolor = 'black')\n",
    "axes[0].set_xticks(np.arange(start = 0, stop = 9, step = 1))\n",
    "axes[0].set_xlabel('Number of bedrooms')\n",
    "axes[0].set_ylabel('Number of apartments')\n",
    "\n",
    "axes[1].hist(data['bathrooms'], bins = 10, color = color_palette['yellow'], edgecolor = 'black')\n",
    "axes[1].set_xticks(np.arange(start = 0, stop = 11, step = .5))\n",
    "axes[1].set_xlabel('Number of bathrooms')\n",
    "axes[1].set_ylabel('Number of apartments')\n",
    "\n",
    "plt.tight_layout()\n",
    "plt.show()"
   ]
  },
  {
   "cell_type": "code",
   "execution_count": 15,
   "id": "e136bb9c",
   "metadata": {},
   "outputs": [
    {
     "data": {
      "image/png": "[encoded data removed]",
      "text/plain": [
       "<Figure size 1080x504 with 1 Axes>"
      ]
     },
     "metadata": {},
     "output_type": "display_data"
    }
   ],
   "source": [
    "figure, axes = plt.subplots(figsize = (15, 7))\n",
    "axes.scatter(data['latitude'], data['longitude'], color = color_palette['redorange'])\n",
    "\n",
    "axes.set_xlabel('Apartment latitude')\n",
    "axes.set_ylabel('Apartlemt longitude')\n",
    "\n",
    "plt.show()"
   ]
  },
  {
   "cell_type": "markdown",
   "id": "30707004",
   "metadata": {},
   "source": [
    "From this chart we see that we have some inconsistent information regarding apartment location.\n",
    "It seems that some apartments are outside of New York City, and additonally some are on the (0, 0) coordinate.\n",
    "\n",
    "Furthermore, noise and outliers are potential problems because they can lead to inconsistencies. An inconsistency is a set of similar or identical feature vectors with much different target values."
   ]
  },
  {
   "cell_type": "code",
   "execution_count": 16,
   "id": "19d374be",
   "metadata": {},
   "outputs": [
    {
     "data": {
      "text/html": [
       "<div>\n",
       "<style scoped>\n",
       "    .dataframe tbody tr th:only-of-type {\n",
       "        vertical-align: middle;\n",
       "    }\n",
       "\n",
       "    .dataframe tbody tr th {\n",
       "        vertical-align: top;\n",
       "    }\n",
       "\n",
       "    .dataframe thead th {\n",
       "        text-align: right;\n",
       "    }\n",
       "</style>\n",
       "<table border=\"1\" class=\"dataframe\">\n",
       "  <thead>\n",
       "    <tr style=\"text-align: right;\">\n",
       "      <th></th>\n",
       "      <th>bathrooms</th>\n",
       "      <th>bedrooms</th>\n",
       "      <th>longitude</th>\n",
       "      <th>latitude</th>\n",
       "      <th>price</th>\n",
       "    </tr>\n",
       "  </thead>\n",
       "  <tbody>\n",
       "    <tr>\n",
       "      <th>78664</th>\n",
       "      <td>1.0</td>\n",
       "      <td>1</td>\n",
       "      <td>-73.9843</td>\n",
       "      <td>40.7648</td>\n",
       "      <td>2300</td>\n",
       "    </tr>\n",
       "    <tr>\n",
       "      <th>37413</th>\n",
       "      <td>1.0</td>\n",
       "      <td>1</td>\n",
       "      <td>-73.9843</td>\n",
       "      <td>40.7652</td>\n",
       "      <td>2400</td>\n",
       "    </tr>\n",
       "    <tr>\n",
       "      <th>23107</th>\n",
       "      <td>1.0</td>\n",
       "      <td>1</td>\n",
       "      <td>-73.9843</td>\n",
       "      <td>40.7652</td>\n",
       "      <td>3350</td>\n",
       "    </tr>\n",
       "    <tr>\n",
       "      <th>97552</th>\n",
       "      <td>1.0</td>\n",
       "      <td>1</td>\n",
       "      <td>-73.9843</td>\n",
       "      <td>40.7652</td>\n",
       "      <td>3400</td>\n",
       "    </tr>\n",
       "    <tr>\n",
       "      <th>55437</th>\n",
       "      <td>1.0</td>\n",
       "      <td>1</td>\n",
       "      <td>-73.9844</td>\n",
       "      <td>40.7676</td>\n",
       "      <td>1070000</td>\n",
       "    </tr>\n",
       "    <tr>\n",
       "      <th>57803</th>\n",
       "      <td>1.0</td>\n",
       "      <td>1</td>\n",
       "      <td>-73.9844</td>\n",
       "      <td>40.7676</td>\n",
       "      <td>1070000</td>\n",
       "    </tr>\n",
       "  </tbody>\n",
       "</table>\n",
       "</div>"
      ],
      "text/plain": [
       "       bathrooms  bedrooms  longitude  latitude    price\n",
       "78664        1.0         1   -73.9843   40.7648     2300\n",
       "37413        1.0         1   -73.9843   40.7652     2400\n",
       "23107        1.0         1   -73.9843   40.7652     3350\n",
       "97552        1.0         1   -73.9843   40.7652     3400\n",
       "55437        1.0         1   -73.9844   40.7676  1070000\n",
       "57803        1.0         1   -73.9844   40.7676  1070000"
      ]
     },
     "execution_count": 16,
     "metadata": {},
     "output_type": "execute_result"
    }
   ],
   "source": [
    "outliers = data[\n",
    "    (data['latitude'] > 40.764) & (data['latitude'] < 40.7678) & \n",
    "    (data['longitude'] >= -73.9844) & (data['longitude'] <= -73.9842) &\n",
    "    (data['bathrooms'] == 1) & (data['bedrooms'] == 1)\n",
    "]\n",
    "\n",
    "outliers.sort_values(by = 'price', axis = 'rows')"
   ]
  },
  {
   "cell_type": "markdown",
   "id": "b68d8332",
   "metadata": {},
   "source": [
    "Those ridiculously-priced apartments could be errors or simply outliers, but no matter how powerful a machine learning model is, such inconsistent data leads to inaccurate predictions. \n",
    "RFs predict the average price for all apartments whose features cluster them together, and as such they are heavily affected by outliers. "
   ]
  },
  {
   "cell_type": "markdown",
   "id": "20988da6",
   "metadata": {},
   "source": [
    "## A.4. Denoising\n",
    "\n",
    "To improve data quality we are going to:\n",
    "\n",
    "  1. Clip the rent prices (remove the lowest and the highest 1%)\n",
    "  \n",
    "  2. Remove apartments located on Equator or Greenwich\n",
    "  \n",
    "  3. Remove apartments outside New York City"
   ]
  },
  {
   "cell_type": "code",
   "execution_count": 17,
   "id": "b6441da0",
   "metadata": {},
   "outputs": [],
   "source": [
    "# 1. clip the rent prices\n",
    "low, high = np.percentile(a = data['price'], q = (1, 99))\n",
    "data = data[(data['price'] > low) & (data['price'] < high)]"
   ]
  },
  {
   "cell_type": "code",
   "execution_count": 18,
   "id": "bc2e1d06",
   "metadata": {},
   "outputs": [],
   "source": [
    "# 2. remove apartments located on Equator or Greenwich\n",
    "mask = (data['latitude'] != 0) & (data['longitude'] != 0)\n",
    "data = data[mask]"
   ]
  },
  {
   "cell_type": "code",
   "execution_count": 19,
   "id": "bccafdbd",
   "metadata": {},
   "outputs": [],
   "source": [
    "# 3. remove apartments outside New York City\n",
    "data = data[\n",
    "    (data['latitude'] > 40.55) & (data['latitude'] < 40.94) &                \n",
    "    (data['longitude']>-74.1) & (data['longitude']<-73.67)\n",
    "]"
   ]
  },
  {
   "cell_type": "markdown",
   "id": "1bc91eb3",
   "metadata": {},
   "source": [
    "## A.5. Comparing Models Trained on Denoised Data\n",
    "\n",
    "Now, we are going to train the model using the denoised dataset."
   ]
  },
  {
   "cell_type": "code",
   "execution_count": 20,
   "id": "87581631",
   "metadata": {},
   "outputs": [
    {
     "name": "stdout",
     "output_type": "stream",
     "text": [
      "R^2 score: 0.9524820862771973, OOB score: 0.8751803143424622\n"
     ]
    }
   ],
   "source": [
    "X, y = data.drop('price', axis = 1), data['price']\n",
    "\n",
    "rf_model = RandomForestRegressor(n_jobs = -1, oob_score = True)\n",
    "rf_model.fit(X = X.values, y = y)\n",
    "\n",
    "print(f'R^2 score: {rf_model.score(X = X.values, y = y)}, OOB score: {rf_model.oob_score_}')"
   ]
  },
  {
   "cell_type": "markdown",
   "id": "05f0595e",
   "metadata": {},
   "source": [
    "Great! We've now got a prediction model that gets a decent estimated prediction error.\n",
    "The OOB score tells us estimation of the validation error. \n",
    "So, let's check that by splitting the dataset into training and validation datasets."
   ]
  },
  {
   "cell_type": "code",
   "execution_count": 21,
   "id": "0ca83ae7",
   "metadata": {},
   "outputs": [
    {
     "name": "stdout",
     "output_type": "stream",
     "text": [
      "Highest Absolute Errors: [5653.5, 5702.83, 5758.08, 5758.08, 6335.82]\n",
      "Mean Absolute Error: 315.83$\n",
      "R^2 score: 0.866050105771832\n"
     ]
    }
   ],
   "source": [
    "X_train, X_validation, y_train, y_validation = train_test_split(X, y, test_size = 0.2)\n",
    "\n",
    "rf_model = RandomForestRegressor(n_jobs = -1, oob_score = True)\n",
    "rf_model.fit(X = X_train.values, y = y_train)\n",
    "\n",
    "predictions = rf_model.predict(X = X_validation.values)\n",
    "absolute_errors = np.round(np.abs(np.subtract(predictions, y_validation)), decimals = 2)\n",
    "\n",
    "print(f'Highest Absolute Errors: {list(np.sort(absolute_errors)[-5:])}')\n",
    "print(f'Mean Absolute Error: {mean_absolute_error(y_validation, predictions):.2f}$')\n",
    "print(f'R^2 score: {rf_model.score(X = X_validation.values, y = y_validation)}')"
   ]
  },
  {
   "cell_type": "markdown",
   "id": "da78c4cc",
   "metadata": {},
   "source": [
    "The OOB score is pretty good as it's close to 1.0. \n",
    "(Recall that a score of 0 indicates our model does know better than simply guessing the average rent price for all apartments and 1.0 means a perfect predictor of rent price.)\n",
    "Finally, let's calculate feature importances."
   ]
  },
  {
   "cell_type": "code",
   "execution_count": 22,
   "id": "63812e59",
   "metadata": {},
   "outputs": [],
   "source": [
    "def calculate_feature_importances(model, X, y, feature_names, n_repeats = 10):\n",
    "    \n",
    "    importances = permutation_importance(model, X = X, y = y, n_repeats = n_repeats, n_jobs = -1)\n",
    "\n",
    "    importances = pd.DataFrame(\n",
    "        data    = np.hstack((importances['importances_mean'].reshape(-1, 1), importances['importances_std'].reshape(-1, 1))), \n",
    "        index   = feature_names,\n",
    "        columns = ['importances_mean', 'importances_std']\n",
    "    )\n",
    "\n",
    "    return importances.sort_values(by = 'importances_mean', axis = 0, ascending = False)\n",
    "\n",
    "def plot_importances(importances):\n",
    "    \n",
    "    figure, axes = plt.subplots(figsize = (15, 8))\n",
    "\n",
    "    axes.bar(\n",
    "        x = importances.index, \n",
    "        height = importances['importances_mean'],\n",
    "        width = 0.4,\n",
    "        color = color_palette['orange'],\n",
    "        edgecolor = 'black'\n",
    "    )\n",
    "\n",
    "    for index, value in enumerate(importances['importances_mean']):\n",
    "        axes.text(index - 0.06, value + 0.01, str(round(value,2)), fontweight = 'bold')\n",
    "\n",
    "    axes.set_ylim(bottom = 0, top = 1)\n",
    "    axes.set_ylabel('Mean accuracy decrease', fontdict = {'fontsize': 14})\n",
    "    axes.set_title('Feature importances using permutation on full model', fontdict = {'fontsize': 14})\n",
    "\n",
    "    plt.show()"
   ]
  },
  {
   "cell_type": "code",
   "execution_count": 23,
   "id": "ec76d831",
   "metadata": {},
   "outputs": [
    {
     "data": {
      "image/png": "[encoded data removed]",
      "text/plain": [
       "<Figure size 1080x576 with 1 Axes>"
      ]
     },
     "metadata": {},
     "output_type": "display_data"
    }
   ],
   "source": [
    "importances = calculate_feature_importances(rf_model, X.values, y, X.columns)\n",
    "plot_importances(importances)"
   ]
  },
  {
   "cell_type": "markdown",
   "id": "e602ff24",
   "metadata": {},
   "source": [
    "It seems that OOB score indeed provides a correct estimation of error on the validation dataset without actually using it."
   ]
  },
  {
   "cell_type": "markdown",
   "id": "719fb828",
   "metadata": {},
   "source": [
    "## A.6. Dealing with Categorical Features\n",
    "\n",
    "Above, we denoised the dataset by doing the following:\n",
    "\n",
    "  1. Clip the rent prices (remove the lowest and the highest 1%)\n",
    "  \n",
    "  2. Remove apartments located on Equator or Greenwich\n",
    "  \n",
    "  3. Remove apartments outside New York City\n",
    "  \n",
    "Let's apply that on the entire dataset."
   ]
  },
  {
   "cell_type": "code",
   "execution_count": 24,
   "id": "462d54af",
   "metadata": {},
   "outputs": [],
   "source": [
    "# 1. clip the rent prices (remove the lowest and the highest 1%)\n",
    "low, high = np.percentile(a = dataset['price'], q = (1, 99))\n",
    "dataset = dataset[(dataset['price'] > low) & (dataset['price'] < high)]\n",
    "\n",
    "# 2. remove apartments located on Equator or Greenwich\n",
    "mask = (dataset['latitude'] != 0) & (dataset['longitude'] != 0)\n",
    "dataset = dataset[mask]\n",
    "\n",
    "# 3. remove apartments outside New York City\n",
    "dataset = dataset[\n",
    "    (dataset['latitude'] > 40.55) & (dataset['latitude'] < 40.94) &                \n",
    "    (dataset['longitude']>-74.1) & (dataset['longitude']<-73.67)\n",
    "]\n",
    "\n",
    "dataset = dataset.reset_index(drop = True)"
   ]
  },
  {
   "cell_type": "markdown",
   "id": "25346b9d",
   "metadata": {},
   "source": [
    "The `interest_level` feature is a categorical variable that seems to encode interest in an apartment, no doubt taken from webpage activity logs. \n",
    "It's a categorical variable because it takes on values from a finite set of choices: `low`, `medium`, and `high`. More specifically, `interest_level` is an ordinal categorical variable, which means that the values can be ordered even if they are not actual numbers."
   ]
  },
  {
   "cell_type": "code",
   "execution_count": 25,
   "id": "86f513fc",
   "metadata": {},
   "outputs": [
    {
     "data": {
      "text/plain": [
       "1    33627\n",
       "2    11111\n",
       "3     3555\n",
       "Name: interest_level, dtype: int64"
      ]
     },
     "execution_count": 25,
     "metadata": {},
     "output_type": "execute_result"
    }
   ],
   "source": [
    "dataset['interest_level'] = dataset['interest_level'].replace(to_replace = {'low': 1, 'medium': 2, 'high': 3})\n",
    "dataset['interest_level'] = dataset['interest_level'].astype(dtype = np.int8)\n",
    "\n",
    "dataset['interest_level'].value_counts()"
   ]
  },
  {
   "cell_type": "markdown",
   "id": "656ba667",
   "metadata": {},
   "source": [
    "Ordinal categorical variables are simple to encode numerically. \n",
    "Unfortunately, there's another kind of categorical variable called a nominal variable for which there is no meaningful order between the category values (e.g `manager_id`, `building_id`, etc.).\n",
    "Without an order between categories, it's hard to encode nominal variables as numbers in a meaningful way, particularly when there are very many category values.\n",
    "\n",
    "We will apply two techniques to encode nominal categorical variables:\n",
    "\n",
    "  1.  Label encoding simply converts each category to a numeric value, while ignoring the fact that the categories are not really ordered.\n",
    "  \n",
    "  2. Frequency encoding converts categories to the frequencies with which they appear in the training."
   ]
  },
  {
   "cell_type": "code",
   "execution_count": 26,
   "id": "d1b1b253",
   "metadata": {},
   "outputs": [
    {
     "data": {
      "text/plain": [
       "((8546,), (7298,))"
      ]
     },
     "metadata": {},
     "output_type": "display_data"
    }
   ],
   "source": [
    "# label encoding\n",
    "display((dataset['display_address'].unique().shape, dataset['building_id'].unique().shape))\n",
    "\n",
    "dataset['display_address'] = dataset['display_address'].astype('category').cat.codes\n",
    "dataset['building_id'] =  dataset['building_id'].astype('category').cat.codes"
   ]
  },
  {
   "cell_type": "code",
   "execution_count": 27,
   "id": "10616e5d",
   "metadata": {},
   "outputs": [
    {
     "data": {
      "text/plain": [
       "(3422,)"
      ]
     },
     "metadata": {},
     "output_type": "display_data"
    }
   ],
   "source": [
    "# frequency encoding\n",
    "display(dataset['manager_id'].unique().shape)\n",
    "\n",
    "mapper = dataset['manager_id'].value_counts()\n",
    "dataset['manager_id'] = dataset['manager_id'].replace(to_replace = mapper).astype(dtype = np.int16)"
   ]
  },
  {
   "cell_type": "code",
   "execution_count": 28,
   "id": "da7e8b2e",
   "metadata": {},
   "outputs": [
    {
     "name": "stdout",
     "output_type": "stream",
     "text": [
      "R^2 score: 0.968321483873883, OOB score: 0.8726454123909572\n"
     ]
    }
   ],
   "source": [
    "X, y = dataset[['bedrooms', 'bathrooms', 'latitude', 'longitude', 'display_address', 'building_id', 'interest_level']], dataset['price']\n",
    "\n",
    "rf_regressor = RandomForestRegressor(n_jobs = -1, oob_score = True)\n",
    "rf_regressor.fit(X = X.values, y = y)\n",
    "\n",
    "print(f'R^2 score: {rf_regressor.score(X = X.values, y = y)}, OOB score: {rf_regressor.oob_score_}')"
   ]
  },
  {
   "cell_type": "code",
   "execution_count": 29,
   "id": "0ffc78a1",
   "metadata": {},
   "outputs": [
    {
     "data": {
      "image/png": "[encoded data removed]",
      "text/plain": [
       "<Figure size 1080x576 with 1 Axes>"
      ]
     },
     "metadata": {},
     "output_type": "display_data"
    }
   ],
   "source": [
    "importances = calculate_feature_importances(rf_regressor, X.values, y, X.columns)\n",
    "plot_importances(importances)"
   ]
  },
  {
   "cell_type": "markdown",
   "id": "064393cd",
   "metadata": {},
   "source": [
    "The feature importance plot shows that features `display_address` and `building_id` are not predictive.\n",
    "We can conclude that, for this data set, label encoding and frequency encoding of high-cardinality categorical variables is not helpful. \n",
    "These encoding techniques could, however, be useful on other data set so it's worth learning them."
   ]
  },
  {
   "cell_type": "markdown",
   "id": "e25755bb",
   "metadata": {},
   "source": [
    "The apartment data set also has some variables that are both nonnumeric and noncategorical, `description` and `features`. \n",
    "Such arbitrary strings have no obvious numerical encoding, but we can extract bits of information from them to create new features. \n",
    "For example, an apartment with parking, doorman, dishwasher, and so on might fetch a higher price so let's synthesize some `boolean` features derived from string features."
   ]
  },
  {
   "cell_type": "code",
   "execution_count": 30,
   "id": "ed37d26e",
   "metadata": {},
   "outputs": [],
   "source": [
    "dataset['description'] = dataset['description'].fillna(value = '')\n",
    "dataset['description'] = dataset['description'].str.lower()        \n",
    "\n",
    "dataset['features'] = dataset['features'].fillna(value = '')   # fill missing values with empty strings\n",
    "dataset['features'] = dataset['features'].astype('str').str.lower() # normalize to lower case"
   ]
  },
  {
   "cell_type": "code",
   "execution_count": 31,
   "id": "dc1aecac",
   "metadata": {},
   "outputs": [],
   "source": [
    "dataset['renovated'] = dataset['description'].str.contains('renov')\n",
    "\n",
    "for apartment_feature in ['doorman', 'parking', 'garage', 'laundry', 'elevator', 'fitness center', 'dishwasher']:\n",
    "    dataset[apartment_feature] = dataset['features'].str.contains(apartment_feature)"
   ]
  },
  {
   "cell_type": "markdown",
   "id": "ab15d674",
   "metadata": {},
   "source": [
    "There's not much we can do with the list of photo URLs in the `photos` string column, but the number of photos might be slightly predictive of price, so let's create a feature for that as well."
   ]
  },
  {
   "cell_type": "code",
   "execution_count": 32,
   "id": "be85e36d",
   "metadata": {},
   "outputs": [],
   "source": [
    "dataset[\"number_of_photos\"] = dataset[\"photos\"].astype('str').apply(lambda x: len(x.split(\",\")))\n",
    "dataset = dataset.drop(labels = ['description', 'features', 'listing_id', 'photos', 'street_address'], axis = 1)"
   ]
  },
  {
   "cell_type": "code",
   "execution_count": 33,
   "id": "d6da51d4",
   "metadata": {},
   "outputs": [
    {
     "name": "stdout",
     "output_type": "stream",
     "text": [
      "R^2 score: 0.9812010741884876, OOB score: 0.871144504651341\n"
     ]
    }
   ],
   "source": [
    "features = [\n",
    "    'bathrooms', 'bedrooms', 'building_id', 'display_address',\n",
    "    'latitude', 'longitude', 'manager_id', 'interest_level',  \n",
    "    'renovated', 'doorman', 'parking', 'garage', \n",
    "    'laundry', 'elevator', 'fitness center', 'dishwasher', \n",
    "    'number_of_photos'\n",
    "]\n",
    "\n",
    "X, y = dataset[features].values, dataset['price'].values\n",
    "\n",
    "rf_regressor = RandomForestRegressor(n_jobs = -1, oob_score = True)\n",
    "rf_regressor.fit(X = X, y = y)\n",
    "\n",
    "print(f'R^2 score: {rf_regressor.score(X = X, y = y)}, OOB score: {rf_regressor.oob_score_}')"
   ]
  },
  {
   "cell_type": "markdown",
   "id": "dd43556b",
   "metadata": {},
   "source": [
    "As we can see, the accuracy of the model did not improve significantly meaning that these derived features are not strong predictors of price.\n",
    "Nevertheless, it is worth learning about these techniques since they may be useful in for other problems."
   ]
  },
  {
   "cell_type": "markdown",
   "id": "5f7f19bc",
   "metadata": {},
   "source": [
    "Perhaps there is some predictive power in the ratio of bedrooms to bathrooms, so let's try synthesizing a new column that is the ratio of two numeric columns."
   ]
  },
  {
   "cell_type": "code",
   "execution_count": 34,
   "id": "85788cdb",
   "metadata": {},
   "outputs": [
    {
     "name": "stdout",
     "output_type": "stream",
     "text": [
      "R^2 score: 0.9811939520422599, OOB score: 0.870284486661953\n"
     ]
    }
   ],
   "source": [
    "X, y = dataset[features], dataset['price']\n",
    "X.assign(bedrooms_to_bathrooms_ratio = X['bedrooms'] / (X['bathrooms'] + 1))\n",
    "X, y = X.values, y.values\n",
    "\n",
    "rf_regressor = RandomForestRegressor(n_jobs = -1, oob_score = True)\n",
    "rf_regressor.fit(X = X, y = y)\n",
    "\n",
    "print(f'R^2 score: {rf_regressor.score(X = X, y = y)}, OOB score: {rf_regressor.oob_score_}')"
   ]
  },
  {
   "cell_type": "markdown",
   "id": "d615d6d1",
   "metadata": {},
   "source": [
    "Combining numerical columns is a useful technique to keep in mind, but unfortunately this combination doesn't affect our model significantly here."
   ]
  },
  {
   "cell_type": "markdown",
   "id": "8e7f8da5",
   "metadata": {},
   "source": [
    "**Notes**:\n",
    "\n",
    " - We show some techniques on how to explore and better understand the data.\n",
    " - We show how to denoise the data and deal with categorical data.\n",
    " - We explain OOB Random Forest score and feature importance calculation."
   ]
  }
 ],
 "metadata": {
  "kernelspec": {
   "display_name": "Python 3 (ipykernel)",
   "language": "python",
   "name": "python3"
  },
  "language_info": {
   "codemirror_mode": {
    "name": "ipython",
    "version": 3
   },
   "file_extension": ".py",
   "mimetype": "text/x-python",
   "name": "python",
   "nbconvert_exporter": "python",
   "pygments_lexer": "ipython3",
   "version": "3.8.10"
  }
 },
 "nbformat": 4,
 "nbformat_minor": 5
}
